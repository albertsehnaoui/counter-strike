{
  "nbformat": 4,
  "nbformat_minor": 0,
  "metadata": {
    "kernelspec": {
      "display_name": "Python 3",
      "language": "python",
      "name": "python3"
    },
    "language_info": {
      "codemirror_mode": {
        "name": "ipython",
        "version": 3
      },
      "file_extension": ".py",
      "mimetype": "text/x-python",
      "name": "python",
      "nbconvert_exporter": "python",
      "pygments_lexer": "ipython3",
      "version": "3.8.3"
    },
    "colab": {
      "name": "7Final-Ftest-STD_j.ipynb",
      "provenance": [],
      "collapsed_sections": [
        "WXHxzklD8LfW"
      ],
      "toc_visible": true
    },
    "accelerator": "TPU"
  },
  "cells": [
    {
      "cell_type": "markdown",
      "metadata": {
        "id": "UwPiqMym8LcH"
      },
      "source": [
        "# A-Team Machine Learning Project\n",
        "\n",
        "### Counter Strike : Global Operations"
      ]
    },
    {
      "cell_type": "markdown",
      "metadata": {
        "id": "GrTwaBHK8LcI"
      },
      "source": [
        "Quick overview of the Notebook:\n",
        "\n",
        "1. Data import & **Pre-Processing** (import / *EDA* / *factorizing* / nulls / outliers) **!!! factorize also test data**\n",
        "\n",
        "2. **Train-test** split (one-hot-encoding of categoricals / **standardization** / split)\n",
        "\n",
        "3. **Feature Engineering** (run benchmark logit & feature importance of basic model // *filtering methods* (chi^2, IG) & rerun benchmark // *embedded methods* (lasso), rerun benchmark & extract selected features\n",
        "\n",
        "4. First **Model**: Apply PCA & run LDA \n",
        "\n",
        "5. Challenger Models: selected ML algorithms w final df\n",
        "\n",
        "6. Final Model: **Ensemble Method** Voting/StackingClassifier\n"
      ]
    },
    {
      "cell_type": "code",
      "metadata": {
        "id": "DdYS35md8LcI"
      },
      "source": [
        "# Google Drive setup\n",
        "\n",
        "#from google.colab import drive\n",
        "#drive.mount('/content/drive')"
      ],
      "execution_count": null,
      "outputs": []
    },
    {
      "cell_type": "markdown",
      "metadata": {
        "id": "8dYaOPBa8LcM"
      },
      "source": [
        "# 1. Data import & Pre-Processing"
      ]
    },
    {
      "cell_type": "markdown",
      "metadata": {
        "id": "HuYktdMw8LcM"
      },
      "source": [
        "## 1.1 Import"
      ]
    },
    {
      "cell_type": "markdown",
      "metadata": {
        "id": "HxkjitgN8LcN"
      },
      "source": [
        "### 1.1.1 Import libraries"
      ]
    },
    {
      "cell_type": "code",
      "metadata": {
        "scrolled": true,
        "id": "pv7ETiBC8LcN"
      },
      "source": [
        "#! conda install scikit-learn -y\n",
        "#! conda update -n base conda -y"
      ],
      "execution_count": null,
      "outputs": []
    },
    {
      "cell_type": "code",
      "metadata": {
        "id": "QXblQY0t8LcQ",
        "outputId": "5a0361ca-7870-43c0-e4cf-d935d84e1e2c",
        "colab": {
          "base_uri": "https://localhost:8080/",
          "height": 17
        }
      },
      "source": [
        "from IPython.core.display import display, HTML\n",
        "\n",
        "display(HTML(\"<style>.container { width:100% !important; }</style>\")) # Increase cell width\n",
        "display(HTML(\"<style>.rendered_html { font-size: 16px; }</style>\")) # Increase font size\n",
        "\n",
        "# Larger figures\n",
        "\n",
        "import matplotlib\n",
        "import matplotlib.pyplot as plt\n",
        "import seaborn as sns\n",
        "%matplotlib inline  \n",
        "\n",
        "import pandas as pd\n",
        "import numpy as np\n",
        "import math\n",
        "\n",
        "from sklearn.model_selection import train_test_split\n",
        "from sklearn import linear_model\n",
        "from sklearn.metrics import roc_curve, roc_auc_score, accuracy_score\n",
        "from sklearn.preprocessing import OneHotEncoder\n",
        "from sklearn.model_selection import train_test_split\n",
        "\n",
        "from sklearn.metrics import plot_confusion_matrix, accuracy_score"
      ],
      "execution_count": null,
      "outputs": [
        {
          "output_type": "display_data",
          "data": {
            "text/html": [
              "<style>.container { width:100% !important; }</style>"
            ],
            "text/plain": [
              "<IPython.core.display.HTML object>"
            ]
          },
          "metadata": {
            "tags": []
          }
        },
        {
          "output_type": "display_data",
          "data": {
            "text/html": [
              "<style>.rendered_html { font-size: 16px; }</style>"
            ],
            "text/plain": [
              "<IPython.core.display.HTML object>"
            ]
          },
          "metadata": {
            "tags": []
          }
        }
      ]
    },
    {
      "cell_type": "markdown",
      "metadata": {
        "id": "mdpcGFnf8LcT"
      },
      "source": [
        "### 1.1.2 Load Dataset"
      ]
    },
    {
      "cell_type": "code",
      "metadata": {
        "scrolled": false,
        "id": "UJd0HAcw8LcU",
        "outputId": "a1964b24-338b-432f-8894-64e42a1bd495",
        "colab": {
          "base_uri": "https://localhost:8080/",
          "height": 253
        }
      },
      "source": [
        "# df_train = pd.read_csv('./Data/training_set.csv')\n",
        "# df_test = pd.read_csv('./Data/test_set.csv')\n",
        "\n",
        "#df_train = pd.read_csv('/content/drive/Shared drives/ML2 project/training_set.csv') # for Collab\n",
        "#df_test = pd.read_csv('/content/drive/Shared drives/ML2 project/test_set.csv') # for Collab\n",
        "df_train = pd.read_csv('training_set.csv')\n",
        "df_test = pd.read_csv('test_set.csv')\n",
        "\n",
        "results_df = pd.DataFrame(columns=['Approach', 'Accuracy']) # create df to store results of models\n",
        "\n",
        "df_test.head()"
      ],
      "execution_count": null,
      "outputs": [
        {
          "output_type": "execute_result",
          "data": {
            "text/html": [
              "<div>\n",
              "<style scoped>\n",
              "    .dataframe tbody tr th:only-of-type {\n",
              "        vertical-align: middle;\n",
              "    }\n",
              "\n",
              "    .dataframe tbody tr th {\n",
              "        vertical-align: top;\n",
              "    }\n",
              "\n",
              "    .dataframe thead th {\n",
              "        text-align: right;\n",
              "    }\n",
              "</style>\n",
              "<table border=\"1\" class=\"dataframe\">\n",
              "  <thead>\n",
              "    <tr style=\"text-align: right;\">\n",
              "      <th></th>\n",
              "      <th>time_left</th>\n",
              "      <th>ct_score</th>\n",
              "      <th>t_score</th>\n",
              "      <th>map</th>\n",
              "      <th>bomb_planted</th>\n",
              "      <th>ct_health</th>\n",
              "      <th>t_health</th>\n",
              "      <th>ct_armor</th>\n",
              "      <th>t_armor</th>\n",
              "      <th>ct_money</th>\n",
              "      <th>t_money</th>\n",
              "      <th>ct_helmets</th>\n",
              "      <th>t_helmets</th>\n",
              "      <th>ct_defuse_kits</th>\n",
              "      <th>ct_players_alive</th>\n",
              "      <th>t_players_alive</th>\n",
              "      <th>ct_weapon_ak47</th>\n",
              "      <th>t_weapon_ak47</th>\n",
              "      <th>ct_weapon_aug</th>\n",
              "      <th>t_weapon_aug</th>\n",
              "      <th>ct_weapon_awp</th>\n",
              "      <th>t_weapon_awp</th>\n",
              "      <th>ct_weapon_bizon</th>\n",
              "      <th>t_weapon_bizon</th>\n",
              "      <th>ct_weapon_cz75auto</th>\n",
              "      <th>t_weapon_cz75auto</th>\n",
              "      <th>ct_weapon_elite</th>\n",
              "      <th>t_weapon_elite</th>\n",
              "      <th>ct_weapon_famas</th>\n",
              "      <th>t_weapon_famas</th>\n",
              "      <th>ct_weapon_g3sg1</th>\n",
              "      <th>t_weapon_g3sg1</th>\n",
              "      <th>ct_weapon_galilar</th>\n",
              "      <th>t_weapon_galilar</th>\n",
              "      <th>ct_weapon_glock</th>\n",
              "      <th>t_weapon_glock</th>\n",
              "      <th>ct_weapon_m249</th>\n",
              "      <th>t_weapon_m249</th>\n",
              "      <th>ct_weapon_m4a1s</th>\n",
              "      <th>t_weapon_m4a1s</th>\n",
              "      <th>...</th>\n",
              "      <th>ct_weapon_p90</th>\n",
              "      <th>t_weapon_p90</th>\n",
              "      <th>ct_weapon_r8revolver</th>\n",
              "      <th>t_weapon_r8revolver</th>\n",
              "      <th>ct_weapon_sawedoff</th>\n",
              "      <th>t_weapon_sawedoff</th>\n",
              "      <th>ct_weapon_scar20</th>\n",
              "      <th>t_weapon_scar20</th>\n",
              "      <th>ct_weapon_sg553</th>\n",
              "      <th>t_weapon_sg553</th>\n",
              "      <th>ct_weapon_ssg08</th>\n",
              "      <th>t_weapon_ssg08</th>\n",
              "      <th>ct_weapon_ump45</th>\n",
              "      <th>t_weapon_ump45</th>\n",
              "      <th>ct_weapon_xm1014</th>\n",
              "      <th>t_weapon_xm1014</th>\n",
              "      <th>ct_weapon_deagle</th>\n",
              "      <th>t_weapon_deagle</th>\n",
              "      <th>ct_weapon_fiveseven</th>\n",
              "      <th>t_weapon_fiveseven</th>\n",
              "      <th>ct_weapon_usps</th>\n",
              "      <th>t_weapon_usps</th>\n",
              "      <th>ct_weapon_p250</th>\n",
              "      <th>t_weapon_p250</th>\n",
              "      <th>ct_weapon_p2000</th>\n",
              "      <th>t_weapon_p2000</th>\n",
              "      <th>ct_weapon_tec9</th>\n",
              "      <th>t_weapon_tec9</th>\n",
              "      <th>ct_grenade_hegrenade</th>\n",
              "      <th>t_grenade_hegrenade</th>\n",
              "      <th>ct_grenade_flashbang</th>\n",
              "      <th>t_grenade_flashbang</th>\n",
              "      <th>ct_grenade_smokegrenade</th>\n",
              "      <th>t_grenade_smokegrenade</th>\n",
              "      <th>ct_grenade_incendiarygrenade</th>\n",
              "      <th>t_grenade_incendiarygrenade</th>\n",
              "      <th>ct_grenade_molotovgrenade</th>\n",
              "      <th>t_grenade_molotovgrenade</th>\n",
              "      <th>ct_grenade_decoygrenade</th>\n",
              "      <th>t_grenade_decoygrenade</th>\n",
              "    </tr>\n",
              "  </thead>\n",
              "  <tbody>\n",
              "    <tr>\n",
              "      <th>0</th>\n",
              "      <td>175.00</td>\n",
              "      <td>11.0</td>\n",
              "      <td>4.0</td>\n",
              "      <td>de_vertigo</td>\n",
              "      <td>False</td>\n",
              "      <td>500.0</td>\n",
              "      <td>500.0</td>\n",
              "      <td>400.0</td>\n",
              "      <td>300.0</td>\n",
              "      <td>700.0</td>\n",
              "      <td>550.0</td>\n",
              "      <td>0.0</td>\n",
              "      <td>0.0</td>\n",
              "      <td>1.0</td>\n",
              "      <td>5.0</td>\n",
              "      <td>5.0</td>\n",
              "      <td>0.0</td>\n",
              "      <td>0.0</td>\n",
              "      <td>0.0</td>\n",
              "      <td>0.0</td>\n",
              "      <td>0.0</td>\n",
              "      <td>0.0</td>\n",
              "      <td>0.0</td>\n",
              "      <td>0.0</td>\n",
              "      <td>0.0</td>\n",
              "      <td>0.0</td>\n",
              "      <td>0.0</td>\n",
              "      <td>0.0</td>\n",
              "      <td>0.0</td>\n",
              "      <td>0.0</td>\n",
              "      <td>0.0</td>\n",
              "      <td>0.0</td>\n",
              "      <td>0.0</td>\n",
              "      <td>0.0</td>\n",
              "      <td>0.0</td>\n",
              "      <td>5.0</td>\n",
              "      <td>0.0</td>\n",
              "      <td>0.0</td>\n",
              "      <td>0.0</td>\n",
              "      <td>0.0</td>\n",
              "      <td>...</td>\n",
              "      <td>0.0</td>\n",
              "      <td>0.0</td>\n",
              "      <td>0.0</td>\n",
              "      <td>0.0</td>\n",
              "      <td>0.0</td>\n",
              "      <td>0.0</td>\n",
              "      <td>0.0</td>\n",
              "      <td>0.0</td>\n",
              "      <td>0.0</td>\n",
              "      <td>0.0</td>\n",
              "      <td>0.0</td>\n",
              "      <td>0.0</td>\n",
              "      <td>0.0</td>\n",
              "      <td>0.0</td>\n",
              "      <td>0.0</td>\n",
              "      <td>0.0</td>\n",
              "      <td>0.0</td>\n",
              "      <td>0.0</td>\n",
              "      <td>0.0</td>\n",
              "      <td>0.0</td>\n",
              "      <td>5.0</td>\n",
              "      <td>0.0</td>\n",
              "      <td>0.0</td>\n",
              "      <td>0.0</td>\n",
              "      <td>0.0</td>\n",
              "      <td>0.0</td>\n",
              "      <td>0.0</td>\n",
              "      <td>0.0</td>\n",
              "      <td>0.0</td>\n",
              "      <td>0.0</td>\n",
              "      <td>0.0</td>\n",
              "      <td>1.0</td>\n",
              "      <td>0.0</td>\n",
              "      <td>1.0</td>\n",
              "      <td>0.0</td>\n",
              "      <td>0.0</td>\n",
              "      <td>0.0</td>\n",
              "      <td>0.0</td>\n",
              "      <td>0.0</td>\n",
              "      <td>1.0</td>\n",
              "    </tr>\n",
              "    <tr>\n",
              "      <th>1</th>\n",
              "      <td>94.95</td>\n",
              "      <td>8.0</td>\n",
              "      <td>4.0</td>\n",
              "      <td>de_dust2</td>\n",
              "      <td>False</td>\n",
              "      <td>400.0</td>\n",
              "      <td>450.0</td>\n",
              "      <td>400.0</td>\n",
              "      <td>477.0</td>\n",
              "      <td>10300.0</td>\n",
              "      <td>6900.0</td>\n",
              "      <td>4.0</td>\n",
              "      <td>5.0</td>\n",
              "      <td>4.0</td>\n",
              "      <td>4.0</td>\n",
              "      <td>5.0</td>\n",
              "      <td>0.0</td>\n",
              "      <td>1.0</td>\n",
              "      <td>1.0</td>\n",
              "      <td>0.0</td>\n",
              "      <td>1.0</td>\n",
              "      <td>1.0</td>\n",
              "      <td>0.0</td>\n",
              "      <td>0.0</td>\n",
              "      <td>0.0</td>\n",
              "      <td>0.0</td>\n",
              "      <td>0.0</td>\n",
              "      <td>0.0</td>\n",
              "      <td>0.0</td>\n",
              "      <td>0.0</td>\n",
              "      <td>0.0</td>\n",
              "      <td>0.0</td>\n",
              "      <td>0.0</td>\n",
              "      <td>0.0</td>\n",
              "      <td>0.0</td>\n",
              "      <td>2.0</td>\n",
              "      <td>0.0</td>\n",
              "      <td>0.0</td>\n",
              "      <td>1.0</td>\n",
              "      <td>0.0</td>\n",
              "      <td>...</td>\n",
              "      <td>0.0</td>\n",
              "      <td>0.0</td>\n",
              "      <td>0.0</td>\n",
              "      <td>0.0</td>\n",
              "      <td>0.0</td>\n",
              "      <td>0.0</td>\n",
              "      <td>0.0</td>\n",
              "      <td>0.0</td>\n",
              "      <td>0.0</td>\n",
              "      <td>0.0</td>\n",
              "      <td>0.0</td>\n",
              "      <td>0.0</td>\n",
              "      <td>0.0</td>\n",
              "      <td>0.0</td>\n",
              "      <td>0.0</td>\n",
              "      <td>0.0</td>\n",
              "      <td>0.0</td>\n",
              "      <td>3.0</td>\n",
              "      <td>0.0</td>\n",
              "      <td>0.0</td>\n",
              "      <td>4.0</td>\n",
              "      <td>0.0</td>\n",
              "      <td>0.0</td>\n",
              "      <td>0.0</td>\n",
              "      <td>0.0</td>\n",
              "      <td>0.0</td>\n",
              "      <td>0.0</td>\n",
              "      <td>0.0</td>\n",
              "      <td>2.0</td>\n",
              "      <td>0.0</td>\n",
              "      <td>4.0</td>\n",
              "      <td>2.0</td>\n",
              "      <td>2.0</td>\n",
              "      <td>2.0</td>\n",
              "      <td>3.0</td>\n",
              "      <td>0.0</td>\n",
              "      <td>0.0</td>\n",
              "      <td>0.0</td>\n",
              "      <td>0.0</td>\n",
              "      <td>0.0</td>\n",
              "    </tr>\n",
              "    <tr>\n",
              "      <th>2</th>\n",
              "      <td>14.93</td>\n",
              "      <td>14.0</td>\n",
              "      <td>10.0</td>\n",
              "      <td>de_dust2</td>\n",
              "      <td>False</td>\n",
              "      <td>366.0</td>\n",
              "      <td>100.0</td>\n",
              "      <td>395.0</td>\n",
              "      <td>98.0</td>\n",
              "      <td>2350.0</td>\n",
              "      <td>2600.0</td>\n",
              "      <td>3.0</td>\n",
              "      <td>1.0</td>\n",
              "      <td>3.0</td>\n",
              "      <td>4.0</td>\n",
              "      <td>1.0</td>\n",
              "      <td>0.0</td>\n",
              "      <td>1.0</td>\n",
              "      <td>0.0</td>\n",
              "      <td>0.0</td>\n",
              "      <td>1.0</td>\n",
              "      <td>0.0</td>\n",
              "      <td>0.0</td>\n",
              "      <td>0.0</td>\n",
              "      <td>0.0</td>\n",
              "      <td>0.0</td>\n",
              "      <td>0.0</td>\n",
              "      <td>0.0</td>\n",
              "      <td>0.0</td>\n",
              "      <td>0.0</td>\n",
              "      <td>0.0</td>\n",
              "      <td>0.0</td>\n",
              "      <td>0.0</td>\n",
              "      <td>0.0</td>\n",
              "      <td>0.0</td>\n",
              "      <td>1.0</td>\n",
              "      <td>0.0</td>\n",
              "      <td>0.0</td>\n",
              "      <td>2.0</td>\n",
              "      <td>0.0</td>\n",
              "      <td>...</td>\n",
              "      <td>0.0</td>\n",
              "      <td>0.0</td>\n",
              "      <td>0.0</td>\n",
              "      <td>0.0</td>\n",
              "      <td>0.0</td>\n",
              "      <td>0.0</td>\n",
              "      <td>0.0</td>\n",
              "      <td>0.0</td>\n",
              "      <td>0.0</td>\n",
              "      <td>0.0</td>\n",
              "      <td>0.0</td>\n",
              "      <td>0.0</td>\n",
              "      <td>0.0</td>\n",
              "      <td>0.0</td>\n",
              "      <td>0.0</td>\n",
              "      <td>0.0</td>\n",
              "      <td>0.0</td>\n",
              "      <td>0.0</td>\n",
              "      <td>0.0</td>\n",
              "      <td>0.0</td>\n",
              "      <td>2.0</td>\n",
              "      <td>0.0</td>\n",
              "      <td>0.0</td>\n",
              "      <td>0.0</td>\n",
              "      <td>2.0</td>\n",
              "      <td>0.0</td>\n",
              "      <td>0.0</td>\n",
              "      <td>0.0</td>\n",
              "      <td>0.0</td>\n",
              "      <td>0.0</td>\n",
              "      <td>1.0</td>\n",
              "      <td>0.0</td>\n",
              "      <td>1.0</td>\n",
              "      <td>0.0</td>\n",
              "      <td>0.0</td>\n",
              "      <td>0.0</td>\n",
              "      <td>0.0</td>\n",
              "      <td>1.0</td>\n",
              "      <td>0.0</td>\n",
              "      <td>0.0</td>\n",
              "    </tr>\n",
              "    <tr>\n",
              "      <th>3</th>\n",
              "      <td>46.27</td>\n",
              "      <td>12.0</td>\n",
              "      <td>15.0</td>\n",
              "      <td>de_nuke</td>\n",
              "      <td>False</td>\n",
              "      <td>400.0</td>\n",
              "      <td>446.0</td>\n",
              "      <td>399.0</td>\n",
              "      <td>434.0</td>\n",
              "      <td>300.0</td>\n",
              "      <td>27000.0</td>\n",
              "      <td>3.0</td>\n",
              "      <td>5.0</td>\n",
              "      <td>3.0</td>\n",
              "      <td>4.0</td>\n",
              "      <td>5.0</td>\n",
              "      <td>0.0</td>\n",
              "      <td>1.0</td>\n",
              "      <td>0.0</td>\n",
              "      <td>0.0</td>\n",
              "      <td>0.0</td>\n",
              "      <td>1.0</td>\n",
              "      <td>0.0</td>\n",
              "      <td>0.0</td>\n",
              "      <td>1.0</td>\n",
              "      <td>0.0</td>\n",
              "      <td>0.0</td>\n",
              "      <td>0.0</td>\n",
              "      <td>1.0</td>\n",
              "      <td>0.0</td>\n",
              "      <td>0.0</td>\n",
              "      <td>0.0</td>\n",
              "      <td>0.0</td>\n",
              "      <td>0.0</td>\n",
              "      <td>0.0</td>\n",
              "      <td>2.0</td>\n",
              "      <td>0.0</td>\n",
              "      <td>0.0</td>\n",
              "      <td>0.0</td>\n",
              "      <td>0.0</td>\n",
              "      <td>...</td>\n",
              "      <td>0.0</td>\n",
              "      <td>0.0</td>\n",
              "      <td>0.0</td>\n",
              "      <td>0.0</td>\n",
              "      <td>0.0</td>\n",
              "      <td>0.0</td>\n",
              "      <td>0.0</td>\n",
              "      <td>0.0</td>\n",
              "      <td>0.0</td>\n",
              "      <td>3.0</td>\n",
              "      <td>0.0</td>\n",
              "      <td>0.0</td>\n",
              "      <td>0.0</td>\n",
              "      <td>0.0</td>\n",
              "      <td>0.0</td>\n",
              "      <td>0.0</td>\n",
              "      <td>1.0</td>\n",
              "      <td>1.0</td>\n",
              "      <td>0.0</td>\n",
              "      <td>0.0</td>\n",
              "      <td>2.0</td>\n",
              "      <td>0.0</td>\n",
              "      <td>0.0</td>\n",
              "      <td>2.0</td>\n",
              "      <td>0.0</td>\n",
              "      <td>0.0</td>\n",
              "      <td>0.0</td>\n",
              "      <td>0.0</td>\n",
              "      <td>0.0</td>\n",
              "      <td>0.0</td>\n",
              "      <td>1.0</td>\n",
              "      <td>5.0</td>\n",
              "      <td>0.0</td>\n",
              "      <td>1.0</td>\n",
              "      <td>0.0</td>\n",
              "      <td>0.0</td>\n",
              "      <td>0.0</td>\n",
              "      <td>2.0</td>\n",
              "      <td>0.0</td>\n",
              "      <td>0.0</td>\n",
              "    </tr>\n",
              "    <tr>\n",
              "      <th>4</th>\n",
              "      <td>37.07</td>\n",
              "      <td>18.0</td>\n",
              "      <td>18.0</td>\n",
              "      <td>de_train</td>\n",
              "      <td>False</td>\n",
              "      <td>100.0</td>\n",
              "      <td>200.0</td>\n",
              "      <td>100.0</td>\n",
              "      <td>200.0</td>\n",
              "      <td>10100.0</td>\n",
              "      <td>20950.0</td>\n",
              "      <td>1.0</td>\n",
              "      <td>2.0</td>\n",
              "      <td>1.0</td>\n",
              "      <td>1.0</td>\n",
              "      <td>2.0</td>\n",
              "      <td>0.0</td>\n",
              "      <td>0.0</td>\n",
              "      <td>0.0</td>\n",
              "      <td>0.0</td>\n",
              "      <td>0.0</td>\n",
              "      <td>0.0</td>\n",
              "      <td>0.0</td>\n",
              "      <td>0.0</td>\n",
              "      <td>0.0</td>\n",
              "      <td>0.0</td>\n",
              "      <td>0.0</td>\n",
              "      <td>0.0</td>\n",
              "      <td>0.0</td>\n",
              "      <td>0.0</td>\n",
              "      <td>0.0</td>\n",
              "      <td>0.0</td>\n",
              "      <td>0.0</td>\n",
              "      <td>0.0</td>\n",
              "      <td>0.0</td>\n",
              "      <td>2.0</td>\n",
              "      <td>0.0</td>\n",
              "      <td>0.0</td>\n",
              "      <td>0.0</td>\n",
              "      <td>0.0</td>\n",
              "      <td>...</td>\n",
              "      <td>0.0</td>\n",
              "      <td>0.0</td>\n",
              "      <td>0.0</td>\n",
              "      <td>0.0</td>\n",
              "      <td>0.0</td>\n",
              "      <td>0.0</td>\n",
              "      <td>0.0</td>\n",
              "      <td>0.0</td>\n",
              "      <td>0.0</td>\n",
              "      <td>2.0</td>\n",
              "      <td>0.0</td>\n",
              "      <td>0.0</td>\n",
              "      <td>0.0</td>\n",
              "      <td>0.0</td>\n",
              "      <td>0.0</td>\n",
              "      <td>0.0</td>\n",
              "      <td>0.0</td>\n",
              "      <td>0.0</td>\n",
              "      <td>0.0</td>\n",
              "      <td>0.0</td>\n",
              "      <td>1.0</td>\n",
              "      <td>0.0</td>\n",
              "      <td>0.0</td>\n",
              "      <td>0.0</td>\n",
              "      <td>0.0</td>\n",
              "      <td>0.0</td>\n",
              "      <td>0.0</td>\n",
              "      <td>0.0</td>\n",
              "      <td>0.0</td>\n",
              "      <td>1.0</td>\n",
              "      <td>1.0</td>\n",
              "      <td>0.0</td>\n",
              "      <td>0.0</td>\n",
              "      <td>0.0</td>\n",
              "      <td>0.0</td>\n",
              "      <td>0.0</td>\n",
              "      <td>0.0</td>\n",
              "      <td>1.0</td>\n",
              "      <td>0.0</td>\n",
              "      <td>0.0</td>\n",
              "    </tr>\n",
              "  </tbody>\n",
              "</table>\n",
              "<p>5 rows × 96 columns</p>\n",
              "</div>"
            ],
            "text/plain": [
              "   time_left  ct_score  ...  ct_grenade_decoygrenade t_grenade_decoygrenade\n",
              "0     175.00      11.0  ...                      0.0                    1.0\n",
              "1      94.95       8.0  ...                      0.0                    0.0\n",
              "2      14.93      14.0  ...                      0.0                    0.0\n",
              "3      46.27      12.0  ...                      0.0                    0.0\n",
              "4      37.07      18.0  ...                      0.0                    0.0\n",
              "\n",
              "[5 rows x 96 columns]"
            ]
          },
          "metadata": {
            "tags": []
          },
          "execution_count": 81
        }
      ]
    },
    {
      "cell_type": "code",
      "metadata": {
        "id": "LN5l9kSc8LcW"
      },
      "source": [
        "df_train['round_winner'].replace(['CT','T'],[1.0,0.0],inplace=True)\n",
        "\n",
        "df_train['bomb_planted'].replace([True,False],[1.0,0.0],inplace=True)\n",
        "df_test['bomb_planted'].replace([True,False],[1.0,0.0],inplace=True)"
      ],
      "execution_count": null,
      "outputs": []
    },
    {
      "cell_type": "code",
      "metadata": {
        "id": "4CHliroK8LcZ",
        "outputId": "d75bbe4a-d273-4c1c-efe9-ddb3f378ba2f",
        "colab": {
          "base_uri": "https://localhost:8080/"
        }
      },
      "source": [
        "# We see that maybe some columns have only \"0\"\n",
        "array_zeros= np.where(df_train.sum()==0)\n",
        "list_only_zero = df_train.columns[list(array_zeros)]\n",
        "list_only_zero"
      ],
      "execution_count": null,
      "outputs": [
        {
          "output_type": "stream",
          "text": [
            "/usr/local/lib/python3.6/dist-packages/pandas/core/indexes/base.py:4107: FutureWarning: Using a non-tuple sequence for multidimensional indexing is deprecated; use `arr[tuple(seq)]` instead of `arr[seq]`. In the future this will be interpreted as an array index, `arr[np.array(seq)]`, which will result either in an error or a different result.\n",
            "  result = getitem(key)\n"
          ],
          "name": "stderr"
        },
        {
          "output_type": "execute_result",
          "data": {
            "text/plain": [
              "Index(['ct_weapon_bizon', 'ct_weapon_g3sg1', 'ct_weapon_m249', 't_weapon_m249',\n",
              "       'ct_weapon_negev', 'ct_weapon_r8revolver', 'ct_weapon_sawedoff'],\n",
              "      dtype='object')"
            ]
          },
          "metadata": {
            "tags": []
          },
          "execution_count": 83
        }
      ]
    },
    {
      "cell_type": "markdown",
      "metadata": {
        "id": "Q4r5VmBN8Lcb"
      },
      "source": [
        "# if we do this before Rayan's it will not work"
      ]
    },
    {
      "cell_type": "code",
      "metadata": {
        "id": "Y6dPTArQ8Lcc",
        "outputId": "86999d3d-9dc8-4803-a105-a3fa2dec0c6f",
        "colab": {
          "base_uri": "https://localhost:8080/"
        }
      },
      "source": [
        "# Check all the columns with unique values\n",
        "lista = []\n",
        "for col in df_train.columns:\n",
        "    lista.append(len(df_train.loc[:,col].unique()))\n",
        "\n",
        "print(\"There are %d columns to be removed\" %sum(pd.Series(lista) == 1.0))\n",
        "filter_unique= pd.Series(lista) != 1.0\n",
        "print(\"Columns %s\" %df_train.columns[~filter_unique])\n",
        "\n",
        "variables_exclude = df_train.columns[~filter_unique]"
      ],
      "execution_count": null,
      "outputs": [
        {
          "output_type": "stream",
          "text": [
            "There are 7 columns to be removed\n",
            "Columns Index(['ct_weapon_bizon', 'ct_weapon_g3sg1', 'ct_weapon_m249', 't_weapon_m249',\n",
            "       'ct_weapon_negev', 'ct_weapon_r8revolver', 'ct_weapon_sawedoff'],\n",
            "      dtype='object')\n"
          ],
          "name": "stdout"
        }
      ]
    },
    {
      "cell_type": "code",
      "metadata": {
        "id": "vdP8tRnR8Lce"
      },
      "source": [
        "# For test set, since we do not have the last column round_winner\n",
        "filter_unique2 = filter_unique[:-1]"
      ],
      "execution_count": null,
      "outputs": []
    },
    {
      "cell_type": "code",
      "metadata": {
        "id": "PXpMi8KG8Lcg"
      },
      "source": [
        "# We remove those unique values columns\n",
        "df_train = df_train.loc[:,df_train.columns[filter_unique]]\n",
        "\n",
        "df_test = df_test.loc[:,df_test.columns[filter_unique2]]"
      ],
      "execution_count": null,
      "outputs": []
    },
    {
      "cell_type": "code",
      "metadata": {
        "id": "t8XLJlVQ8Lci",
        "outputId": "f28b3961-9daa-4742-86de-d8a334f25857",
        "colab": {
          "base_uri": "https://localhost:8080/"
        }
      },
      "source": [
        "print(df_train.shape)\n",
        "print(df_test.shape)"
      ],
      "execution_count": null,
      "outputs": [
        {
          "output_type": "stream",
          "text": [
            "(82014, 90)\n",
            "(40396, 89)\n"
          ],
          "name": "stdout"
        }
      ]
    },
    {
      "cell_type": "markdown",
      "metadata": {
        "id": "XIGP6vZ08LdD"
      },
      "source": [
        "## 1.3 Factorization of variables"
      ]
    },
    {
      "cell_type": "code",
      "metadata": {
        "id": "pE8HRwRU8LdE"
      },
      "source": [
        "#### create zero columns for all features to follow\n",
        "\n",
        "### make sure to create features for all X datasets"
      ],
      "execution_count": null,
      "outputs": []
    },
    {
      "cell_type": "code",
      "metadata": {
        "id": "s-KBfAWX8LdG"
      },
      "source": [
        "## go through variables and define which should be categoricals (check w .dtypes)\n",
        "\n",
        "# hr_df['sales'] = hr_df.sales.astype('category') ## change categoric variables to 'category'"
      ],
      "execution_count": null,
      "outputs": []
    },
    {
      "cell_type": "code",
      "metadata": {
        "id": "AScXdRml8LdI",
        "outputId": "915e3fc7-c4bb-495c-c0e0-6925ddfbb97a",
        "colab": {
          "base_uri": "https://localhost:8080/"
        }
      },
      "source": [
        "variables_exclude #variables previously excluded"
      ],
      "execution_count": null,
      "outputs": [
        {
          "output_type": "execute_result",
          "data": {
            "text/plain": [
              "Index(['ct_weapon_bizon', 'ct_weapon_g3sg1', 'ct_weapon_m249', 't_weapon_m249',\n",
              "       'ct_weapon_negev', 'ct_weapon_r8revolver', 'ct_weapon_sawedoff'],\n",
              "      dtype='object')"
            ]
          },
          "metadata": {
            "tags": []
          },
          "execution_count": 103
        }
      ]
    },
    {
      "cell_type": "code",
      "metadata": {
        "id": "Q2T-jtED8LdK"
      },
      "source": [
        "# Create weapon classes (pistol / assault / SMG / sniper / shotgun)\n",
        "# Create lists for each weapon class & team\n",
        "\n",
        "t_pistols = df_train['t_weapon_deagle'] + df_train['t_weapon_cz75auto'] + df_train['t_weapon_glock'] + df_train['t_weapon_r8revolver']\\\n",
        "+ df_train['t_weapon_fiveseven'] + df_train['t_weapon_usps'] + df_train['t_weapon_p250'] + df_train['t_weapon_p2000']\n",
        "#df_train['t_pistol'] = t_pistols\n",
        "\n",
        "ct_pistols = df_train['ct_weapon_deagle'] + df_train['ct_weapon_cz75auto'] + df_train['ct_weapon_glock']\\\n",
        "+ df_train['ct_weapon_fiveseven'] + df_train['ct_weapon_usps'] + df_train['ct_weapon_p250'] + df_train['ct_weapon_p2000']\n",
        "#+ df_train['ct_weapon_r8revolver']\n",
        "#df_train['ct_pistol'] = ct_pistols\n",
        "\n",
        "t_assault = df_train['t_weapon_ak47'] +df_train ['t_weapon_aug'] + df_train['t_weapon_bizon'] +df_train['t_weapon_famas'] + df_train['t_weapon_galilar']\\\n",
        "+ df_train['t_weapon_m4a1s'] + df_train['t_weapon_m4a4'] + df_train['t_weapon_negev'] + df_train['t_weapon_sg553']\\\n",
        "+ df_train['t_weapon_ump45'] + df_train['t_weapon_tec9']\n",
        "#+ df_train['t_weapon_m249']\n",
        "#df_train['t_assault'] = t_assault\n",
        "\n",
        "ct_assault = df_train['ct_weapon_ak47'] +df_train ['ct_weapon_aug'] +df_train['ct_weapon_famas'] + df_train['ct_weapon_galilar']\\\n",
        "+ df_train['ct_weapon_m4a1s'] + df_train['ct_weapon_m4a4'] + df_train['ct_weapon_sg553']\\\n",
        "+ df_train['ct_weapon_ump45'] + df_train['ct_weapon_tec9']\n",
        "#+ df_train['ct_weapon_m249'] + df_train['ct_weapon_bizon'] + df_train['ct_weapon_negev'] \n",
        "#df_train['ct_assault'] = ct_assault\n",
        "\n",
        "t_smg = df_train['t_weapon_mac10'] + df_train['t_weapon_mag7'] + df_train['t_weapon_mp5sd'] + df_train['t_weapon_mp7'] \\\n",
        "+ df_train['t_weapon_mp9']+ df_train['t_weapon_p90']\n",
        "#df_train['t_smg'] = t_smg\n",
        "\n",
        "ct_smg = df_train['ct_weapon_mac10'] + df_train['ct_weapon_mag7'] + df_train['ct_weapon_mp5sd'] + df_train['ct_weapon_mp7'] \\\n",
        "+ df_train['ct_weapon_mp9']+ df_train['ct_weapon_p90']\n",
        "#df_train['ct_smg'] = ct_smg\n",
        "\n",
        "t_sniper = df_train['t_weapon_awp'] + df_train['t_weapon_g3sg1'] + df_train['t_weapon_scar20'] + df_train['t_weapon_ssg08']\n",
        "#df_train['t_sniper'] = t_sniper\n",
        "\n",
        "ct_sniper = df_train['ct_weapon_awp'] + df_train['ct_weapon_scar20'] + df_train['ct_weapon_ssg08']\n",
        "#+ df_train['ct_weapon_g3sg1'] \n",
        "#df_train['ct_sniper'] = ct_sniper\n",
        "\n",
        "t_shotgun = df_train['t_weapon_nova'] + df_train['t_weapon_sawedoff'] + df_train['t_weapon_xm1014']\n",
        "#df_train['t_shotgun'] = t_shotgun\n",
        "\n",
        "ct_shotgun = df_train['ct_weapon_nova'] + df_train['ct_weapon_xm1014']\n",
        "# + df_train['ct_weapon_sawedoff']\n",
        "#df_train['ct_shotgun'] = ct_shotgun\n",
        "\n",
        "t_explosives = df_train['t_grenade_hegrenade'] + df_train['t_grenade_molotovgrenade'] + df_train['t_grenade_smokegrenade']\\\n",
        " + df_train['t_grenade_flashbang'] + df_train['t_grenade_incendiarygrenade'] + df_train['t_grenade_decoygrenade']\n",
        "#df_train['t_explosive'] = t_explosives\n",
        "\n",
        "ct_explosives = df_train['ct_grenade_hegrenade'] + df_train['ct_grenade_molotovgrenade'] + df_train['ct_grenade_smokegrenade']\\\n",
        "+ df_train['ct_grenade_flashbang'] + df_train['ct_grenade_incendiarygrenade'] + df_train['ct_grenade_decoygrenade']\n",
        "\n",
        "# ct_explosives_list = ['ct_grenade_hegrenade','ct_grenade_molotovgrenade','ct_grenade_smokegrenade','ct_grenade_flashbang','ct_grenade_incendiarygrenade','ct_grenade_decoygrenade']\n",
        "# ct_explosives = df_train[ct_explosives_list]\n",
        "#df_train['ct_explosive'] = ct_explosives"
      ],
      "execution_count": null,
      "outputs": []
    },
    {
      "cell_type": "code",
      "metadata": {
        "id": "5i-x9KY_8LdL"
      },
      "source": [
        "new_categorizations = {\"t_pistols\":t_pistols,\"ct_pistols\":ct_pistols,\"t_assault\":t_assault,\"ct_assault\":ct_assault,\"t_smg\":t_smg,\n",
        "                       \"ct_smg\":ct_smg,\"t_assault\":t_assault,\"ct_assault\":ct_assault,\"t_sniper\":t_sniper,\"ct_sniper\":ct_sniper,\n",
        "                       \"t_shotgun\":t_shotgun,\"ct_shotgun\":ct_shotgun,\"t_explosives\":t_explosives,\"ct_explosives\":ct_explosives}\n",
        "#new_categorizations2 = redefine n_c for test data\n",
        "\n",
        "new_variables = pd.DataFrame.from_dict(new_categorizations)\n",
        "#new_variables2 = pd.DataFrame.from_dict(new_categorizations2)\n",
        "\n",
        "df_train = pd.concat([df_train,new_variables],axis=1)\n",
        "#df_test = pd.concat([df_test,new_variables2],axis=1)"
      ],
      "execution_count": null,
      "outputs": []
    },
    {
      "cell_type": "code",
      "metadata": {
        "id": "x99GUYjc8LdN"
      },
      "source": [
        "# Bucketing money into 4 new columns 20,000 range\n",
        "\n",
        "bins= ['low', 'midlow','midhigh','high']\n",
        "\n",
        "df_train['t_money_cat'] = pd.cut(df_train['t_money'], bins=[0, 20000, 40000, 60000, 80000], labels=bins, include_lowest=True).astype('category')\n",
        "df_train['ct_money_cat'] = pd.cut(df_train['ct_money'], bins=[0, 20000, 40000, 60000, 80000], labels=bins, include_lowest=True).astype('category')\n"
      ],
      "execution_count": null,
      "outputs": []
    },
    {
      "cell_type": "code",
      "metadata": {
        "id": "X9UpFcBZ8LdQ",
        "outputId": "0832b999-f233-4190-c704-1650f911ddab",
        "colab": {
          "base_uri": "https://localhost:8080/",
          "height": 204
        }
      },
      "source": [
        "# Time left binned into quarters\n",
        "\n",
        "time_bins= ['Q1','Q2','Q3','Q4']\n",
        "\n",
        "df_train['time_quarter'] = pd.cut(df_train['time_left'], bins=[0, 55, 95, 167, 175], labels=time_bins, include_lowest=True)\n",
        "\n",
        "df_train.iloc[:,-4:].head()"
      ],
      "execution_count": null,
      "outputs": [
        {
          "output_type": "execute_result",
          "data": {
            "text/html": [
              "<div>\n",
              "<style scoped>\n",
              "    .dataframe tbody tr th:only-of-type {\n",
              "        vertical-align: middle;\n",
              "    }\n",
              "\n",
              "    .dataframe tbody tr th {\n",
              "        vertical-align: top;\n",
              "    }\n",
              "\n",
              "    .dataframe thead th {\n",
              "        text-align: right;\n",
              "    }\n",
              "</style>\n",
              "<table border=\"1\" class=\"dataframe\">\n",
              "  <thead>\n",
              "    <tr style=\"text-align: right;\">\n",
              "      <th></th>\n",
              "      <th>ct_explosives</th>\n",
              "      <th>t_money_cat</th>\n",
              "      <th>ct_money_cat</th>\n",
              "      <th>time_quarter</th>\n",
              "    </tr>\n",
              "  </thead>\n",
              "  <tbody>\n",
              "    <tr>\n",
              "      <th>0</th>\n",
              "      <td>6.0</td>\n",
              "      <td>low</td>\n",
              "      <td>midlow</td>\n",
              "      <td>Q2</td>\n",
              "    </tr>\n",
              "    <tr>\n",
              "      <th>1</th>\n",
              "      <td>0.0</td>\n",
              "      <td>midhigh</td>\n",
              "      <td>midlow</td>\n",
              "      <td>Q4</td>\n",
              "    </tr>\n",
              "    <tr>\n",
              "      <th>2</th>\n",
              "      <td>18.0</td>\n",
              "      <td>low</td>\n",
              "      <td>low</td>\n",
              "      <td>Q4</td>\n",
              "    </tr>\n",
              "    <tr>\n",
              "      <th>3</th>\n",
              "      <td>12.0</td>\n",
              "      <td>low</td>\n",
              "      <td>low</td>\n",
              "      <td>Q2</td>\n",
              "    </tr>\n",
              "    <tr>\n",
              "      <th>4</th>\n",
              "      <td>0.0</td>\n",
              "      <td>low</td>\n",
              "      <td>low</td>\n",
              "      <td>Q3</td>\n",
              "    </tr>\n",
              "  </tbody>\n",
              "</table>\n",
              "</div>"
            ],
            "text/plain": [
              "   ct_explosives t_money_cat ct_money_cat time_quarter\n",
              "0            6.0         low       midlow           Q2\n",
              "1            0.0     midhigh       midlow           Q4\n",
              "2           18.0         low          low           Q4\n",
              "3           12.0         low          low           Q2\n",
              "4            0.0         low          low           Q3"
            ]
          },
          "metadata": {
            "tags": []
          },
          "execution_count": 107
        }
      ]
    },
    {
      "cell_type": "code",
      "metadata": {
        "id": "Y-CIzFtJ8LdR"
      },
      "source": [
        "# diversity of weapon choice\n",
        "\n",
        "#df_train['t_all_weapons'] = np.where((df_train['t_sniper'] > 0) & (df_train['t_shotgun'] > 0) & (df_train['t_assault'] > 0) &\\\n",
        "#                              (df_train['t_smg'] > 0) & (df_train['t_pistols'] > 0), 1, 0 )\n",
        "\n",
        "df_train['ct_all_weapons'] = np.where((df_train['ct_sniper'] > 0) & (df_train['ct_shotgun'] > 0) & (df_train['ct_assault'] > 0) &\\\n",
        "                              (df_train['ct_smg'] > 0) & (df_train['ct_pistols'] > 0), 1, 0 )\n",
        "\n",
        "\n",
        "df_train['t_all_assaults'] = np.where((df_train['t_assault'] > 0) & (df_train['t_smg'] > 0), 1, 0 )\n",
        "\n",
        "df_train['ct_all_assaults'] = np.where((df_train['ct_assault'] > 0) & (df_train['ct_smg'] > 0), 1, 0 )"
      ],
      "execution_count": null,
      "outputs": []
    },
    {
      "cell_type": "code",
      "metadata": {
        "id": "_4kF8AlY8LdT"
      },
      "source": [
        "#df_train['t_all_weapons'].sum() ## == 0; turns out the full combination was never reached"
      ],
      "execution_count": null,
      "outputs": []
    },
    {
      "cell_type": "code",
      "metadata": {
        "id": "P3VyOIp38LdV"
      },
      "source": [
        "###### NON-RELEVANT FEATURE\n",
        "\n",
        "# # Time left & bomb planted interaction\n",
        "\n",
        "# df_train['t_bomb_q1'] = np.where((df_train['time_quarter'] == 'Q1') & (df_train['bomb_planted'] > 0) , 1, 0 ) #### identical to bomb_planted\n",
        "# df_train['t_bomb_q2'] = np.where((df_train['time_quarter'] == 'Q2') & (df_train['bomb_planted'] > 0) , 1, 0 ) ## == 0\n",
        "# df_train['t_bomb_q3'] = np.where((df_train['time_quarter'] == 'Q3') & (df_train['bomb_planted'] > 0) , 1, 0 ) ## == 0\n",
        "# df_train['t_bomb_q4'] = np.where((df_train['time_quarter'] == 'Q4') & (df_train['bomb_planted'] > 0) , 1, 0 ) ## == 0"
      ],
      "execution_count": null,
      "outputs": []
    },
    {
      "cell_type": "code",
      "metadata": {
        "id": "zE6qlEJw8LdX"
      },
      "source": [
        "# Map size & gun types interactions\n",
        "# Given that Cache3, Nuke, Overpass & Dust2 are the largest maps respectively\n",
        "# Vertigo and Train the smallest maps\n",
        "\n",
        "df_train['t_largemap_sniper'] = np.where((df_train['map'] == 'de_nuke') |(df_train['map'] == 'de_cache')\\\n",
        "                                         | (df_train['map'] == 'de_overpass') | (df_train['map'] == 'de_dust2')\\\n",
        "                                         & (df_train['t_sniper'] > 0) , 1, 0 )\n",
        "\n",
        "df_train['ct_largemap_sniper'] = np.where((df_train['map'] == 'de_nuke') |(df_train['map'] == 'de_cache')\\\n",
        "                                         | (df_train['map'] == 'de_overpass') | (df_train['map'] == 'de_dust2')\\\n",
        "                                         & (df_train['ct_sniper'] > 0), 1, 0 )\n",
        "\n",
        "\n",
        "df_train['t_smallmap_sniper'] = np.where((df_train['map'] == 'de_vertigo') | (df_train['map'] == 'de_train') \\\n",
        "                                       & (df_train['t_assault'] > 0) | (df_train['t_smg'] > 0) , 1, 0 )\n",
        "\n",
        "df_train['ct_smallmap_sniper'] = np.where((df_train['map'] == 'de_vertigo') | (df_train['map'] == 'de_train') \\\n",
        "                                       & (df_train['ct_assault'] > 0) | (df_train['ct_smg'] > 0) , 1, 0 )"
      ],
      "execution_count": null,
      "outputs": []
    },
    {
      "cell_type": "code",
      "metadata": {
        "id": "9K193-qC8LdY"
      },
      "source": [
        "# Create round count\n",
        "\n",
        "df_train['round_count'] = df_train['ct_score']+df_train['t_score']+1"
      ],
      "execution_count": null,
      "outputs": []
    },
    {
      "cell_type": "code",
      "metadata": {
        "id": "vxqFBl1A8Lda"
      },
      "source": [
        "# ALL ALIVE >400 health points\n",
        "\n",
        "df_train['t_all_alive'] = (df_train['t_health']>400).astype('float')\n",
        "df_train['ct_all_alive'] = (df_train['ct_health']>400).astype('float')"
      ],
      "execution_count": null,
      "outputs": []
    },
    {
      "cell_type": "markdown",
      "metadata": {
        "id": "DbjSPW5-8Ldh"
      },
      "source": [
        "## 1.3 Impute Null Values, Check Outliers"
      ]
    },
    {
      "cell_type": "markdown",
      "metadata": {
        "id": "G1ayvip98Ldi"
      },
      "source": [
        "### 1.3.1 Null Values"
      ]
    },
    {
      "cell_type": "code",
      "metadata": {
        "scrolled": false,
        "id": "tq3_Gp5E8Ldi",
        "outputId": "5910f3a2-5a60-4814-fa72-304605018f92",
        "colab": {
          "base_uri": "https://localhost:8080/"
        }
      },
      "source": [
        "#check for nulls \n",
        "missing_values = df_train.isnull().sum()\n",
        "missing_values[0:]"
      ],
      "execution_count": null,
      "outputs": [
        {
          "output_type": "execute_result",
          "data": {
            "text/plain": [
              "time_left             0\n",
              "ct_score              0\n",
              "t_score               0\n",
              "map                   0\n",
              "bomb_planted          0\n",
              "                     ..\n",
              "t_smallmap_sniper     0\n",
              "ct_smallmap_sniper    0\n",
              "round_count           0\n",
              "t_all_alive           0\n",
              "ct_all_alive          0\n",
              "Length: 115, dtype: int64"
            ]
          },
          "metadata": {
            "tags": []
          },
          "execution_count": 116
        }
      ]
    },
    {
      "cell_type": "code",
      "metadata": {
        "id": "m4VOfpTW8Ldl",
        "outputId": "6509483c-380a-4e2b-f3f7-7228a9b77a1b",
        "colab": {
          "base_uri": "https://localhost:8080/"
        }
      },
      "source": [
        "df_train.isnull().sum().sum() # zero null values"
      ],
      "execution_count": null,
      "outputs": [
        {
          "output_type": "execute_result",
          "data": {
            "text/plain": [
              "0"
            ]
          },
          "metadata": {
            "tags": []
          },
          "execution_count": 117
        }
      ]
    },
    {
      "cell_type": "markdown",
      "metadata": {
        "id": "ZZPERkHw8Ldn"
      },
      "source": [
        "### 1.3.2 Outlier Detection"
      ]
    },
    {
      "cell_type": "code",
      "metadata": {
        "id": "9E-RApez8Ldn"
      },
      "source": [
        "# from sklearn.neighbors import LocalOutlierFactor\n",
        "\n",
        "# # identify outliers in the training dataset\n",
        "# lof = LocalOutlierFactor()\n",
        "# yhat = lof.fit_predict(train_X.loc[:,train_X.columns!='map'])\n",
        "\n",
        "# # select all rows that are not outliers\n",
        "# mask = yhat != -1\n",
        "\n",
        "# #outliers = train_X[~mask]\n",
        "\n",
        "# train_X = train_X[mask]\n",
        "# train_y = train_y[mask]"
      ],
      "execution_count": null,
      "outputs": []
    },
    {
      "cell_type": "code",
      "metadata": {
        "id": "X7t6hjGf8Ldp"
      },
      "source": [
        "#outliers.describe()"
      ],
      "execution_count": null,
      "outputs": []
    },
    {
      "cell_type": "code",
      "metadata": {
        "id": "icIJa8CC8Ldr",
        "outputId": "5264d568-0937-4f28-ddb9-f8ef1dc2ee42",
        "colab": {
          "base_uri": "https://localhost:8080/",
          "height": 302
        }
      },
      "source": [
        "import seaborn as sns\n",
        "sns.boxplot(data=df_train,x=df_train['ct_health'])"
      ],
      "execution_count": null,
      "outputs": [
        {
          "output_type": "execute_result",
          "data": {
            "text/plain": [
              "<matplotlib.axes._subplots.AxesSubplot at 0x7fd42df2e7b8>"
            ]
          },
          "metadata": {
            "tags": []
          },
          "execution_count": 120
        },
        {
          "output_type": "display_data",
          "data": {
            "image/png": "[encoded data removed]",
            "text/plain": [
              "<Figure size 432x288 with 1 Axes>"
            ]
          },
          "metadata": {
            "tags": [],
            "needs_background": "light"
          }
        }
      ]
    },
    {
      "cell_type": "code",
      "metadata": {
        "scrolled": true,
        "id": "qqG8APGy8Ldu",
        "outputId": "8ef58546-4d39-4583-b9d5-f75825543003",
        "colab": {
          "base_uri": "https://localhost:8080/",
          "height": 302
        }
      },
      "source": [
        "sns.boxplot(data=df_train,x=df_train['t_health'])"
      ],
      "execution_count": null,
      "outputs": [
        {
          "output_type": "execute_result",
          "data": {
            "text/plain": [
              "<matplotlib.axes._subplots.AxesSubplot at 0x7fd42db69780>"
            ]
          },
          "metadata": {
            "tags": []
          },
          "execution_count": 121
        },
        {
          "output_type": "display_data",
          "data": {
            "image/png": "[encoded data removed]",
            "text/plain": [
              "<Figure size 432x288 with 1 Axes>"
            ]
          },
          "metadata": {
            "tags": [],
            "needs_background": "light"
          }
        }
      ]
    },
    {
      "cell_type": "code",
      "metadata": {
        "scrolled": false,
        "id": "GZ6nNbAD8Ldw"
      },
      "source": [
        "#df_train.loc[df_train['t_health']>500,'ct_weapon_galilar':].sum(axis=0) # error in row, 6 vs 4 player - delete outlier"
      ],
      "execution_count": null,
      "outputs": []
    },
    {
      "cell_type": "code",
      "metadata": {
        "id": "UCxiI-NR8Ldy",
        "outputId": "a9ecc9b8-d4e4-4f2c-dafd-eb2009a0167f",
        "colab": {
          "base_uri": "https://localhost:8080/",
          "height": 129
        }
      },
      "source": [
        "df_train.loc[df_train['t_health']>500,:]"
      ],
      "execution_count": null,
      "outputs": [
        {
          "output_type": "execute_result",
          "data": {
            "text/html": [
              "<div>\n",
              "<style scoped>\n",
              "    .dataframe tbody tr th:only-of-type {\n",
              "        vertical-align: middle;\n",
              "    }\n",
              "\n",
              "    .dataframe tbody tr th {\n",
              "        vertical-align: top;\n",
              "    }\n",
              "\n",
              "    .dataframe thead th {\n",
              "        text-align: right;\n",
              "    }\n",
              "</style>\n",
              "<table border=\"1\" class=\"dataframe\">\n",
              "  <thead>\n",
              "    <tr style=\"text-align: right;\">\n",
              "      <th></th>\n",
              "      <th>time_left</th>\n",
              "      <th>ct_score</th>\n",
              "      <th>t_score</th>\n",
              "      <th>map</th>\n",
              "      <th>bomb_planted</th>\n",
              "      <th>ct_health</th>\n",
              "      <th>t_health</th>\n",
              "      <th>ct_armor</th>\n",
              "      <th>t_armor</th>\n",
              "      <th>ct_money</th>\n",
              "      <th>t_money</th>\n",
              "      <th>ct_helmets</th>\n",
              "      <th>t_helmets</th>\n",
              "      <th>ct_defuse_kits</th>\n",
              "      <th>ct_players_alive</th>\n",
              "      <th>t_players_alive</th>\n",
              "      <th>ct_weapon_ak47</th>\n",
              "      <th>t_weapon_ak47</th>\n",
              "      <th>ct_weapon_aug</th>\n",
              "      <th>t_weapon_aug</th>\n",
              "      <th>ct_weapon_awp</th>\n",
              "      <th>t_weapon_awp</th>\n",
              "      <th>t_weapon_bizon</th>\n",
              "      <th>ct_weapon_cz75auto</th>\n",
              "      <th>t_weapon_cz75auto</th>\n",
              "      <th>ct_weapon_elite</th>\n",
              "      <th>t_weapon_elite</th>\n",
              "      <th>ct_weapon_famas</th>\n",
              "      <th>t_weapon_famas</th>\n",
              "      <th>t_weapon_g3sg1</th>\n",
              "      <th>ct_weapon_galilar</th>\n",
              "      <th>t_weapon_galilar</th>\n",
              "      <th>ct_weapon_glock</th>\n",
              "      <th>t_weapon_glock</th>\n",
              "      <th>ct_weapon_m4a1s</th>\n",
              "      <th>t_weapon_m4a1s</th>\n",
              "      <th>ct_weapon_m4a4</th>\n",
              "      <th>t_weapon_m4a4</th>\n",
              "      <th>ct_weapon_mac10</th>\n",
              "      <th>t_weapon_mac10</th>\n",
              "      <th>...</th>\n",
              "      <th>ct_weapon_tec9</th>\n",
              "      <th>t_weapon_tec9</th>\n",
              "      <th>ct_grenade_hegrenade</th>\n",
              "      <th>t_grenade_hegrenade</th>\n",
              "      <th>ct_grenade_flashbang</th>\n",
              "      <th>t_grenade_flashbang</th>\n",
              "      <th>ct_grenade_smokegrenade</th>\n",
              "      <th>t_grenade_smokegrenade</th>\n",
              "      <th>ct_grenade_incendiarygrenade</th>\n",
              "      <th>t_grenade_incendiarygrenade</th>\n",
              "      <th>ct_grenade_molotovgrenade</th>\n",
              "      <th>t_grenade_molotovgrenade</th>\n",
              "      <th>ct_grenade_decoygrenade</th>\n",
              "      <th>t_grenade_decoygrenade</th>\n",
              "      <th>round_winner</th>\n",
              "      <th>t_pistols</th>\n",
              "      <th>ct_pistols</th>\n",
              "      <th>t_assault</th>\n",
              "      <th>ct_assault</th>\n",
              "      <th>t_smg</th>\n",
              "      <th>ct_smg</th>\n",
              "      <th>t_sniper</th>\n",
              "      <th>ct_sniper</th>\n",
              "      <th>t_shotgun</th>\n",
              "      <th>ct_shotgun</th>\n",
              "      <th>t_explosives</th>\n",
              "      <th>ct_explosives</th>\n",
              "      <th>t_money_cat</th>\n",
              "      <th>ct_money_cat</th>\n",
              "      <th>time_quarter</th>\n",
              "      <th>ct_all_weapons</th>\n",
              "      <th>t_all_assaults</th>\n",
              "      <th>ct_all_assaults</th>\n",
              "      <th>t_largemap_sniper</th>\n",
              "      <th>ct_largemap_sniper</th>\n",
              "      <th>t_smallmap_sniper</th>\n",
              "      <th>ct_smallmap_sniper</th>\n",
              "      <th>round_count</th>\n",
              "      <th>t_all_alive</th>\n",
              "      <th>ct_all_alive</th>\n",
              "    </tr>\n",
              "  </thead>\n",
              "  <tbody>\n",
              "    <tr>\n",
              "      <th>46347</th>\n",
              "      <td>175.0</td>\n",
              "      <td>0.0</td>\n",
              "      <td>0.0</td>\n",
              "      <td>de_vertigo</td>\n",
              "      <td>0.0</td>\n",
              "      <td>400.0</td>\n",
              "      <td>600.0</td>\n",
              "      <td>0.0</td>\n",
              "      <td>0.0</td>\n",
              "      <td>3200.0</td>\n",
              "      <td>4800.0</td>\n",
              "      <td>0.0</td>\n",
              "      <td>0.0</td>\n",
              "      <td>0.0</td>\n",
              "      <td>4.0</td>\n",
              "      <td>6.0</td>\n",
              "      <td>0.0</td>\n",
              "      <td>0.0</td>\n",
              "      <td>0.0</td>\n",
              "      <td>0.0</td>\n",
              "      <td>0.0</td>\n",
              "      <td>0.0</td>\n",
              "      <td>0.0</td>\n",
              "      <td>0.0</td>\n",
              "      <td>0.0</td>\n",
              "      <td>0.0</td>\n",
              "      <td>0.0</td>\n",
              "      <td>0.0</td>\n",
              "      <td>0.0</td>\n",
              "      <td>0.0</td>\n",
              "      <td>0.0</td>\n",
              "      <td>0.0</td>\n",
              "      <td>0.0</td>\n",
              "      <td>6.0</td>\n",
              "      <td>0.0</td>\n",
              "      <td>0.0</td>\n",
              "      <td>0.0</td>\n",
              "      <td>0.0</td>\n",
              "      <td>0.0</td>\n",
              "      <td>0.0</td>\n",
              "      <td>...</td>\n",
              "      <td>0.0</td>\n",
              "      <td>0.0</td>\n",
              "      <td>0.0</td>\n",
              "      <td>0.0</td>\n",
              "      <td>0.0</td>\n",
              "      <td>0.0</td>\n",
              "      <td>0.0</td>\n",
              "      <td>0.0</td>\n",
              "      <td>0.0</td>\n",
              "      <td>0.0</td>\n",
              "      <td>0.0</td>\n",
              "      <td>0.0</td>\n",
              "      <td>0.0</td>\n",
              "      <td>0.0</td>\n",
              "      <td>0.0</td>\n",
              "      <td>6.0</td>\n",
              "      <td>4.0</td>\n",
              "      <td>0.0</td>\n",
              "      <td>0.0</td>\n",
              "      <td>0.0</td>\n",
              "      <td>0.0</td>\n",
              "      <td>0.0</td>\n",
              "      <td>0.0</td>\n",
              "      <td>0.0</td>\n",
              "      <td>0.0</td>\n",
              "      <td>0.0</td>\n",
              "      <td>0.0</td>\n",
              "      <td>low</td>\n",
              "      <td>low</td>\n",
              "      <td>Q4</td>\n",
              "      <td>0</td>\n",
              "      <td>0</td>\n",
              "      <td>0</td>\n",
              "      <td>0</td>\n",
              "      <td>0</td>\n",
              "      <td>1</td>\n",
              "      <td>1</td>\n",
              "      <td>1.0</td>\n",
              "      <td>1.0</td>\n",
              "      <td>0.0</td>\n",
              "    </tr>\n",
              "  </tbody>\n",
              "</table>\n",
              "<p>1 rows × 115 columns</p>\n",
              "</div>"
            ],
            "text/plain": [
              "       time_left  ct_score  t_score  ... round_count  t_all_alive  ct_all_alive\n",
              "46347      175.0       0.0      0.0  ...         1.0          1.0           0.0\n",
              "\n",
              "[1 rows x 115 columns]"
            ]
          },
          "metadata": {
            "tags": []
          },
          "execution_count": 123
        }
      ]
    },
    {
      "cell_type": "code",
      "metadata": {
        "id": "M3nuiPd48Ldz"
      },
      "source": [
        "# Delete outlier w row index 46347\n",
        "\n",
        "df_train = df_train.drop(df_train.index[46347])"
      ],
      "execution_count": null,
      "outputs": []
    },
    {
      "cell_type": "code",
      "metadata": {
        "scrolled": false,
        "id": "JONJs8GU8Ld2",
        "outputId": "49487039-ddbf-4a30-d1ac-ef4e1ea00f47",
        "colab": {
          "base_uri": "https://localhost:8080/",
          "height": 302
        }
      },
      "source": [
        "sns.boxplot(data=df_train,x=df_train['t_health'])"
      ],
      "execution_count": null,
      "outputs": [
        {
          "output_type": "execute_result",
          "data": {
            "text/plain": [
              "<matplotlib.axes._subplots.AxesSubplot at 0x7fd42db11ef0>"
            ]
          },
          "metadata": {
            "tags": []
          },
          "execution_count": 125
        },
        {
          "output_type": "display_data",
          "data": {
            "image/png": "[encoded data removed]",
            "text/plain": [
              "<Figure size 432x288 with 1 Axes>"
            ]
          },
          "metadata": {
            "tags": [],
            "needs_background": "light"
          }
        }
      ]
    },
    {
      "cell_type": "code",
      "metadata": {
        "id": "3eQbnb278Ld4",
        "outputId": "186f320e-8377-4b08-d1b7-ba98c0a99f48",
        "colab": {
          "base_uri": "https://localhost:8080/",
          "height": 302
        }
      },
      "source": [
        "sns.boxplot(data=df_train,x=df_train['t_armor']) # conclusion no outlier no atcion needed"
      ],
      "execution_count": null,
      "outputs": [
        {
          "output_type": "execute_result",
          "data": {
            "text/plain": [
              "<matplotlib.axes._subplots.AxesSubplot at 0x7fd42dcd6c88>"
            ]
          },
          "metadata": {
            "tags": []
          },
          "execution_count": 126
        },
        {
          "output_type": "display_data",
          "data": {
            "image/png": "[encoded data removed]",
            "text/plain": [
              "<Figure size 432x288 with 1 Axes>"
            ]
          },
          "metadata": {
            "tags": [],
            "needs_background": "light"
          }
        }
      ]
    },
    {
      "cell_type": "code",
      "metadata": {
        "id": "7oLZn9ln8Ld6",
        "outputId": "4ce78c89-b2ec-4ac2-98b8-aaaff0d156a8",
        "colab": {
          "base_uri": "https://localhost:8080/",
          "height": 302
        }
      },
      "source": [
        "sns.boxplot(data=df_train,x=df_train['ct_armor']) # conclusion no outlier no atcion needed"
      ],
      "execution_count": null,
      "outputs": [
        {
          "output_type": "execute_result",
          "data": {
            "text/plain": [
              "<matplotlib.axes._subplots.AxesSubplot at 0x7fd42dcdfc88>"
            ]
          },
          "metadata": {
            "tags": []
          },
          "execution_count": 127
        },
        {
          "output_type": "display_data",
          "data": {
            "image/png": "[encoded data removed]",
            "text/plain": [
              "<Figure size 432x288 with 1 Axes>"
            ]
          },
          "metadata": {
            "tags": [],
            "needs_background": "light"
          }
        }
      ]
    },
    {
      "cell_type": "code",
      "metadata": {
        "id": "tQK6LOMp8Ld-",
        "outputId": "18f4655a-c7c1-428e-c223-04775a20e57d",
        "colab": {
          "base_uri": "https://localhost:8080/",
          "height": 302
        }
      },
      "source": [
        "sns.boxplot(data=df_train,x=df_train['ct_money'])"
      ],
      "execution_count": null,
      "outputs": [
        {
          "output_type": "execute_result",
          "data": {
            "text/plain": [
              "<matplotlib.axes._subplots.AxesSubplot at 0x7fd42e081710>"
            ]
          },
          "metadata": {
            "tags": []
          },
          "execution_count": 128
        },
        {
          "output_type": "display_data",
          "data": {
            "image/png": "[encoded data removed]",
            "text/plain": [
              "<Figure size 432x288 with 1 Axes>"
            ]
          },
          "metadata": {
            "tags": [],
            "needs_background": "light"
          }
        }
      ]
    },
    {
      "cell_type": "code",
      "metadata": {
        "id": "nITtgTlW8Ld_",
        "outputId": "5a5afb08-452a-466d-9ef5-b5736796840c",
        "colab": {
          "base_uri": "https://localhost:8080/",
          "height": 302
        }
      },
      "source": [
        "sns.boxplot(data=df_train,x=df_train['t_money'])"
      ],
      "execution_count": null,
      "outputs": [
        {
          "output_type": "execute_result",
          "data": {
            "text/plain": [
              "<matplotlib.axes._subplots.AxesSubplot at 0x7fd42de6bf98>"
            ]
          },
          "metadata": {
            "tags": []
          },
          "execution_count": 129
        },
        {
          "output_type": "display_data",
          "data": {
            "image/png": "[encoded data removed]",
            "text/plain": [
              "<Figure size 432x288 with 1 Axes>"
            ]
          },
          "metadata": {
            "tags": [],
            "needs_background": "light"
          }
        }
      ]
    },
    {
      "cell_type": "markdown",
      "metadata": {
        "id": "-AuFEob28LeB"
      },
      "source": [
        "# 2. Train-test Split"
      ]
    },
    {
      "cell_type": "markdown",
      "metadata": {
        "id": "V8IyaTwi8LeB"
      },
      "source": [
        "## 2.1 One-Hot-Encoding of Categorical Variables"
      ]
    },
    {
      "cell_type": "markdown",
      "metadata": {
        "id": "EdHj4e8S8LeC"
      },
      "source": [
        "As we have created various categoricals, we have to apply one-hot-encoding now to create dummy variables for the respective features. "
      ]
    },
    {
      "cell_type": "code",
      "metadata": {
        "scrolled": true,
        "id": "EGhtDsWS8LeC",
        "outputId": "baaadbdd-4313-44d0-937b-b4f428541c19",
        "colab": {
          "base_uri": "https://localhost:8080/"
        }
      },
      "source": [
        "from collections import defaultdict, Counter # Utils\n",
        "sns.set(style=\"white\")                       # Tuning the style of charts\n",
        "import warnings                              # Disable some warnings\n",
        "\n",
        "warnings.filterwarnings(\"ignore\",category=DeprecationWarning)\n",
        "\n",
        "\n",
        "#### create Loop to run one-hot-encoding for both train & test data\n",
        "\n",
        "X_sets = [df_train, df_test]\n",
        "columns_to_drop = [] # if any columns should be excluded\n",
        "LIMIT_DUMMIES = 100 # for categorical variables with more than that many values, we only keep the more frequent ones\n",
        "\n",
        "# define functions for Loop\n",
        "\n",
        "def select_dummy_values(train, features):\n",
        "    dummy_values = {}\n",
        "    for feature in features:\n",
        "        values = [\n",
        "            value\n",
        "            for (value, _) in Counter(train[feature]).most_common(LIMIT_DUMMIES)\n",
        "        ]\n",
        "        dummy_values[feature] = values\n",
        "    return dummy_values\n",
        "\n",
        "def dummy_encode_dataframe(df):\n",
        "    for (feature, dummy_values) in DUMMY_VALUES.items():\n",
        "        for dummy_value in dummy_values:\n",
        "            dummy_name = u'%s_value_%s' % (feature, dummy_value)\n",
        "            df[dummy_name] = (df[feature] == dummy_value).astype(float)\n",
        "        del df[feature]\n",
        "        print('Dummy-encoded feature %s' % feature)\n",
        "\n",
        "\n",
        "for df in X_sets:\n",
        "    \n",
        "    # Get the column names\n",
        "    numerical_columns = list(df.select_dtypes(include=[np.number]).columns)\n",
        "    categorical_columns = list(df.select_dtypes(include=[object,'category']).columns)\n",
        "    date_columns = list(df.select_dtypes(include=['<M8[ns]']).columns)\n",
        "\n",
        "    # Print a quick summary of what we just loaded\n",
        "    print(\"Loaded dataset\")\n",
        "    print(\"   Rows: %s\" % df.shape[0])\n",
        "    print(\"   Columns: %s (%s num, %s cat, %s date)\" % (df.shape[1], \n",
        "                                                        len(numerical_columns), len(categorical_columns),\n",
        "                                                        len(date_columns)))\n",
        "    \n",
        "    # Limit number of distinct values for selected categoricals\n",
        "    DUMMY_VALUES = select_dummy_values(df, [x for x in categorical_columns if not x in columns_to_drop])\n",
        "    \n",
        "    # Add dummy columns to df\n",
        "    dummy_encode_dataframe(df)\n",
        "    "
      ],
      "execution_count": null,
      "outputs": [
        {
          "output_type": "stream",
          "text": [
            "Loaded dataset\n",
            "   Rows: 82013\n",
            "   Columns: 115 (111 num, 4 cat, 0 date)\n",
            "Dummy-encoded feature map\n",
            "Dummy-encoded feature t_money_cat\n",
            "Dummy-encoded feature ct_money_cat\n",
            "Dummy-encoded feature time_quarter\n",
            "Loaded dataset\n",
            "   Rows: 40396\n",
            "   Columns: 89 (88 num, 1 cat, 0 date)\n",
            "Dummy-encoded feature map\n"
          ],
          "name": "stdout"
        }
      ]
    },
    {
      "cell_type": "markdown",
      "metadata": {
        "id": "hxe6ZVMM8LeG"
      },
      "source": [
        "## 2.2 Feature Scaling (Normalization)"
      ]
    },
    {
      "cell_type": "code",
      "metadata": {
        "id": "BMFh7K_B8LeG"
      },
      "source": [
        "# Compute scaled values for our data \n",
        "\n",
        "df_train = df_train.reset_index() # to assure sklearn runs smoothly\n",
        "df_train.pop('index')\n",
        "\n",
        "from sklearn.preprocessing import StandardScaler\n",
        "\n",
        "X1 = df_train.drop(columns='round_winner').values\n",
        "df_train_std = StandardScaler().fit(X1).transform(X1)\n",
        "\n",
        "X2 = df_test.values\n",
        "test_X_std = StandardScaler().fit(X2).transform(X2)"
      ],
      "execution_count": null,
      "outputs": []
    },
    {
      "cell_type": "code",
      "metadata": {
        "id": "c4ho8un98LeI"
      },
      "source": [
        "#df_train['round_winner'].replace([1.0,0.0],[1,0],inplace=True)"
      ],
      "execution_count": null,
      "outputs": []
    },
    {
      "cell_type": "code",
      "metadata": {
        "scrolled": true,
        "id": "9mTBFHiI8LeJ"
      },
      "source": [
        "# Establish dataframe structure with respective feature names\n",
        "\n",
        "df_train_std = pd.DataFrame(df_train_std)\n",
        "df_train_std.columns = df_train.columns[df_train.columns != 'round_winner']\n",
        "df_train_std['round_winner'] = df_train['round_winner']\n",
        "\n",
        "test_X_std = pd.DataFrame(test_X_std)\n",
        "test_X_std.columns = df_test.columns"
      ],
      "execution_count": null,
      "outputs": []
    },
    {
      "cell_type": "markdown",
      "metadata": {
        "id": "1OP--HWh8LeL"
      },
      "source": [
        "## 2.3 Performing our TRAIN / VALIDATION / TEST split"
      ]
    },
    {
      "cell_type": "code",
      "metadata": {
        "id": "WS31H0338LeM"
      },
      "source": [
        "## SET SWITCHES FOR BELOW VARIATIONS\n",
        "\n",
        "set_standardize = True # if set true, we scale our variables // else no\n",
        "\n",
        "set_PCA = False # if set true, we apply PCA to our variables // else no\n",
        "\n",
        "\n",
        "## FEATURE SELECTION - ONLY ONE CAN BE TRUE\n",
        "\n",
        "set_Chi2 = False # if set true, we apply Chi2 feature selection to our variables // else no\n",
        "\n",
        "set_IG = False # if set true, we apply Chi2 feature selection to our variables // else no\n",
        "\n",
        "set_Lasso = False # if set true, we apply Lasso feature selection to our variables // else no\n",
        "\n",
        "set_Ridge = False # if set true, we apply Ridge feature selection to our variables // else no\n",
        "\n",
        "set_Corr = True # if set true, we apply feature selection based on absolute correlation to our variables // else no\n",
        "\n",
        "\n",
        "## LOGIC RULES FOR PRE-PROCESSING\n",
        "\n",
        "if set_standardize == False:\n",
        "    set_PCA = False\n",
        "    \n",
        "elif set_standardize == True:\n",
        "    set_Chi2 = False\n",
        "    \n",
        "elif sum([set_Chi2,set_IG,set_Lasso,set_Ridge,set_Corr]) != 1:\n",
        "    [set_Chi2,set_IG,set_Lasso,set_Ridge,set_Corr] = [False]*5"
      ],
      "execution_count": null,
      "outputs": []
    },
    {
      "cell_type": "code",
      "metadata": {
        "id": "4XEWSta_8LeN"
      },
      "source": [
        "from sklearn.model_selection import train_test_split\n",
        "\n",
        "def split_df(dataframe, seed=None, percentage=0.8):\n",
        "    \n",
        "    X = dataframe.loc[:, dataframe.columns != 'round_winner']\n",
        "    y = dataframe['round_winner']\n",
        "\n",
        "    return train_test_split(X, y, test_size=1-percentage, random_state=seed)\n",
        "\n",
        "\n",
        "if set_standardize:\n",
        "    \n",
        "    train_X, val_X, train_y, val_y = split_df(df_train_std, seed=42, percentage=0.8)\n",
        "    test_X = test_X_std\n",
        "\n",
        "else:\n",
        "    \n",
        "    train_X, val_X, train_y, val_y = split_df(df_train, seed=42, percentage=0.8)\n",
        "    test_X = df_test\n"
      ],
      "execution_count": null,
      "outputs": []
    },
    {
      "cell_type": "code",
      "metadata": {
        "id": "9ecDCajJ8LeP"
      },
      "source": [
        ""
      ],
      "execution_count": null,
      "outputs": []
    },
    {
      "cell_type": "markdown",
      "metadata": {
        "id": "93NwewvI8LeQ"
      },
      "source": [
        "# 3. Feature Engineering"
      ]
    },
    {
      "cell_type": "markdown",
      "metadata": {
        "id": "Rfi6e7j28LeR"
      },
      "source": [
        "## 3.1 Benchmark model [BM]"
      ]
    },
    {
      "cell_type": "markdown",
      "metadata": {
        "id": "yMocpV5g8LeR"
      },
      "source": [
        "### 3.1.1 Basic Logistic Regression"
      ]
    },
    {
      "cell_type": "code",
      "metadata": {
        "scrolled": true,
        "id": "PnHlY5dV8LeR",
        "outputId": "196db43a-da92-46c3-e8bf-35b8fd45e1d6",
        "colab": {
          "base_uri": "https://localhost:8080/"
        }
      },
      "source": [
        "# run a first model, no tuning, all parameters.. ## cannot be run w/ normalization?!\n",
        "from sklearn import linear_model\n",
        "\n",
        "first_lm = linear_model.LogisticRegression(max_iter=1000, penalty='none')\n",
        "first_lm.fit(train_X, train_y)"
      ],
      "execution_count": null,
      "outputs": [
        {
          "output_type": "execute_result",
          "data": {
            "text/plain": [
              "LogisticRegression(C=1.0, class_weight=None, dual=False, fit_intercept=True,\n",
              "                   intercept_scaling=1, l1_ratio=None, max_iter=1000,\n",
              "                   multi_class='auto', n_jobs=None, penalty='none',\n",
              "                   random_state=None, solver='lbfgs', tol=0.0001, verbose=0,\n",
              "                   warm_start=False)"
            ]
          },
          "metadata": {
            "tags": []
          },
          "execution_count": 136
        }
      ]
    },
    {
      "cell_type": "code",
      "metadata": {
        "scrolled": true,
        "id": "4OmHK1nN8LeT",
        "outputId": "2c0313ab-053e-4e6d-c472-dce4b02cbee3",
        "colab": {
          "base_uri": "https://localhost:8080/",
          "height": 319
        }
      },
      "source": [
        "# show confusion matrix of benchmark prediction\n",
        "from sklearn.metrics import plot_confusion_matrix, accuracy_score\n",
        "\n",
        "print(\"Accuracy = {0:.4f}\".format(accuracy_score(val_y,first_lm.predict(val_X))))\n",
        "plot_confusion_matrix(first_lm, val_X, val_y, val_y.unique(), cmap=plt.cm.Blues)"
      ],
      "execution_count": null,
      "outputs": [
        {
          "output_type": "stream",
          "text": [
            "Accuracy = 0.7510\n"
          ],
          "name": "stdout"
        },
        {
          "output_type": "execute_result",
          "data": {
            "text/plain": [
              "<sklearn.metrics._plot.confusion_matrix.ConfusionMatrixDisplay at 0x7fd42e1309e8>"
            ]
          },
          "metadata": {
            "tags": []
          },
          "execution_count": 137
        },
        {
          "output_type": "display_data",
          "data": {
            "image/png": "[encoded data removed]",
            "text/plain": [
              "<Figure size 432x288 with 2 Axes>"
            ]
          },
          "metadata": {
            "tags": []
          }
        }
      ]
    },
    {
      "cell_type": "code",
      "metadata": {
        "id": "SHlvKYna8LeU",
        "outputId": "837dec93-235f-4527-b6cf-c9a52c0bd2b1",
        "colab": {
          "base_uri": "https://localhost:8080/",
          "height": 80
        }
      },
      "source": [
        "if set_standardize:\n",
        "    results_df.loc[len(results_df)] = ['Logistic Model - STD', accuracy_score(val_y,first_lm.predict(val_X))]\n",
        "else:\n",
        "    results_df.loc[len(results_df)] = ['Logistic Model', accuracy_score(val_y,first_lm.predict(val_X))]\n",
        "    \n",
        "results_df"
      ],
      "execution_count": null,
      "outputs": [
        {
          "output_type": "execute_result",
          "data": {
            "text/html": [
              "<div>\n",
              "<style scoped>\n",
              "    .dataframe tbody tr th:only-of-type {\n",
              "        vertical-align: middle;\n",
              "    }\n",
              "\n",
              "    .dataframe tbody tr th {\n",
              "        vertical-align: top;\n",
              "    }\n",
              "\n",
              "    .dataframe thead th {\n",
              "        text-align: right;\n",
              "    }\n",
              "</style>\n",
              "<table border=\"1\" class=\"dataframe\">\n",
              "  <thead>\n",
              "    <tr style=\"text-align: right;\">\n",
              "      <th></th>\n",
              "      <th>Approach</th>\n",
              "      <th>Accuracy</th>\n",
              "    </tr>\n",
              "  </thead>\n",
              "  <tbody>\n",
              "    <tr>\n",
              "      <th>0</th>\n",
              "      <td>Logistic Model - STD</td>\n",
              "      <td>0.75096</td>\n",
              "    </tr>\n",
              "  </tbody>\n",
              "</table>\n",
              "</div>"
            ],
            "text/plain": [
              "               Approach  Accuracy\n",
              "0  Logistic Model - STD   0.75096"
            ]
          },
          "metadata": {
            "tags": []
          },
          "execution_count": 138
        }
      ]
    },
    {
      "cell_type": "markdown",
      "metadata": {
        "id": "XTj21ekN8LeW"
      },
      "source": [
        "### 3.1.2 Feature importance of basic model"
      ]
    },
    {
      "cell_type": "code",
      "metadata": {
        "code_folding": [],
        "id": "B0vLMpSc8LeW",
        "outputId": "a4cab455-ca51-41c8-c381-1ff2be2b9d4f",
        "colab": {
          "base_uri": "https://localhost:8080/",
          "height": 1000
        }
      },
      "source": [
        "def feature_importance_LM(model, feature_names):\n",
        "    return pd.DataFrame({'variable': feature_names, # Feature names\n",
        "                         'coefficient': model.coef_[0] # Feature Coeficients\n",
        "                    }) \\\n",
        "    .round(decimals=2) \\\n",
        "    .sort_values('coefficient', ascending=False) \\\n",
        "    .style.bar(color=['red', 'green'], align='zero')\n",
        "\n",
        "feature_importance_LM(first_lm,train_X.columns)"
      ],
      "execution_count": null,
      "outputs": [
        {
          "output_type": "execute_result",
          "data": {
            "text/html": [
              "<style  type=\"text/css\" >\n",
              "#T_7c2acb20_08d7_11eb_90d3_0242ac1c0002row0_col1{\n",
              "            width:  10em;\n",
              "             height:  80%;\n",
              "            background:  linear-gradient(90deg, transparent 50.0%, green 50.0%, green 96.8%, transparent 96.8%);\n",
              "        }#T_7c2acb20_08d7_11eb_90d3_0242ac1c0002row1_col1{\n",
              "            width:  10em;\n",
              "             height:  80%;\n",
              "            background:  linear-gradient(90deg, transparent 50.0%, green 50.0%, green 83.1%, transparent 83.1%);\n",
              "        }#T_7c2acb20_08d7_11eb_90d3_0242ac1c0002row2_col1{\n",
              "            width:  10em;\n",
              "             height:  80%;\n",
              "            background:  linear-gradient(90deg, transparent 50.0%, green 50.0%, green 81.2%, transparent 81.2%);\n",
              "        }#T_7c2acb20_08d7_11eb_90d3_0242ac1c0002row3_col1{\n",
              "            width:  10em;\n",
              "             height:  80%;\n",
              "            background:  linear-gradient(90deg, transparent 50.0%, green 50.0%, green 75.3%, transparent 75.3%);\n",
              "        }#T_7c2acb20_08d7_11eb_90d3_0242ac1c0002row4_col1{\n",
              "            width:  10em;\n",
              "             height:  80%;\n",
              "            background:  linear-gradient(90deg, transparent 50.0%, green 50.0%, green 71.4%, transparent 71.4%);\n",
              "        }#T_7c2acb20_08d7_11eb_90d3_0242ac1c0002row5_col1{\n",
              "            width:  10em;\n",
              "             height:  80%;\n",
              "            background:  linear-gradient(90deg, transparent 50.0%, green 50.0%, green 66.9%, transparent 66.9%);\n",
              "        }#T_7c2acb20_08d7_11eb_90d3_0242ac1c0002row6_col1{\n",
              "            width:  10em;\n",
              "             height:  80%;\n",
              "            background:  linear-gradient(90deg, transparent 50.0%, green 50.0%, green 65.6%, transparent 65.6%);\n",
              "        }#T_7c2acb20_08d7_11eb_90d3_0242ac1c0002row7_col1{\n",
              "            width:  10em;\n",
              "             height:  80%;\n",
              "            background:  linear-gradient(90deg, transparent 50.0%, green 50.0%, green 62.3%, transparent 62.3%);\n",
              "        }#T_7c2acb20_08d7_11eb_90d3_0242ac1c0002row8_col1{\n",
              "            width:  10em;\n",
              "             height:  80%;\n",
              "            background:  linear-gradient(90deg, transparent 50.0%, green 50.0%, green 61.7%, transparent 61.7%);\n",
              "        }#T_7c2acb20_08d7_11eb_90d3_0242ac1c0002row9_col1{\n",
              "            width:  10em;\n",
              "             height:  80%;\n",
              "            background:  linear-gradient(90deg, transparent 50.0%, green 50.0%, green 61.0%, transparent 61.0%);\n",
              "        }#T_7c2acb20_08d7_11eb_90d3_0242ac1c0002row10_col1{\n",
              "            width:  10em;\n",
              "             height:  80%;\n",
              "            background:  linear-gradient(90deg, transparent 50.0%, green 50.0%, green 59.7%, transparent 59.7%);\n",
              "        }#T_7c2acb20_08d7_11eb_90d3_0242ac1c0002row11_col1{\n",
              "            width:  10em;\n",
              "             height:  80%;\n",
              "            background:  linear-gradient(90deg, transparent 50.0%, green 50.0%, green 59.1%, transparent 59.1%);\n",
              "        }#T_7c2acb20_08d7_11eb_90d3_0242ac1c0002row12_col1,#T_7c2acb20_08d7_11eb_90d3_0242ac1c0002row13_col1{\n",
              "            width:  10em;\n",
              "             height:  80%;\n",
              "            background:  linear-gradient(90deg, transparent 50.0%, green 50.0%, green 58.4%, transparent 58.4%);\n",
              "        }#T_7c2acb20_08d7_11eb_90d3_0242ac1c0002row14_col1{\n",
              "            width:  10em;\n",
              "             height:  80%;\n",
              "            background:  linear-gradient(90deg, transparent 50.0%, green 50.0%, green 57.8%, transparent 57.8%);\n",
              "        }#T_7c2acb20_08d7_11eb_90d3_0242ac1c0002row15_col1{\n",
              "            width:  10em;\n",
              "             height:  80%;\n",
              "            background:  linear-gradient(90deg, transparent 50.0%, green 50.0%, green 57.1%, transparent 57.1%);\n",
              "        }#T_7c2acb20_08d7_11eb_90d3_0242ac1c0002row16_col1{\n",
              "            width:  10em;\n",
              "             height:  80%;\n",
              "            background:  linear-gradient(90deg, transparent 50.0%, green 50.0%, green 56.5%, transparent 56.5%);\n",
              "        }#T_7c2acb20_08d7_11eb_90d3_0242ac1c0002row17_col1{\n",
              "            width:  10em;\n",
              "             height:  80%;\n",
              "            background:  linear-gradient(90deg, transparent 50.0%, green 50.0%, green 55.2%, transparent 55.2%);\n",
              "        }#T_7c2acb20_08d7_11eb_90d3_0242ac1c0002row18_col1,#T_7c2acb20_08d7_11eb_90d3_0242ac1c0002row19_col1,#T_7c2acb20_08d7_11eb_90d3_0242ac1c0002row20_col1,#T_7c2acb20_08d7_11eb_90d3_0242ac1c0002row21_col1,#T_7c2acb20_08d7_11eb_90d3_0242ac1c0002row22_col1,#T_7c2acb20_08d7_11eb_90d3_0242ac1c0002row23_col1,#T_7c2acb20_08d7_11eb_90d3_0242ac1c0002row24_col1{\n",
              "            width:  10em;\n",
              "             height:  80%;\n",
              "            background:  linear-gradient(90deg, transparent 50.0%, green 50.0%, green 53.9%, transparent 53.9%);\n",
              "        }#T_7c2acb20_08d7_11eb_90d3_0242ac1c0002row25_col1,#T_7c2acb20_08d7_11eb_90d3_0242ac1c0002row26_col1{\n",
              "            width:  10em;\n",
              "             height:  80%;\n",
              "            background:  linear-gradient(90deg, transparent 50.0%, green 50.0%, green 53.2%, transparent 53.2%);\n",
              "        }#T_7c2acb20_08d7_11eb_90d3_0242ac1c0002row27_col1,#T_7c2acb20_08d7_11eb_90d3_0242ac1c0002row28_col1,#T_7c2acb20_08d7_11eb_90d3_0242ac1c0002row29_col1,#T_7c2acb20_08d7_11eb_90d3_0242ac1c0002row30_col1{\n",
              "            width:  10em;\n",
              "             height:  80%;\n",
              "            background:  linear-gradient(90deg, transparent 50.0%, green 50.0%, green 52.6%, transparent 52.6%);\n",
              "        }#T_7c2acb20_08d7_11eb_90d3_0242ac1c0002row31_col1,#T_7c2acb20_08d7_11eb_90d3_0242ac1c0002row32_col1,#T_7c2acb20_08d7_11eb_90d3_0242ac1c0002row33_col1,#T_7c2acb20_08d7_11eb_90d3_0242ac1c0002row34_col1{\n",
              "            width:  10em;\n",
              "             height:  80%;\n",
              "            background:  linear-gradient(90deg, transparent 50.0%, green 50.0%, green 51.9%, transparent 51.9%);\n",
              "        }#T_7c2acb20_08d7_11eb_90d3_0242ac1c0002row35_col1,#T_7c2acb20_08d7_11eb_90d3_0242ac1c0002row36_col1,#T_7c2acb20_08d7_11eb_90d3_0242ac1c0002row37_col1,#T_7c2acb20_08d7_11eb_90d3_0242ac1c0002row38_col1,#T_7c2acb20_08d7_11eb_90d3_0242ac1c0002row39_col1,#T_7c2acb20_08d7_11eb_90d3_0242ac1c0002row40_col1,#T_7c2acb20_08d7_11eb_90d3_0242ac1c0002row41_col1,#T_7c2acb20_08d7_11eb_90d3_0242ac1c0002row42_col1,#T_7c2acb20_08d7_11eb_90d3_0242ac1c0002row43_col1,#T_7c2acb20_08d7_11eb_90d3_0242ac1c0002row44_col1{\n",
              "            width:  10em;\n",
              "             height:  80%;\n",
              "            background:  linear-gradient(90deg, transparent 50.0%, green 50.0%, green 51.3%, transparent 51.3%);\n",
              "        }#T_7c2acb20_08d7_11eb_90d3_0242ac1c0002row45_col1,#T_7c2acb20_08d7_11eb_90d3_0242ac1c0002row46_col1,#T_7c2acb20_08d7_11eb_90d3_0242ac1c0002row47_col1,#T_7c2acb20_08d7_11eb_90d3_0242ac1c0002row48_col1,#T_7c2acb20_08d7_11eb_90d3_0242ac1c0002row49_col1,#T_7c2acb20_08d7_11eb_90d3_0242ac1c0002row50_col1,#T_7c2acb20_08d7_11eb_90d3_0242ac1c0002row51_col1,#T_7c2acb20_08d7_11eb_90d3_0242ac1c0002row52_col1,#T_7c2acb20_08d7_11eb_90d3_0242ac1c0002row53_col1{\n",
              "            width:  10em;\n",
              "             height:  80%;\n",
              "            background:  linear-gradient(90deg, transparent 50.0%, green 50.0%, green 50.6%, transparent 50.6%);\n",
              "        }#T_7c2acb20_08d7_11eb_90d3_0242ac1c0002row54_col1,#T_7c2acb20_08d7_11eb_90d3_0242ac1c0002row55_col1,#T_7c2acb20_08d7_11eb_90d3_0242ac1c0002row56_col1,#T_7c2acb20_08d7_11eb_90d3_0242ac1c0002row57_col1,#T_7c2acb20_08d7_11eb_90d3_0242ac1c0002row58_col1,#T_7c2acb20_08d7_11eb_90d3_0242ac1c0002row59_col1,#T_7c2acb20_08d7_11eb_90d3_0242ac1c0002row60_col1,#T_7c2acb20_08d7_11eb_90d3_0242ac1c0002row61_col1,#T_7c2acb20_08d7_11eb_90d3_0242ac1c0002row62_col1,#T_7c2acb20_08d7_11eb_90d3_0242ac1c0002row63_col1,#T_7c2acb20_08d7_11eb_90d3_0242ac1c0002row64_col1,#T_7c2acb20_08d7_11eb_90d3_0242ac1c0002row65_col1{\n",
              "            width:  10em;\n",
              "             height:  80%;\n",
              "        }#T_7c2acb20_08d7_11eb_90d3_0242ac1c0002row66_col1,#T_7c2acb20_08d7_11eb_90d3_0242ac1c0002row67_col1,#T_7c2acb20_08d7_11eb_90d3_0242ac1c0002row68_col1,#T_7c2acb20_08d7_11eb_90d3_0242ac1c0002row69_col1,#T_7c2acb20_08d7_11eb_90d3_0242ac1c0002row70_col1,#T_7c2acb20_08d7_11eb_90d3_0242ac1c0002row71_col1,#T_7c2acb20_08d7_11eb_90d3_0242ac1c0002row72_col1,#T_7c2acb20_08d7_11eb_90d3_0242ac1c0002row73_col1,#T_7c2acb20_08d7_11eb_90d3_0242ac1c0002row74_col1,#T_7c2acb20_08d7_11eb_90d3_0242ac1c0002row75_col1,#T_7c2acb20_08d7_11eb_90d3_0242ac1c0002row76_col1,#T_7c2acb20_08d7_11eb_90d3_0242ac1c0002row77_col1,#T_7c2acb20_08d7_11eb_90d3_0242ac1c0002row78_col1,#T_7c2acb20_08d7_11eb_90d3_0242ac1c0002row79_col1{\n",
              "            width:  10em;\n",
              "             height:  80%;\n",
              "            background:  linear-gradient(90deg, transparent 49.4%, red 49.4%, red 50.0%, transparent 50.0%);\n",
              "        }#T_7c2acb20_08d7_11eb_90d3_0242ac1c0002row80_col1,#T_7c2acb20_08d7_11eb_90d3_0242ac1c0002row81_col1,#T_7c2acb20_08d7_11eb_90d3_0242ac1c0002row82_col1,#T_7c2acb20_08d7_11eb_90d3_0242ac1c0002row83_col1,#T_7c2acb20_08d7_11eb_90d3_0242ac1c0002row84_col1,#T_7c2acb20_08d7_11eb_90d3_0242ac1c0002row85_col1,#T_7c2acb20_08d7_11eb_90d3_0242ac1c0002row86_col1,#T_7c2acb20_08d7_11eb_90d3_0242ac1c0002row87_col1,#T_7c2acb20_08d7_11eb_90d3_0242ac1c0002row88_col1,#T_7c2acb20_08d7_11eb_90d3_0242ac1c0002row89_col1,#T_7c2acb20_08d7_11eb_90d3_0242ac1c0002row90_col1,#T_7c2acb20_08d7_11eb_90d3_0242ac1c0002row91_col1,#T_7c2acb20_08d7_11eb_90d3_0242ac1c0002row92_col1{\n",
              "            width:  10em;\n",
              "             height:  80%;\n",
              "            background:  linear-gradient(90deg, transparent 48.7%, red 48.7%, red 50.0%, transparent 50.0%);\n",
              "        }#T_7c2acb20_08d7_11eb_90d3_0242ac1c0002row93_col1,#T_7c2acb20_08d7_11eb_90d3_0242ac1c0002row94_col1,#T_7c2acb20_08d7_11eb_90d3_0242ac1c0002row95_col1,#T_7c2acb20_08d7_11eb_90d3_0242ac1c0002row96_col1,#T_7c2acb20_08d7_11eb_90d3_0242ac1c0002row97_col1,#T_7c2acb20_08d7_11eb_90d3_0242ac1c0002row98_col1,#T_7c2acb20_08d7_11eb_90d3_0242ac1c0002row99_col1,#T_7c2acb20_08d7_11eb_90d3_0242ac1c0002row100_col1,#T_7c2acb20_08d7_11eb_90d3_0242ac1c0002row101_col1{\n",
              "            width:  10em;\n",
              "             height:  80%;\n",
              "            background:  linear-gradient(90deg, transparent 48.1%, red 48.1%, red 50.0%, transparent 50.0%);\n",
              "        }#T_7c2acb20_08d7_11eb_90d3_0242ac1c0002row102_col1,#T_7c2acb20_08d7_11eb_90d3_0242ac1c0002row103_col1,#T_7c2acb20_08d7_11eb_90d3_0242ac1c0002row104_col1,#T_7c2acb20_08d7_11eb_90d3_0242ac1c0002row105_col1,#T_7c2acb20_08d7_11eb_90d3_0242ac1c0002row106_col1,#T_7c2acb20_08d7_11eb_90d3_0242ac1c0002row107_col1{\n",
              "            width:  10em;\n",
              "             height:  80%;\n",
              "            background:  linear-gradient(90deg, transparent 47.4%, red 47.4%, red 50.0%, transparent 50.0%);\n",
              "        }#T_7c2acb20_08d7_11eb_90d3_0242ac1c0002row108_col1{\n",
              "            width:  10em;\n",
              "             height:  80%;\n",
              "            background:  linear-gradient(90deg, transparent 46.8%, red 46.8%, red 50.0%, transparent 50.0%);\n",
              "        }#T_7c2acb20_08d7_11eb_90d3_0242ac1c0002row109_col1,#T_7c2acb20_08d7_11eb_90d3_0242ac1c0002row110_col1,#T_7c2acb20_08d7_11eb_90d3_0242ac1c0002row111_col1,#T_7c2acb20_08d7_11eb_90d3_0242ac1c0002row112_col1{\n",
              "            width:  10em;\n",
              "             height:  80%;\n",
              "            background:  linear-gradient(90deg, transparent 46.1%, red 46.1%, red 50.0%, transparent 50.0%);\n",
              "        }#T_7c2acb20_08d7_11eb_90d3_0242ac1c0002row113_col1,#T_7c2acb20_08d7_11eb_90d3_0242ac1c0002row114_col1{\n",
              "            width:  10em;\n",
              "             height:  80%;\n",
              "            background:  linear-gradient(90deg, transparent 45.5%, red 45.5%, red 50.0%, transparent 50.0%);\n",
              "        }#T_7c2acb20_08d7_11eb_90d3_0242ac1c0002row115_col1{\n",
              "            width:  10em;\n",
              "             height:  80%;\n",
              "            background:  linear-gradient(90deg, transparent 44.8%, red 44.8%, red 50.0%, transparent 50.0%);\n",
              "        }#T_7c2acb20_08d7_11eb_90d3_0242ac1c0002row116_col1{\n",
              "            width:  10em;\n",
              "             height:  80%;\n",
              "            background:  linear-gradient(90deg, transparent 44.2%, red 44.2%, red 50.0%, transparent 50.0%);\n",
              "        }#T_7c2acb20_08d7_11eb_90d3_0242ac1c0002row117_col1{\n",
              "            width:  10em;\n",
              "             height:  80%;\n",
              "            background:  linear-gradient(90deg, transparent 41.6%, red 41.6%, red 50.0%, transparent 50.0%);\n",
              "        }#T_7c2acb20_08d7_11eb_90d3_0242ac1c0002row118_col1{\n",
              "            width:  10em;\n",
              "             height:  80%;\n",
              "            background:  linear-gradient(90deg, transparent 40.9%, red 40.9%, red 50.0%, transparent 50.0%);\n",
              "        }#T_7c2acb20_08d7_11eb_90d3_0242ac1c0002row119_col1{\n",
              "            width:  10em;\n",
              "             height:  80%;\n",
              "            background:  linear-gradient(90deg, transparent 39.0%, red 39.0%, red 50.0%, transparent 50.0%);\n",
              "        }#T_7c2acb20_08d7_11eb_90d3_0242ac1c0002row120_col1{\n",
              "            width:  10em;\n",
              "             height:  80%;\n",
              "            background:  linear-gradient(90deg, transparent 38.3%, red 38.3%, red 50.0%, transparent 50.0%);\n",
              "        }#T_7c2acb20_08d7_11eb_90d3_0242ac1c0002row121_col1,#T_7c2acb20_08d7_11eb_90d3_0242ac1c0002row122_col1,#T_7c2acb20_08d7_11eb_90d3_0242ac1c0002row123_col1{\n",
              "            width:  10em;\n",
              "             height:  80%;\n",
              "            background:  linear-gradient(90deg, transparent 33.8%, red 33.8%, red 50.0%, transparent 50.0%);\n",
              "        }#T_7c2acb20_08d7_11eb_90d3_0242ac1c0002row124_col1{\n",
              "            width:  10em;\n",
              "             height:  80%;\n",
              "            background:  linear-gradient(90deg, transparent 29.9%, red 29.9%, red 50.0%, transparent 50.0%);\n",
              "        }#T_7c2acb20_08d7_11eb_90d3_0242ac1c0002row125_col1{\n",
              "            width:  10em;\n",
              "             height:  80%;\n",
              "            background:  linear-gradient(90deg, transparent 27.3%, red 27.3%, red 50.0%, transparent 50.0%);\n",
              "        }#T_7c2acb20_08d7_11eb_90d3_0242ac1c0002row126_col1{\n",
              "            width:  10em;\n",
              "             height:  80%;\n",
              "            background:  linear-gradient(90deg, transparent 26.6%, red 26.6%, red 50.0%, transparent 50.0%);\n",
              "        }#T_7c2acb20_08d7_11eb_90d3_0242ac1c0002row127_col1{\n",
              "            width:  10em;\n",
              "             height:  80%;\n",
              "            background:  linear-gradient(90deg, transparent 16.9%, red 16.9%, red 50.0%, transparent 50.0%);\n",
              "        }#T_7c2acb20_08d7_11eb_90d3_0242ac1c0002row128_col1{\n",
              "            width:  10em;\n",
              "             height:  80%;\n",
              "            background:  linear-gradient(90deg, transparent 6.5%, red 6.5%, red 50.0%, transparent 50.0%);\n",
              "        }#T_7c2acb20_08d7_11eb_90d3_0242ac1c0002row129_col1{\n",
              "            width:  10em;\n",
              "             height:  80%;\n",
              "            background:  linear-gradient(90deg,red 50.0%, transparent 50.0%);\n",
              "        }</style><table id=\"T_7c2acb20_08d7_11eb_90d3_0242ac1c0002\" ><thead>    <tr>        <th class=\"blank level0\" ></th>        <th class=\"col_heading level0 col0\" >variable</th>        <th class=\"col_heading level0 col1\" >coefficient</th>    </tr></thead><tbody>\n",
              "                <tr>\n",
              "                        <th id=\"T_7c2acb20_08d7_11eb_90d3_0242ac1c0002level0_row0\" class=\"row_heading level0 row0\" >4</th>\n",
              "                        <td id=\"T_7c2acb20_08d7_11eb_90d3_0242ac1c0002row0_col0\" class=\"data row0 col0\" >ct_health</td>\n",
              "                        <td id=\"T_7c2acb20_08d7_11eb_90d3_0242ac1c0002row0_col1\" class=\"data row0 col1\" >0.720000</td>\n",
              "            </tr>\n",
              "            <tr>\n",
              "                        <th id=\"T_7c2acb20_08d7_11eb_90d3_0242ac1c0002level0_row1\" class=\"row_heading level0 row1\" >6</th>\n",
              "                        <td id=\"T_7c2acb20_08d7_11eb_90d3_0242ac1c0002row1_col0\" class=\"data row1 col0\" >ct_armor</td>\n",
              "                        <td id=\"T_7c2acb20_08d7_11eb_90d3_0242ac1c0002row1_col1\" class=\"data row1 col1\" >0.510000</td>\n",
              "            </tr>\n",
              "            <tr>\n",
              "                        <th id=\"T_7c2acb20_08d7_11eb_90d3_0242ac1c0002level0_row2\" class=\"row_heading level0 row2\" >13</th>\n",
              "                        <td id=\"T_7c2acb20_08d7_11eb_90d3_0242ac1c0002row2_col0\" class=\"data row2 col0\" >ct_players_alive</td>\n",
              "                        <td id=\"T_7c2acb20_08d7_11eb_90d3_0242ac1c0002row2_col1\" class=\"data row2 col1\" >0.480000</td>\n",
              "            </tr>\n",
              "            <tr>\n",
              "                        <th id=\"T_7c2acb20_08d7_11eb_90d3_0242ac1c0002level0_row3\" class=\"row_heading level0 row3\" >108</th>\n",
              "                        <td id=\"T_7c2acb20_08d7_11eb_90d3_0242ac1c0002row3_col0\" class=\"data row3 col0\" >t_all_alive</td>\n",
              "                        <td id=\"T_7c2acb20_08d7_11eb_90d3_0242ac1c0002row3_col1\" class=\"data row3 col1\" >0.390000</td>\n",
              "            </tr>\n",
              "            <tr>\n",
              "                        <th id=\"T_7c2acb20_08d7_11eb_90d3_0242ac1c0002level0_row4\" class=\"row_heading level0 row4\" >91</th>\n",
              "                        <td id=\"T_7c2acb20_08d7_11eb_90d3_0242ac1c0002row4_col0\" class=\"data row4 col0\" >ct_assault</td>\n",
              "                        <td id=\"T_7c2acb20_08d7_11eb_90d3_0242ac1c0002row4_col1\" class=\"data row4 col1\" >0.330000</td>\n",
              "            </tr>\n",
              "            <tr>\n",
              "                        <th id=\"T_7c2acb20_08d7_11eb_90d3_0242ac1c0002level0_row5\" class=\"row_heading level0 row5\" >35</th>\n",
              "                        <td id=\"T_7c2acb20_08d7_11eb_90d3_0242ac1c0002row5_col0\" class=\"data row5 col0\" >ct_weapon_m4a4</td>\n",
              "                        <td id=\"T_7c2acb20_08d7_11eb_90d3_0242ac1c0002row5_col1\" class=\"data row5 col1\" >0.260000</td>\n",
              "            </tr>\n",
              "            <tr>\n",
              "                        <th id=\"T_7c2acb20_08d7_11eb_90d3_0242ac1c0002level0_row6\" class=\"row_heading level0 row6\" >81</th>\n",
              "                        <td id=\"T_7c2acb20_08d7_11eb_90d3_0242ac1c0002row6_col0\" class=\"data row6 col0\" >t_grenade_smokegrenade</td>\n",
              "                        <td id=\"T_7c2acb20_08d7_11eb_90d3_0242ac1c0002row6_col1\" class=\"data row6 col1\" >0.240000</td>\n",
              "            </tr>\n",
              "            <tr>\n",
              "                        <th id=\"T_7c2acb20_08d7_11eb_90d3_0242ac1c0002level0_row7\" class=\"row_heading level0 row7\" >8</th>\n",
              "                        <td id=\"T_7c2acb20_08d7_11eb_90d3_0242ac1c0002row7_col0\" class=\"data row7 col0\" >ct_money</td>\n",
              "                        <td id=\"T_7c2acb20_08d7_11eb_90d3_0242ac1c0002row7_col1\" class=\"data row7 col1\" >0.190000</td>\n",
              "            </tr>\n",
              "            <tr>\n",
              "                        <th id=\"T_7c2acb20_08d7_11eb_90d3_0242ac1c0002level0_row8\" class=\"row_heading level0 row8\" >95</th>\n",
              "                        <td id=\"T_7c2acb20_08d7_11eb_90d3_0242ac1c0002row8_col0\" class=\"data row8 col0\" >ct_sniper</td>\n",
              "                        <td id=\"T_7c2acb20_08d7_11eb_90d3_0242ac1c0002row8_col1\" class=\"data row8 col1\" >0.180000</td>\n",
              "            </tr>\n",
              "            <tr>\n",
              "                        <th id=\"T_7c2acb20_08d7_11eb_90d3_0242ac1c0002level0_row9\" class=\"row_heading level0 row9\" >19</th>\n",
              "                        <td id=\"T_7c2acb20_08d7_11eb_90d3_0242ac1c0002row9_col0\" class=\"data row9 col0\" >ct_weapon_awp</td>\n",
              "                        <td id=\"T_7c2acb20_08d7_11eb_90d3_0242ac1c0002row9_col1\" class=\"data row9 col1\" >0.170000</td>\n",
              "            </tr>\n",
              "            <tr>\n",
              "                        <th id=\"T_7c2acb20_08d7_11eb_90d3_0242ac1c0002level0_row10\" class=\"row_heading level0 row10\" >112</th>\n",
              "                        <td id=\"T_7c2acb20_08d7_11eb_90d3_0242ac1c0002row10_col0\" class=\"data row10 col0\" >map_value_de_nuke</td>\n",
              "                        <td id=\"T_7c2acb20_08d7_11eb_90d3_0242ac1c0002row10_col1\" class=\"data row10 col1\" >0.150000</td>\n",
              "            </tr>\n",
              "            <tr>\n",
              "                        <th id=\"T_7c2acb20_08d7_11eb_90d3_0242ac1c0002level0_row11\" class=\"row_heading level0 row11\" >98</th>\n",
              "                        <td id=\"T_7c2acb20_08d7_11eb_90d3_0242ac1c0002row11_col0\" class=\"data row11 col0\" >t_explosives</td>\n",
              "                        <td id=\"T_7c2acb20_08d7_11eb_90d3_0242ac1c0002row11_col1\" class=\"data row11 col1\" >0.140000</td>\n",
              "            </tr>\n",
              "            <tr>\n",
              "                        <th id=\"T_7c2acb20_08d7_11eb_90d3_0242ac1c0002level0_row12\" class=\"row_heading level0 row12\" >56</th>\n",
              "                        <td id=\"T_7c2acb20_08d7_11eb_90d3_0242ac1c0002row12_col0\" class=\"data row12 col0\" >ct_weapon_sg553</td>\n",
              "                        <td id=\"T_7c2acb20_08d7_11eb_90d3_0242ac1c0002row12_col1\" class=\"data row12 col1\" >0.130000</td>\n",
              "            </tr>\n",
              "            <tr>\n",
              "                        <th id=\"T_7c2acb20_08d7_11eb_90d3_0242ac1c0002level0_row13\" class=\"row_heading level0 row13\" >114</th>\n",
              "                        <td id=\"T_7c2acb20_08d7_11eb_90d3_0242ac1c0002row13_col0\" class=\"data row13 col0\" >map_value_de_overpass</td>\n",
              "                        <td id=\"T_7c2acb20_08d7_11eb_90d3_0242ac1c0002row13_col1\" class=\"data row13 col1\" >0.130000</td>\n",
              "            </tr>\n",
              "            <tr>\n",
              "                        <th id=\"T_7c2acb20_08d7_11eb_90d3_0242ac1c0002level0_row14\" class=\"row_heading level0 row14\" >85</th>\n",
              "                        <td id=\"T_7c2acb20_08d7_11eb_90d3_0242ac1c0002row14_col0\" class=\"data row14 col0\" >t_grenade_molotovgrenade</td>\n",
              "                        <td id=\"T_7c2acb20_08d7_11eb_90d3_0242ac1c0002row14_col1\" class=\"data row14 col1\" >0.120000</td>\n",
              "            </tr>\n",
              "            <tr>\n",
              "                        <th id=\"T_7c2acb20_08d7_11eb_90d3_0242ac1c0002level0_row15\" class=\"row_heading level0 row15\" >17</th>\n",
              "                        <td id=\"T_7c2acb20_08d7_11eb_90d3_0242ac1c0002row15_col0\" class=\"data row15 col0\" >ct_weapon_aug</td>\n",
              "                        <td id=\"T_7c2acb20_08d7_11eb_90d3_0242ac1c0002row15_col1\" class=\"data row15 col1\" >0.110000</td>\n",
              "            </tr>\n",
              "            <tr>\n",
              "                        <th id=\"T_7c2acb20_08d7_11eb_90d3_0242ac1c0002level0_row16\" class=\"row_heading level0 row16\" >79</th>\n",
              "                        <td id=\"T_7c2acb20_08d7_11eb_90d3_0242ac1c0002row16_col0\" class=\"data row16 col0\" >t_grenade_flashbang</td>\n",
              "                        <td id=\"T_7c2acb20_08d7_11eb_90d3_0242ac1c0002row16_col1\" class=\"data row16 col1\" >0.100000</td>\n",
              "            </tr>\n",
              "            <tr>\n",
              "                        <th id=\"T_7c2acb20_08d7_11eb_90d3_0242ac1c0002level0_row17\" class=\"row_heading level0 row17\" >15</th>\n",
              "                        <td id=\"T_7c2acb20_08d7_11eb_90d3_0242ac1c0002row17_col0\" class=\"data row17 col0\" >ct_weapon_ak47</td>\n",
              "                        <td id=\"T_7c2acb20_08d7_11eb_90d3_0242ac1c0002row17_col1\" class=\"data row17 col1\" >0.080000</td>\n",
              "            </tr>\n",
              "            <tr>\n",
              "                        <th id=\"T_7c2acb20_08d7_11eb_90d3_0242ac1c0002level0_row18\" class=\"row_heading level0 row18\" >33</th>\n",
              "                        <td id=\"T_7c2acb20_08d7_11eb_90d3_0242ac1c0002row18_col0\" class=\"data row18 col0\" >ct_weapon_m4a1s</td>\n",
              "                        <td id=\"T_7c2acb20_08d7_11eb_90d3_0242ac1c0002row18_col1\" class=\"data row18 col1\" >0.060000</td>\n",
              "            </tr>\n",
              "            <tr>\n",
              "                        <th id=\"T_7c2acb20_08d7_11eb_90d3_0242ac1c0002level0_row19\" class=\"row_heading level0 row19\" >26</th>\n",
              "                        <td id=\"T_7c2acb20_08d7_11eb_90d3_0242ac1c0002row19_col0\" class=\"data row19 col0\" >ct_weapon_famas</td>\n",
              "                        <td id=\"T_7c2acb20_08d7_11eb_90d3_0242ac1c0002row19_col1\" class=\"data row19 col1\" >0.060000</td>\n",
              "            </tr>\n",
              "            <tr>\n",
              "                        <th id=\"T_7c2acb20_08d7_11eb_90d3_0242ac1c0002level0_row20\" class=\"row_heading level0 row20\" >64</th>\n",
              "                        <td id=\"T_7c2acb20_08d7_11eb_90d3_0242ac1c0002row20_col0\" class=\"data row20 col0\" >ct_weapon_deagle</td>\n",
              "                        <td id=\"T_7c2acb20_08d7_11eb_90d3_0242ac1c0002row20_col1\" class=\"data row20 col1\" >0.060000</td>\n",
              "            </tr>\n",
              "            <tr>\n",
              "                        <th id=\"T_7c2acb20_08d7_11eb_90d3_0242ac1c0002level0_row21\" class=\"row_heading level0 row21\" >45</th>\n",
              "                        <td id=\"T_7c2acb20_08d7_11eb_90d3_0242ac1c0002row21_col0\" class=\"data row21 col0\" >ct_weapon_mp9</td>\n",
              "                        <td id=\"T_7c2acb20_08d7_11eb_90d3_0242ac1c0002row21_col1\" class=\"data row21 col1\" >0.060000</td>\n",
              "            </tr>\n",
              "            <tr>\n",
              "                        <th id=\"T_7c2acb20_08d7_11eb_90d3_0242ac1c0002level0_row22\" class=\"row_heading level0 row22\" >93</th>\n",
              "                        <td id=\"T_7c2acb20_08d7_11eb_90d3_0242ac1c0002row22_col0\" class=\"data row22 col0\" >ct_smg</td>\n",
              "                        <td id=\"T_7c2acb20_08d7_11eb_90d3_0242ac1c0002row22_col1\" class=\"data row22 col1\" >0.060000</td>\n",
              "            </tr>\n",
              "            <tr>\n",
              "                        <th id=\"T_7c2acb20_08d7_11eb_90d3_0242ac1c0002level0_row23\" class=\"row_heading level0 row23\" >126</th>\n",
              "                        <td id=\"T_7c2acb20_08d7_11eb_90d3_0242ac1c0002row23_col0\" class=\"data row23 col0\" >time_quarter_value_Q1</td>\n",
              "                        <td id=\"T_7c2acb20_08d7_11eb_90d3_0242ac1c0002row23_col1\" class=\"data row23 col1\" >0.060000</td>\n",
              "            </tr>\n",
              "            <tr>\n",
              "                        <th id=\"T_7c2acb20_08d7_11eb_90d3_0242ac1c0002level0_row24\" class=\"row_heading level0 row24\" >120</th>\n",
              "                        <td id=\"T_7c2acb20_08d7_11eb_90d3_0242ac1c0002row24_col0\" class=\"data row24 col0\" >t_money_cat_value_midhigh</td>\n",
              "                        <td id=\"T_7c2acb20_08d7_11eb_90d3_0242ac1c0002row24_col1\" class=\"data row24 col1\" >0.060000</td>\n",
              "            </tr>\n",
              "            <tr>\n",
              "                        <th id=\"T_7c2acb20_08d7_11eb_90d3_0242ac1c0002level0_row25\" class=\"row_heading level0 row25\" >32</th>\n",
              "                        <td id=\"T_7c2acb20_08d7_11eb_90d3_0242ac1c0002row25_col0\" class=\"data row25 col0\" >t_weapon_glock</td>\n",
              "                        <td id=\"T_7c2acb20_08d7_11eb_90d3_0242ac1c0002row25_col1\" class=\"data row25 col1\" >0.050000</td>\n",
              "            </tr>\n",
              "            <tr>\n",
              "                        <th id=\"T_7c2acb20_08d7_11eb_90d3_0242ac1c0002level0_row26\" class=\"row_heading level0 row26\" >52</th>\n",
              "                        <td id=\"T_7c2acb20_08d7_11eb_90d3_0242ac1c0002row26_col0\" class=\"data row26 col0\" >t_weapon_r8revolver</td>\n",
              "                        <td id=\"T_7c2acb20_08d7_11eb_90d3_0242ac1c0002row26_col1\" class=\"data row26 col1\" >0.050000</td>\n",
              "            </tr>\n",
              "            <tr>\n",
              "                        <th id=\"T_7c2acb20_08d7_11eb_90d3_0242ac1c0002level0_row27\" class=\"row_heading level0 row27\" >58</th>\n",
              "                        <td id=\"T_7c2acb20_08d7_11eb_90d3_0242ac1c0002row27_col0\" class=\"data row27 col0\" >ct_weapon_ssg08</td>\n",
              "                        <td id=\"T_7c2acb20_08d7_11eb_90d3_0242ac1c0002row27_col1\" class=\"data row27 col1\" >0.040000</td>\n",
              "            </tr>\n",
              "            <tr>\n",
              "                        <th id=\"T_7c2acb20_08d7_11eb_90d3_0242ac1c0002level0_row28\" class=\"row_heading level0 row28\" >125</th>\n",
              "                        <td id=\"T_7c2acb20_08d7_11eb_90d3_0242ac1c0002row28_col0\" class=\"data row28 col0\" >ct_money_cat_value_high</td>\n",
              "                        <td id=\"T_7c2acb20_08d7_11eb_90d3_0242ac1c0002row28_col1\" class=\"data row28 col1\" >0.040000</td>\n",
              "            </tr>\n",
              "            <tr>\n",
              "                        <th id=\"T_7c2acb20_08d7_11eb_90d3_0242ac1c0002level0_row29\" class=\"row_heading level0 row29\" >117</th>\n",
              "                        <td id=\"T_7c2acb20_08d7_11eb_90d3_0242ac1c0002row29_col0\" class=\"data row29 col0\" >map_value_de_cache</td>\n",
              "                        <td id=\"T_7c2acb20_08d7_11eb_90d3_0242ac1c0002row29_col1\" class=\"data row29 col1\" >0.040000</td>\n",
              "            </tr>\n",
              "            <tr>\n",
              "                        <th id=\"T_7c2acb20_08d7_11eb_90d3_0242ac1c0002level0_row30\" class=\"row_heading level0 row30\" >106</th>\n",
              "                        <td id=\"T_7c2acb20_08d7_11eb_90d3_0242ac1c0002row30_col0\" class=\"data row30 col0\" >ct_smallmap_sniper</td>\n",
              "                        <td id=\"T_7c2acb20_08d7_11eb_90d3_0242ac1c0002row30_col1\" class=\"data row30 col1\" >0.040000</td>\n",
              "            </tr>\n",
              "            <tr>\n",
              "                        <th id=\"T_7c2acb20_08d7_11eb_90d3_0242ac1c0002level0_row31\" class=\"row_heading level0 row31\" >22</th>\n",
              "                        <td id=\"T_7c2acb20_08d7_11eb_90d3_0242ac1c0002row31_col0\" class=\"data row31 col0\" >ct_weapon_cz75auto</td>\n",
              "                        <td id=\"T_7c2acb20_08d7_11eb_90d3_0242ac1c0002row31_col1\" class=\"data row31 col1\" >0.030000</td>\n",
              "            </tr>\n",
              "            <tr>\n",
              "                        <th id=\"T_7c2acb20_08d7_11eb_90d3_0242ac1c0002level0_row32\" class=\"row_heading level0 row32\" >47</th>\n",
              "                        <td id=\"T_7c2acb20_08d7_11eb_90d3_0242ac1c0002row32_col0\" class=\"data row32 col0\" >t_weapon_negev</td>\n",
              "                        <td id=\"T_7c2acb20_08d7_11eb_90d3_0242ac1c0002row32_col1\" class=\"data row32 col1\" >0.030000</td>\n",
              "            </tr>\n",
              "            <tr>\n",
              "                        <th id=\"T_7c2acb20_08d7_11eb_90d3_0242ac1c0002level0_row33\" class=\"row_heading level0 row33\" >75</th>\n",
              "                        <td id=\"T_7c2acb20_08d7_11eb_90d3_0242ac1c0002row33_col0\" class=\"data row33 col0\" >t_weapon_tec9</td>\n",
              "                        <td id=\"T_7c2acb20_08d7_11eb_90d3_0242ac1c0002row33_col1\" class=\"data row33 col1\" >0.030000</td>\n",
              "            </tr>\n",
              "            <tr>\n",
              "                        <th id=\"T_7c2acb20_08d7_11eb_90d3_0242ac1c0002level0_row34\" class=\"row_heading level0 row34\" >102</th>\n",
              "                        <td id=\"T_7c2acb20_08d7_11eb_90d3_0242ac1c0002row34_col0\" class=\"data row34 col0\" >ct_all_assaults</td>\n",
              "                        <td id=\"T_7c2acb20_08d7_11eb_90d3_0242ac1c0002row34_col1\" class=\"data row34 col1\" >0.030000</td>\n",
              "            </tr>\n",
              "            <tr>\n",
              "                        <th id=\"T_7c2acb20_08d7_11eb_90d3_0242ac1c0002level0_row35\" class=\"row_heading level0 row35\" >1</th>\n",
              "                        <td id=\"T_7c2acb20_08d7_11eb_90d3_0242ac1c0002row35_col0\" class=\"data row35 col0\" >ct_score</td>\n",
              "                        <td id=\"T_7c2acb20_08d7_11eb_90d3_0242ac1c0002row35_col1\" class=\"data row35 col1\" >0.020000</td>\n",
              "            </tr>\n",
              "            <tr>\n",
              "                        <th id=\"T_7c2acb20_08d7_11eb_90d3_0242ac1c0002level0_row36\" class=\"row_heading level0 row36\" >67</th>\n",
              "                        <td id=\"T_7c2acb20_08d7_11eb_90d3_0242ac1c0002row36_col0\" class=\"data row36 col0\" >t_weapon_fiveseven</td>\n",
              "                        <td id=\"T_7c2acb20_08d7_11eb_90d3_0242ac1c0002row36_col1\" class=\"data row36 col1\" >0.020000</td>\n",
              "            </tr>\n",
              "            <tr>\n",
              "                        <th id=\"T_7c2acb20_08d7_11eb_90d3_0242ac1c0002level0_row37\" class=\"row_heading level0 row37\" >39</th>\n",
              "                        <td id=\"T_7c2acb20_08d7_11eb_90d3_0242ac1c0002row37_col0\" class=\"data row37 col0\" >ct_weapon_mag7</td>\n",
              "                        <td id=\"T_7c2acb20_08d7_11eb_90d3_0242ac1c0002row37_col1\" class=\"data row37 col1\" >0.020000</td>\n",
              "            </tr>\n",
              "            <tr>\n",
              "                        <th id=\"T_7c2acb20_08d7_11eb_90d3_0242ac1c0002level0_row38\" class=\"row_heading level0 row38\" >48</th>\n",
              "                        <td id=\"T_7c2acb20_08d7_11eb_90d3_0242ac1c0002row38_col0\" class=\"data row38 col0\" >ct_weapon_nova</td>\n",
              "                        <td id=\"T_7c2acb20_08d7_11eb_90d3_0242ac1c0002row38_col1\" class=\"data row38 col1\" >0.020000</td>\n",
              "            </tr>\n",
              "            <tr>\n",
              "                        <th id=\"T_7c2acb20_08d7_11eb_90d3_0242ac1c0002level0_row39\" class=\"row_heading level0 row39\" >59</th>\n",
              "                        <td id=\"T_7c2acb20_08d7_11eb_90d3_0242ac1c0002row39_col0\" class=\"data row39 col0\" >t_weapon_ssg08</td>\n",
              "                        <td id=\"T_7c2acb20_08d7_11eb_90d3_0242ac1c0002row39_col1\" class=\"data row39 col1\" >0.020000</td>\n",
              "            </tr>\n",
              "            <tr>\n",
              "                        <th id=\"T_7c2acb20_08d7_11eb_90d3_0242ac1c0002level0_row40\" class=\"row_heading level0 row40\" >119</th>\n",
              "                        <td id=\"T_7c2acb20_08d7_11eb_90d3_0242ac1c0002row40_col0\" class=\"data row40 col0\" >t_money_cat_value_midlow</td>\n",
              "                        <td id=\"T_7c2acb20_08d7_11eb_90d3_0242ac1c0002row40_col1\" class=\"data row40 col1\" >0.020000</td>\n",
              "            </tr>\n",
              "            <tr>\n",
              "                        <th id=\"T_7c2acb20_08d7_11eb_90d3_0242ac1c0002level0_row41\" class=\"row_heading level0 row41\" >97</th>\n",
              "                        <td id=\"T_7c2acb20_08d7_11eb_90d3_0242ac1c0002row41_col0\" class=\"data row41 col0\" >ct_shotgun</td>\n",
              "                        <td id=\"T_7c2acb20_08d7_11eb_90d3_0242ac1c0002row41_col1\" class=\"data row41 col1\" >0.020000</td>\n",
              "            </tr>\n",
              "            <tr>\n",
              "                        <th id=\"T_7c2acb20_08d7_11eb_90d3_0242ac1c0002level0_row42\" class=\"row_heading level0 row42\" >24</th>\n",
              "                        <td id=\"T_7c2acb20_08d7_11eb_90d3_0242ac1c0002row42_col0\" class=\"data row42 col0\" >ct_weapon_elite</td>\n",
              "                        <td id=\"T_7c2acb20_08d7_11eb_90d3_0242ac1c0002row42_col1\" class=\"data row42 col1\" >0.020000</td>\n",
              "            </tr>\n",
              "            <tr>\n",
              "                        <th id=\"T_7c2acb20_08d7_11eb_90d3_0242ac1c0002level0_row43\" class=\"row_heading level0 row43\" >29</th>\n",
              "                        <td id=\"T_7c2acb20_08d7_11eb_90d3_0242ac1c0002row43_col0\" class=\"data row43 col0\" >ct_weapon_galilar</td>\n",
              "                        <td id=\"T_7c2acb20_08d7_11eb_90d3_0242ac1c0002row43_col1\" class=\"data row43 col1\" >0.020000</td>\n",
              "            </tr>\n",
              "            <tr>\n",
              "                        <th id=\"T_7c2acb20_08d7_11eb_90d3_0242ac1c0002level0_row44\" class=\"row_heading level0 row44\" >50</th>\n",
              "                        <td id=\"T_7c2acb20_08d7_11eb_90d3_0242ac1c0002row44_col0\" class=\"data row44 col0\" >ct_weapon_p90</td>\n",
              "                        <td id=\"T_7c2acb20_08d7_11eb_90d3_0242ac1c0002row44_col1\" class=\"data row44 col1\" >0.020000</td>\n",
              "            </tr>\n",
              "            <tr>\n",
              "                        <th id=\"T_7c2acb20_08d7_11eb_90d3_0242ac1c0002level0_row45\" class=\"row_heading level0 row45\" >60</th>\n",
              "                        <td id=\"T_7c2acb20_08d7_11eb_90d3_0242ac1c0002row45_col0\" class=\"data row45 col0\" >ct_weapon_ump45</td>\n",
              "                        <td id=\"T_7c2acb20_08d7_11eb_90d3_0242ac1c0002row45_col1\" class=\"data row45 col1\" >0.010000</td>\n",
              "            </tr>\n",
              "            <tr>\n",
              "                        <th id=\"T_7c2acb20_08d7_11eb_90d3_0242ac1c0002level0_row46\" class=\"row_heading level0 row46\" >49</th>\n",
              "                        <td id=\"T_7c2acb20_08d7_11eb_90d3_0242ac1c0002row46_col0\" class=\"data row46 col0\" >t_weapon_nova</td>\n",
              "                        <td id=\"T_7c2acb20_08d7_11eb_90d3_0242ac1c0002row46_col1\" class=\"data row46 col1\" >0.010000</td>\n",
              "            </tr>\n",
              "            <tr>\n",
              "                        <th id=\"T_7c2acb20_08d7_11eb_90d3_0242ac1c0002level0_row47\" class=\"row_heading level0 row47\" >62</th>\n",
              "                        <td id=\"T_7c2acb20_08d7_11eb_90d3_0242ac1c0002row47_col0\" class=\"data row47 col0\" >ct_weapon_xm1014</td>\n",
              "                        <td id=\"T_7c2acb20_08d7_11eb_90d3_0242ac1c0002row47_col1\" class=\"data row47 col1\" >0.010000</td>\n",
              "            </tr>\n",
              "            <tr>\n",
              "                        <th id=\"T_7c2acb20_08d7_11eb_90d3_0242ac1c0002level0_row48\" class=\"row_heading level0 row48\" >63</th>\n",
              "                        <td id=\"T_7c2acb20_08d7_11eb_90d3_0242ac1c0002row48_col0\" class=\"data row48 col0\" >t_weapon_xm1014</td>\n",
              "                        <td id=\"T_7c2acb20_08d7_11eb_90d3_0242ac1c0002row48_col1\" class=\"data row48 col1\" >0.010000</td>\n",
              "            </tr>\n",
              "            <tr>\n",
              "                        <th id=\"T_7c2acb20_08d7_11eb_90d3_0242ac1c0002level0_row49\" class=\"row_heading level0 row49\" >37</th>\n",
              "                        <td id=\"T_7c2acb20_08d7_11eb_90d3_0242ac1c0002row49_col0\" class=\"data row49 col0\" >ct_weapon_mac10</td>\n",
              "                        <td id=\"T_7c2acb20_08d7_11eb_90d3_0242ac1c0002row49_col1\" class=\"data row49 col1\" >0.010000</td>\n",
              "            </tr>\n",
              "            <tr>\n",
              "                        <th id=\"T_7c2acb20_08d7_11eb_90d3_0242ac1c0002level0_row50\" class=\"row_heading level0 row50\" >44</th>\n",
              "                        <td id=\"T_7c2acb20_08d7_11eb_90d3_0242ac1c0002row50_col0\" class=\"data row50 col0\" >t_weapon_mp7</td>\n",
              "                        <td id=\"T_7c2acb20_08d7_11eb_90d3_0242ac1c0002row50_col1\" class=\"data row50 col1\" >0.010000</td>\n",
              "            </tr>\n",
              "            <tr>\n",
              "                        <th id=\"T_7c2acb20_08d7_11eb_90d3_0242ac1c0002level0_row51\" class=\"row_heading level0 row51\" >124</th>\n",
              "                        <td id=\"T_7c2acb20_08d7_11eb_90d3_0242ac1c0002row51_col0\" class=\"data row51 col0\" >ct_money_cat_value_midhigh</td>\n",
              "                        <td id=\"T_7c2acb20_08d7_11eb_90d3_0242ac1c0002row51_col1\" class=\"data row51 col1\" >0.010000</td>\n",
              "            </tr>\n",
              "            <tr>\n",
              "                        <th id=\"T_7c2acb20_08d7_11eb_90d3_0242ac1c0002level0_row52\" class=\"row_heading level0 row52\" >83</th>\n",
              "                        <td id=\"T_7c2acb20_08d7_11eb_90d3_0242ac1c0002row52_col0\" class=\"data row52 col0\" >t_grenade_incendiarygrenade</td>\n",
              "                        <td id=\"T_7c2acb20_08d7_11eb_90d3_0242ac1c0002row52_col1\" class=\"data row52 col1\" >0.010000</td>\n",
              "            </tr>\n",
              "            <tr>\n",
              "                        <th id=\"T_7c2acb20_08d7_11eb_90d3_0242ac1c0002level0_row53\" class=\"row_heading level0 row53\" >88</th>\n",
              "                        <td id=\"T_7c2acb20_08d7_11eb_90d3_0242ac1c0002row53_col0\" class=\"data row53 col0\" >t_pistols</td>\n",
              "                        <td id=\"T_7c2acb20_08d7_11eb_90d3_0242ac1c0002row53_col1\" class=\"data row53 col1\" >0.010000</td>\n",
              "            </tr>\n",
              "            <tr>\n",
              "                        <th id=\"T_7c2acb20_08d7_11eb_90d3_0242ac1c0002level0_row54\" class=\"row_heading level0 row54\" >78</th>\n",
              "                        <td id=\"T_7c2acb20_08d7_11eb_90d3_0242ac1c0002row54_col0\" class=\"data row54 col0\" >ct_grenade_flashbang</td>\n",
              "                        <td id=\"T_7c2acb20_08d7_11eb_90d3_0242ac1c0002row54_col1\" class=\"data row54 col1\" >0.000000</td>\n",
              "            </tr>\n",
              "            <tr>\n",
              "                        <th id=\"T_7c2acb20_08d7_11eb_90d3_0242ac1c0002level0_row55\" class=\"row_heading level0 row55\" >86</th>\n",
              "                        <td id=\"T_7c2acb20_08d7_11eb_90d3_0242ac1c0002row55_col0\" class=\"data row55 col0\" >ct_grenade_decoygrenade</td>\n",
              "                        <td id=\"T_7c2acb20_08d7_11eb_90d3_0242ac1c0002row55_col1\" class=\"data row55 col1\" >0.000000</td>\n",
              "            </tr>\n",
              "            <tr>\n",
              "                        <th id=\"T_7c2acb20_08d7_11eb_90d3_0242ac1c0002level0_row56\" class=\"row_heading level0 row56\" >96</th>\n",
              "                        <td id=\"T_7c2acb20_08d7_11eb_90d3_0242ac1c0002row56_col0\" class=\"data row56 col0\" >t_shotgun</td>\n",
              "                        <td id=\"T_7c2acb20_08d7_11eb_90d3_0242ac1c0002row56_col1\" class=\"data row56 col1\" >0.000000</td>\n",
              "            </tr>\n",
              "            <tr>\n",
              "                        <th id=\"T_7c2acb20_08d7_11eb_90d3_0242ac1c0002level0_row57\" class=\"row_heading level0 row57\" >107</th>\n",
              "                        <td id=\"T_7c2acb20_08d7_11eb_90d3_0242ac1c0002row57_col0\" class=\"data row57 col0\" >round_count</td>\n",
              "                        <td id=\"T_7c2acb20_08d7_11eb_90d3_0242ac1c0002row57_col1\" class=\"data row57 col1\" >0.000000</td>\n",
              "            </tr>\n",
              "            <tr>\n",
              "                        <th id=\"T_7c2acb20_08d7_11eb_90d3_0242ac1c0002level0_row58\" class=\"row_heading level0 row58\" >122</th>\n",
              "                        <td id=\"T_7c2acb20_08d7_11eb_90d3_0242ac1c0002row58_col0\" class=\"data row58 col0\" >ct_money_cat_value_low</td>\n",
              "                        <td id=\"T_7c2acb20_08d7_11eb_90d3_0242ac1c0002row58_col1\" class=\"data row58 col1\" >0.000000</td>\n",
              "            </tr>\n",
              "            <tr>\n",
              "                        <th id=\"T_7c2acb20_08d7_11eb_90d3_0242ac1c0002level0_row59\" class=\"row_heading level0 row59\" >46</th>\n",
              "                        <td id=\"T_7c2acb20_08d7_11eb_90d3_0242ac1c0002row59_col0\" class=\"data row59 col0\" >t_weapon_mp9</td>\n",
              "                        <td id=\"T_7c2acb20_08d7_11eb_90d3_0242ac1c0002row59_col1\" class=\"data row59 col1\" >-0.000000</td>\n",
              "            </tr>\n",
              "            <tr>\n",
              "                        <th id=\"T_7c2acb20_08d7_11eb_90d3_0242ac1c0002level0_row60\" class=\"row_heading level0 row60\" >21</th>\n",
              "                        <td id=\"T_7c2acb20_08d7_11eb_90d3_0242ac1c0002row60_col0\" class=\"data row60 col0\" >t_weapon_bizon</td>\n",
              "                        <td id=\"T_7c2acb20_08d7_11eb_90d3_0242ac1c0002row60_col1\" class=\"data row60 col1\" >0.000000</td>\n",
              "            </tr>\n",
              "            <tr>\n",
              "                        <th id=\"T_7c2acb20_08d7_11eb_90d3_0242ac1c0002level0_row61\" class=\"row_heading level0 row61\" >12</th>\n",
              "                        <td id=\"T_7c2acb20_08d7_11eb_90d3_0242ac1c0002row61_col0\" class=\"data row61 col0\" >ct_defuse_kits</td>\n",
              "                        <td id=\"T_7c2acb20_08d7_11eb_90d3_0242ac1c0002row61_col1\" class=\"data row61 col1\" >-0.000000</td>\n",
              "            </tr>\n",
              "            <tr>\n",
              "                        <th id=\"T_7c2acb20_08d7_11eb_90d3_0242ac1c0002level0_row62\" class=\"row_heading level0 row62\" >28</th>\n",
              "                        <td id=\"T_7c2acb20_08d7_11eb_90d3_0242ac1c0002row62_col0\" class=\"data row62 col0\" >t_weapon_g3sg1</td>\n",
              "                        <td id=\"T_7c2acb20_08d7_11eb_90d3_0242ac1c0002row62_col1\" class=\"data row62 col1\" >-0.000000</td>\n",
              "            </tr>\n",
              "            <tr>\n",
              "                        <th id=\"T_7c2acb20_08d7_11eb_90d3_0242ac1c0002level0_row63\" class=\"row_heading level0 row63\" >41</th>\n",
              "                        <td id=\"T_7c2acb20_08d7_11eb_90d3_0242ac1c0002row63_col0\" class=\"data row63 col0\" >ct_weapon_mp5sd</td>\n",
              "                        <td id=\"T_7c2acb20_08d7_11eb_90d3_0242ac1c0002row63_col1\" class=\"data row63 col1\" >0.000000</td>\n",
              "            </tr>\n",
              "            <tr>\n",
              "                        <th id=\"T_7c2acb20_08d7_11eb_90d3_0242ac1c0002level0_row64\" class=\"row_heading level0 row64\" >55</th>\n",
              "                        <td id=\"T_7c2acb20_08d7_11eb_90d3_0242ac1c0002row64_col0\" class=\"data row64 col0\" >t_weapon_scar20</td>\n",
              "                        <td id=\"T_7c2acb20_08d7_11eb_90d3_0242ac1c0002row64_col1\" class=\"data row64 col1\" >0.000000</td>\n",
              "            </tr>\n",
              "            <tr>\n",
              "                        <th id=\"T_7c2acb20_08d7_11eb_90d3_0242ac1c0002level0_row65\" class=\"row_heading level0 row65\" >10</th>\n",
              "                        <td id=\"T_7c2acb20_08d7_11eb_90d3_0242ac1c0002row65_col0\" class=\"data row65 col0\" >ct_helmets</td>\n",
              "                        <td id=\"T_7c2acb20_08d7_11eb_90d3_0242ac1c0002row65_col1\" class=\"data row65 col1\" >0.000000</td>\n",
              "            </tr>\n",
              "            <tr>\n",
              "                        <th id=\"T_7c2acb20_08d7_11eb_90d3_0242ac1c0002level0_row66\" class=\"row_heading level0 row66\" >74</th>\n",
              "                        <td id=\"T_7c2acb20_08d7_11eb_90d3_0242ac1c0002row66_col0\" class=\"data row66 col0\" >ct_weapon_tec9</td>\n",
              "                        <td id=\"T_7c2acb20_08d7_11eb_90d3_0242ac1c0002row66_col1\" class=\"data row66 col1\" >-0.010000</td>\n",
              "            </tr>\n",
              "            <tr>\n",
              "                        <th id=\"T_7c2acb20_08d7_11eb_90d3_0242ac1c0002level0_row67\" class=\"row_heading level0 row67\" >123</th>\n",
              "                        <td id=\"T_7c2acb20_08d7_11eb_90d3_0242ac1c0002row67_col0\" class=\"data row67 col0\" >ct_money_cat_value_midlow</td>\n",
              "                        <td id=\"T_7c2acb20_08d7_11eb_90d3_0242ac1c0002row67_col1\" class=\"data row67 col1\" >-0.010000</td>\n",
              "            </tr>\n",
              "            <tr>\n",
              "                        <th id=\"T_7c2acb20_08d7_11eb_90d3_0242ac1c0002level0_row68\" class=\"row_heading level0 row68\" >18</th>\n",
              "                        <td id=\"T_7c2acb20_08d7_11eb_90d3_0242ac1c0002row68_col0\" class=\"data row68 col0\" >t_weapon_aug</td>\n",
              "                        <td id=\"T_7c2acb20_08d7_11eb_90d3_0242ac1c0002row68_col1\" class=\"data row68 col1\" >-0.010000</td>\n",
              "            </tr>\n",
              "            <tr>\n",
              "                        <th id=\"T_7c2acb20_08d7_11eb_90d3_0242ac1c0002level0_row69\" class=\"row_heading level0 row69\" >121</th>\n",
              "                        <td id=\"T_7c2acb20_08d7_11eb_90d3_0242ac1c0002row69_col0\" class=\"data row69 col0\" >t_money_cat_value_high</td>\n",
              "                        <td id=\"T_7c2acb20_08d7_11eb_90d3_0242ac1c0002row69_col1\" class=\"data row69 col1\" >-0.010000</td>\n",
              "            </tr>\n",
              "            <tr>\n",
              "                        <th id=\"T_7c2acb20_08d7_11eb_90d3_0242ac1c0002level0_row70\" class=\"row_heading level0 row70\" >89</th>\n",
              "                        <td id=\"T_7c2acb20_08d7_11eb_90d3_0242ac1c0002row70_col0\" class=\"data row70 col0\" >ct_pistols</td>\n",
              "                        <td id=\"T_7c2acb20_08d7_11eb_90d3_0242ac1c0002row70_col1\" class=\"data row70 col1\" >-0.010000</td>\n",
              "            </tr>\n",
              "            <tr>\n",
              "                        <th id=\"T_7c2acb20_08d7_11eb_90d3_0242ac1c0002level0_row71\" class=\"row_heading level0 row71\" >84</th>\n",
              "                        <td id=\"T_7c2acb20_08d7_11eb_90d3_0242ac1c0002row71_col0\" class=\"data row71 col0\" >ct_grenade_molotovgrenade</td>\n",
              "                        <td id=\"T_7c2acb20_08d7_11eb_90d3_0242ac1c0002row71_col1\" class=\"data row71 col1\" >-0.010000</td>\n",
              "            </tr>\n",
              "            <tr>\n",
              "                        <th id=\"T_7c2acb20_08d7_11eb_90d3_0242ac1c0002level0_row72\" class=\"row_heading level0 row72\" >115</th>\n",
              "                        <td id=\"T_7c2acb20_08d7_11eb_90d3_0242ac1c0002row72_col0\" class=\"data row72 col0\" >map_value_de_train</td>\n",
              "                        <td id=\"T_7c2acb20_08d7_11eb_90d3_0242ac1c0002row72_col1\" class=\"data row72 col1\" >-0.010000</td>\n",
              "            </tr>\n",
              "            <tr>\n",
              "                        <th id=\"T_7c2acb20_08d7_11eb_90d3_0242ac1c0002level0_row73\" class=\"row_heading level0 row73\" >76</th>\n",
              "                        <td id=\"T_7c2acb20_08d7_11eb_90d3_0242ac1c0002row73_col0\" class=\"data row73 col0\" >ct_grenade_hegrenade</td>\n",
              "                        <td id=\"T_7c2acb20_08d7_11eb_90d3_0242ac1c0002row73_col1\" class=\"data row73 col1\" >-0.010000</td>\n",
              "            </tr>\n",
              "            <tr>\n",
              "                        <th id=\"T_7c2acb20_08d7_11eb_90d3_0242ac1c0002level0_row74\" class=\"row_heading level0 row74\" >101</th>\n",
              "                        <td id=\"T_7c2acb20_08d7_11eb_90d3_0242ac1c0002row74_col0\" class=\"data row74 col0\" >t_all_assaults</td>\n",
              "                        <td id=\"T_7c2acb20_08d7_11eb_90d3_0242ac1c0002row74_col1\" class=\"data row74 col1\" >-0.010000</td>\n",
              "            </tr>\n",
              "            <tr>\n",
              "                        <th id=\"T_7c2acb20_08d7_11eb_90d3_0242ac1c0002level0_row75\" class=\"row_heading level0 row75\" >53</th>\n",
              "                        <td id=\"T_7c2acb20_08d7_11eb_90d3_0242ac1c0002row75_col0\" class=\"data row75 col0\" >t_weapon_sawedoff</td>\n",
              "                        <td id=\"T_7c2acb20_08d7_11eb_90d3_0242ac1c0002row75_col1\" class=\"data row75 col1\" >-0.010000</td>\n",
              "            </tr>\n",
              "            <tr>\n",
              "                        <th id=\"T_7c2acb20_08d7_11eb_90d3_0242ac1c0002level0_row76\" class=\"row_heading level0 row76\" >43</th>\n",
              "                        <td id=\"T_7c2acb20_08d7_11eb_90d3_0242ac1c0002row76_col0\" class=\"data row76 col0\" >ct_weapon_mp7</td>\n",
              "                        <td id=\"T_7c2acb20_08d7_11eb_90d3_0242ac1c0002row76_col1\" class=\"data row76 col1\" >-0.010000</td>\n",
              "            </tr>\n",
              "            <tr>\n",
              "                        <th id=\"T_7c2acb20_08d7_11eb_90d3_0242ac1c0002level0_row77\" class=\"row_heading level0 row77\" >71</th>\n",
              "                        <td id=\"T_7c2acb20_08d7_11eb_90d3_0242ac1c0002row77_col0\" class=\"data row77 col0\" >t_weapon_p250</td>\n",
              "                        <td id=\"T_7c2acb20_08d7_11eb_90d3_0242ac1c0002row77_col1\" class=\"data row77 col1\" >-0.010000</td>\n",
              "            </tr>\n",
              "            <tr>\n",
              "                        <th id=\"T_7c2acb20_08d7_11eb_90d3_0242ac1c0002level0_row78\" class=\"row_heading level0 row78\" >100</th>\n",
              "                        <td id=\"T_7c2acb20_08d7_11eb_90d3_0242ac1c0002row78_col0\" class=\"data row78 col0\" >ct_all_weapons</td>\n",
              "                        <td id=\"T_7c2acb20_08d7_11eb_90d3_0242ac1c0002row78_col1\" class=\"data row78 col1\" >-0.010000</td>\n",
              "            </tr>\n",
              "            <tr>\n",
              "                        <th id=\"T_7c2acb20_08d7_11eb_90d3_0242ac1c0002level0_row79\" class=\"row_heading level0 row79\" >66</th>\n",
              "                        <td id=\"T_7c2acb20_08d7_11eb_90d3_0242ac1c0002row79_col0\" class=\"data row79 col0\" >ct_weapon_fiveseven</td>\n",
              "                        <td id=\"T_7c2acb20_08d7_11eb_90d3_0242ac1c0002row79_col1\" class=\"data row79 col1\" >-0.010000</td>\n",
              "            </tr>\n",
              "            <tr>\n",
              "                        <th id=\"T_7c2acb20_08d7_11eb_90d3_0242ac1c0002level0_row80\" class=\"row_heading level0 row80\" >73</th>\n",
              "                        <td id=\"T_7c2acb20_08d7_11eb_90d3_0242ac1c0002row80_col0\" class=\"data row80 col0\" >t_weapon_p2000</td>\n",
              "                        <td id=\"T_7c2acb20_08d7_11eb_90d3_0242ac1c0002row80_col1\" class=\"data row80 col1\" >-0.020000</td>\n",
              "            </tr>\n",
              "            <tr>\n",
              "                        <th id=\"T_7c2acb20_08d7_11eb_90d3_0242ac1c0002level0_row81\" class=\"row_heading level0 row81\" >54</th>\n",
              "                        <td id=\"T_7c2acb20_08d7_11eb_90d3_0242ac1c0002row81_col0\" class=\"data row81 col0\" >ct_weapon_scar20</td>\n",
              "                        <td id=\"T_7c2acb20_08d7_11eb_90d3_0242ac1c0002row81_col1\" class=\"data row81 col1\" >-0.020000</td>\n",
              "            </tr>\n",
              "            <tr>\n",
              "                        <th id=\"T_7c2acb20_08d7_11eb_90d3_0242ac1c0002level0_row82\" class=\"row_heading level0 row82\" >2</th>\n",
              "                        <td id=\"T_7c2acb20_08d7_11eb_90d3_0242ac1c0002row82_col0\" class=\"data row82 col0\" >t_score</td>\n",
              "                        <td id=\"T_7c2acb20_08d7_11eb_90d3_0242ac1c0002row82_col1\" class=\"data row82 col1\" >-0.020000</td>\n",
              "            </tr>\n",
              "            <tr>\n",
              "                        <th id=\"T_7c2acb20_08d7_11eb_90d3_0242ac1c0002level0_row83\" class=\"row_heading level0 row83\" >51</th>\n",
              "                        <td id=\"T_7c2acb20_08d7_11eb_90d3_0242ac1c0002row83_col0\" class=\"data row83 col0\" >t_weapon_p90</td>\n",
              "                        <td id=\"T_7c2acb20_08d7_11eb_90d3_0242ac1c0002row83_col1\" class=\"data row83 col1\" >-0.020000</td>\n",
              "            </tr>\n",
              "            <tr>\n",
              "                        <th id=\"T_7c2acb20_08d7_11eb_90d3_0242ac1c0002level0_row84\" class=\"row_heading level0 row84\" >25</th>\n",
              "                        <td id=\"T_7c2acb20_08d7_11eb_90d3_0242ac1c0002row84_col0\" class=\"data row84 col0\" >t_weapon_elite</td>\n",
              "                        <td id=\"T_7c2acb20_08d7_11eb_90d3_0242ac1c0002row84_col1\" class=\"data row84 col1\" >-0.020000</td>\n",
              "            </tr>\n",
              "            <tr>\n",
              "                        <th id=\"T_7c2acb20_08d7_11eb_90d3_0242ac1c0002level0_row85\" class=\"row_heading level0 row85\" >68</th>\n",
              "                        <td id=\"T_7c2acb20_08d7_11eb_90d3_0242ac1c0002row85_col0\" class=\"data row85 col0\" >ct_weapon_usps</td>\n",
              "                        <td id=\"T_7c2acb20_08d7_11eb_90d3_0242ac1c0002row85_col1\" class=\"data row85 col1\" >-0.020000</td>\n",
              "            </tr>\n",
              "            <tr>\n",
              "                        <th id=\"T_7c2acb20_08d7_11eb_90d3_0242ac1c0002level0_row86\" class=\"row_heading level0 row86\" >40</th>\n",
              "                        <td id=\"T_7c2acb20_08d7_11eb_90d3_0242ac1c0002row86_col0\" class=\"data row86 col0\" >t_weapon_mag7</td>\n",
              "                        <td id=\"T_7c2acb20_08d7_11eb_90d3_0242ac1c0002row86_col1\" class=\"data row86 col1\" >-0.020000</td>\n",
              "            </tr>\n",
              "            <tr>\n",
              "                        <th id=\"T_7c2acb20_08d7_11eb_90d3_0242ac1c0002level0_row87\" class=\"row_heading level0 row87\" >30</th>\n",
              "                        <td id=\"T_7c2acb20_08d7_11eb_90d3_0242ac1c0002row87_col0\" class=\"data row87 col0\" >t_weapon_galilar</td>\n",
              "                        <td id=\"T_7c2acb20_08d7_11eb_90d3_0242ac1c0002row87_col1\" class=\"data row87 col1\" >-0.020000</td>\n",
              "            </tr>\n",
              "            <tr>\n",
              "                        <th id=\"T_7c2acb20_08d7_11eb_90d3_0242ac1c0002level0_row88\" class=\"row_heading level0 row88\" >36</th>\n",
              "                        <td id=\"T_7c2acb20_08d7_11eb_90d3_0242ac1c0002row88_col0\" class=\"data row88 col0\" >t_weapon_m4a4</td>\n",
              "                        <td id=\"T_7c2acb20_08d7_11eb_90d3_0242ac1c0002row88_col1\" class=\"data row88 col1\" >-0.020000</td>\n",
              "            </tr>\n",
              "            <tr>\n",
              "                        <th id=\"T_7c2acb20_08d7_11eb_90d3_0242ac1c0002level0_row89\" class=\"row_heading level0 row89\" >127</th>\n",
              "                        <td id=\"T_7c2acb20_08d7_11eb_90d3_0242ac1c0002row89_col0\" class=\"data row89 col0\" >time_quarter_value_Q2</td>\n",
              "                        <td id=\"T_7c2acb20_08d7_11eb_90d3_0242ac1c0002row89_col1\" class=\"data row89 col1\" >-0.020000</td>\n",
              "            </tr>\n",
              "            <tr>\n",
              "                        <th id=\"T_7c2acb20_08d7_11eb_90d3_0242ac1c0002level0_row90\" class=\"row_heading level0 row90\" >77</th>\n",
              "                        <td id=\"T_7c2acb20_08d7_11eb_90d3_0242ac1c0002row90_col0\" class=\"data row90 col0\" >t_grenade_hegrenade</td>\n",
              "                        <td id=\"T_7c2acb20_08d7_11eb_90d3_0242ac1c0002row90_col1\" class=\"data row90 col1\" >-0.020000</td>\n",
              "            </tr>\n",
              "            <tr>\n",
              "                        <th id=\"T_7c2acb20_08d7_11eb_90d3_0242ac1c0002level0_row91\" class=\"row_heading level0 row91\" >111</th>\n",
              "                        <td id=\"T_7c2acb20_08d7_11eb_90d3_0242ac1c0002row91_col0\" class=\"data row91 col0\" >map_value_de_dust2</td>\n",
              "                        <td id=\"T_7c2acb20_08d7_11eb_90d3_0242ac1c0002row91_col1\" class=\"data row91 col1\" >-0.020000</td>\n",
              "            </tr>\n",
              "            <tr>\n",
              "                        <th id=\"T_7c2acb20_08d7_11eb_90d3_0242ac1c0002level0_row92\" class=\"row_heading level0 row92\" >129</th>\n",
              "                        <td id=\"T_7c2acb20_08d7_11eb_90d3_0242ac1c0002row92_col0\" class=\"data row92 col0\" >time_quarter_value_Q3</td>\n",
              "                        <td id=\"T_7c2acb20_08d7_11eb_90d3_0242ac1c0002row92_col1\" class=\"data row92 col1\" >-0.020000</td>\n",
              "            </tr>\n",
              "            <tr>\n",
              "                        <th id=\"T_7c2acb20_08d7_11eb_90d3_0242ac1c0002level0_row93\" class=\"row_heading level0 row93\" >128</th>\n",
              "                        <td id=\"T_7c2acb20_08d7_11eb_90d3_0242ac1c0002row93_col0\" class=\"data row93 col0\" >time_quarter_value_Q4</td>\n",
              "                        <td id=\"T_7c2acb20_08d7_11eb_90d3_0242ac1c0002row93_col1\" class=\"data row93 col1\" >-0.030000</td>\n",
              "            </tr>\n",
              "            <tr>\n",
              "                        <th id=\"T_7c2acb20_08d7_11eb_90d3_0242ac1c0002level0_row94\" class=\"row_heading level0 row94\" >31</th>\n",
              "                        <td id=\"T_7c2acb20_08d7_11eb_90d3_0242ac1c0002row94_col0\" class=\"data row94 col0\" >ct_weapon_glock</td>\n",
              "                        <td id=\"T_7c2acb20_08d7_11eb_90d3_0242ac1c0002row94_col1\" class=\"data row94 col1\" >-0.030000</td>\n",
              "            </tr>\n",
              "            <tr>\n",
              "                        <th id=\"T_7c2acb20_08d7_11eb_90d3_0242ac1c0002level0_row95\" class=\"row_heading level0 row95\" >92</th>\n",
              "                        <td id=\"T_7c2acb20_08d7_11eb_90d3_0242ac1c0002row95_col0\" class=\"data row95 col0\" >t_smg</td>\n",
              "                        <td id=\"T_7c2acb20_08d7_11eb_90d3_0242ac1c0002row95_col1\" class=\"data row95 col1\" >-0.030000</td>\n",
              "            </tr>\n",
              "            <tr>\n",
              "                        <th id=\"T_7c2acb20_08d7_11eb_90d3_0242ac1c0002level0_row96\" class=\"row_heading level0 row96\" >23</th>\n",
              "                        <td id=\"T_7c2acb20_08d7_11eb_90d3_0242ac1c0002row96_col0\" class=\"data row96 col0\" >t_weapon_cz75auto</td>\n",
              "                        <td id=\"T_7c2acb20_08d7_11eb_90d3_0242ac1c0002row96_col1\" class=\"data row96 col1\" >-0.030000</td>\n",
              "            </tr>\n",
              "            <tr>\n",
              "                        <th id=\"T_7c2acb20_08d7_11eb_90d3_0242ac1c0002level0_row97\" class=\"row_heading level0 row97\" >38</th>\n",
              "                        <td id=\"T_7c2acb20_08d7_11eb_90d3_0242ac1c0002row97_col0\" class=\"data row97 col0\" >t_weapon_mac10</td>\n",
              "                        <td id=\"T_7c2acb20_08d7_11eb_90d3_0242ac1c0002row97_col1\" class=\"data row97 col1\" >-0.030000</td>\n",
              "            </tr>\n",
              "            <tr>\n",
              "                        <th id=\"T_7c2acb20_08d7_11eb_90d3_0242ac1c0002level0_row98\" class=\"row_heading level0 row98\" >72</th>\n",
              "                        <td id=\"T_7c2acb20_08d7_11eb_90d3_0242ac1c0002row98_col0\" class=\"data row98 col0\" >ct_weapon_p2000</td>\n",
              "                        <td id=\"T_7c2acb20_08d7_11eb_90d3_0242ac1c0002row98_col1\" class=\"data row98 col1\" >-0.030000</td>\n",
              "            </tr>\n",
              "            <tr>\n",
              "                        <th id=\"T_7c2acb20_08d7_11eb_90d3_0242ac1c0002level0_row99\" class=\"row_heading level0 row99\" >70</th>\n",
              "                        <td id=\"T_7c2acb20_08d7_11eb_90d3_0242ac1c0002row99_col0\" class=\"data row99 col0\" >ct_weapon_p250</td>\n",
              "                        <td id=\"T_7c2acb20_08d7_11eb_90d3_0242ac1c0002row99_col1\" class=\"data row99 col1\" >-0.030000</td>\n",
              "            </tr>\n",
              "            <tr>\n",
              "                        <th id=\"T_7c2acb20_08d7_11eb_90d3_0242ac1c0002level0_row100\" class=\"row_heading level0 row100\" >42</th>\n",
              "                        <td id=\"T_7c2acb20_08d7_11eb_90d3_0242ac1c0002row100_col0\" class=\"data row100 col0\" >t_weapon_mp5sd</td>\n",
              "                        <td id=\"T_7c2acb20_08d7_11eb_90d3_0242ac1c0002row100_col1\" class=\"data row100 col1\" >-0.030000</td>\n",
              "            </tr>\n",
              "            <tr>\n",
              "                        <th id=\"T_7c2acb20_08d7_11eb_90d3_0242ac1c0002level0_row101\" class=\"row_heading level0 row101\" >61</th>\n",
              "                        <td id=\"T_7c2acb20_08d7_11eb_90d3_0242ac1c0002row101_col0\" class=\"data row101 col0\" >t_weapon_ump45</td>\n",
              "                        <td id=\"T_7c2acb20_08d7_11eb_90d3_0242ac1c0002row101_col1\" class=\"data row101 col1\" >-0.030000</td>\n",
              "            </tr>\n",
              "            <tr>\n",
              "                        <th id=\"T_7c2acb20_08d7_11eb_90d3_0242ac1c0002level0_row102\" class=\"row_heading level0 row102\" >116</th>\n",
              "                        <td id=\"T_7c2acb20_08d7_11eb_90d3_0242ac1c0002row102_col0\" class=\"data row102 col0\" >map_value_de_vertigo</td>\n",
              "                        <td id=\"T_7c2acb20_08d7_11eb_90d3_0242ac1c0002row102_col1\" class=\"data row102 col1\" >-0.040000</td>\n",
              "            </tr>\n",
              "            <tr>\n",
              "                        <th id=\"T_7c2acb20_08d7_11eb_90d3_0242ac1c0002level0_row103\" class=\"row_heading level0 row103\" >118</th>\n",
              "                        <td id=\"T_7c2acb20_08d7_11eb_90d3_0242ac1c0002row103_col0\" class=\"data row103 col0\" >t_money_cat_value_low</td>\n",
              "                        <td id=\"T_7c2acb20_08d7_11eb_90d3_0242ac1c0002row103_col1\" class=\"data row103 col1\" >-0.040000</td>\n",
              "            </tr>\n",
              "            <tr>\n",
              "                        <th id=\"T_7c2acb20_08d7_11eb_90d3_0242ac1c0002level0_row104\" class=\"row_heading level0 row104\" >0</th>\n",
              "                        <td id=\"T_7c2acb20_08d7_11eb_90d3_0242ac1c0002row104_col0\" class=\"data row104 col0\" >time_left</td>\n",
              "                        <td id=\"T_7c2acb20_08d7_11eb_90d3_0242ac1c0002row104_col1\" class=\"data row104 col1\" >-0.040000</td>\n",
              "            </tr>\n",
              "            <tr>\n",
              "                        <th id=\"T_7c2acb20_08d7_11eb_90d3_0242ac1c0002level0_row105\" class=\"row_heading level0 row105\" >65</th>\n",
              "                        <td id=\"T_7c2acb20_08d7_11eb_90d3_0242ac1c0002row105_col0\" class=\"data row105 col0\" >t_weapon_deagle</td>\n",
              "                        <td id=\"T_7c2acb20_08d7_11eb_90d3_0242ac1c0002row105_col1\" class=\"data row105 col1\" >-0.040000</td>\n",
              "            </tr>\n",
              "            <tr>\n",
              "                        <th id=\"T_7c2acb20_08d7_11eb_90d3_0242ac1c0002level0_row106\" class=\"row_heading level0 row106\" >87</th>\n",
              "                        <td id=\"T_7c2acb20_08d7_11eb_90d3_0242ac1c0002row106_col0\" class=\"data row106 col0\" >t_grenade_decoygrenade</td>\n",
              "                        <td id=\"T_7c2acb20_08d7_11eb_90d3_0242ac1c0002row106_col1\" class=\"data row106 col1\" >-0.040000</td>\n",
              "            </tr>\n",
              "            <tr>\n",
              "                        <th id=\"T_7c2acb20_08d7_11eb_90d3_0242ac1c0002level0_row107\" class=\"row_heading level0 row107\" >27</th>\n",
              "                        <td id=\"T_7c2acb20_08d7_11eb_90d3_0242ac1c0002row107_col0\" class=\"data row107 col0\" >t_weapon_famas</td>\n",
              "                        <td id=\"T_7c2acb20_08d7_11eb_90d3_0242ac1c0002row107_col1\" class=\"data row107 col1\" >-0.040000</td>\n",
              "            </tr>\n",
              "            <tr>\n",
              "                        <th id=\"T_7c2acb20_08d7_11eb_90d3_0242ac1c0002level0_row108\" class=\"row_heading level0 row108\" >69</th>\n",
              "                        <td id=\"T_7c2acb20_08d7_11eb_90d3_0242ac1c0002row108_col0\" class=\"data row108 col0\" >t_weapon_usps</td>\n",
              "                        <td id=\"T_7c2acb20_08d7_11eb_90d3_0242ac1c0002row108_col1\" class=\"data row108 col1\" >-0.050000</td>\n",
              "            </tr>\n",
              "            <tr>\n",
              "                        <th id=\"T_7c2acb20_08d7_11eb_90d3_0242ac1c0002level0_row109\" class=\"row_heading level0 row109\" >34</th>\n",
              "                        <td id=\"T_7c2acb20_08d7_11eb_90d3_0242ac1c0002row109_col0\" class=\"data row109 col0\" >t_weapon_m4a1s</td>\n",
              "                        <td id=\"T_7c2acb20_08d7_11eb_90d3_0242ac1c0002row109_col1\" class=\"data row109 col1\" >-0.060000</td>\n",
              "            </tr>\n",
              "            <tr>\n",
              "                        <th id=\"T_7c2acb20_08d7_11eb_90d3_0242ac1c0002level0_row110\" class=\"row_heading level0 row110\" >113</th>\n",
              "                        <td id=\"T_7c2acb20_08d7_11eb_90d3_0242ac1c0002row110_col0\" class=\"data row110 col0\" >map_value_de_mirage</td>\n",
              "                        <td id=\"T_7c2acb20_08d7_11eb_90d3_0242ac1c0002row110_col1\" class=\"data row110 col1\" >-0.060000</td>\n",
              "            </tr>\n",
              "            <tr>\n",
              "                        <th id=\"T_7c2acb20_08d7_11eb_90d3_0242ac1c0002level0_row111\" class=\"row_heading level0 row111\" >99</th>\n",
              "                        <td id=\"T_7c2acb20_08d7_11eb_90d3_0242ac1c0002row111_col0\" class=\"data row111 col0\" >ct_explosives</td>\n",
              "                        <td id=\"T_7c2acb20_08d7_11eb_90d3_0242ac1c0002row111_col1\" class=\"data row111 col1\" >-0.060000</td>\n",
              "            </tr>\n",
              "            <tr>\n",
              "                        <th id=\"T_7c2acb20_08d7_11eb_90d3_0242ac1c0002level0_row112\" class=\"row_heading level0 row112\" >105</th>\n",
              "                        <td id=\"T_7c2acb20_08d7_11eb_90d3_0242ac1c0002row112_col0\" class=\"data row112 col0\" >t_smallmap_sniper</td>\n",
              "                        <td id=\"T_7c2acb20_08d7_11eb_90d3_0242ac1c0002row112_col1\" class=\"data row112 col1\" >-0.060000</td>\n",
              "            </tr>\n",
              "            <tr>\n",
              "                        <th id=\"T_7c2acb20_08d7_11eb_90d3_0242ac1c0002level0_row113\" class=\"row_heading level0 row113\" >80</th>\n",
              "                        <td id=\"T_7c2acb20_08d7_11eb_90d3_0242ac1c0002row113_col0\" class=\"data row113 col0\" >ct_grenade_smokegrenade</td>\n",
              "                        <td id=\"T_7c2acb20_08d7_11eb_90d3_0242ac1c0002row113_col1\" class=\"data row113 col1\" >-0.070000</td>\n",
              "            </tr>\n",
              "            <tr>\n",
              "                        <th id=\"T_7c2acb20_08d7_11eb_90d3_0242ac1c0002level0_row114\" class=\"row_heading level0 row114\" >104</th>\n",
              "                        <td id=\"T_7c2acb20_08d7_11eb_90d3_0242ac1c0002row114_col0\" class=\"data row114 col0\" >ct_largemap_sniper</td>\n",
              "                        <td id=\"T_7c2acb20_08d7_11eb_90d3_0242ac1c0002row114_col1\" class=\"data row114 col1\" >-0.070000</td>\n",
              "            </tr>\n",
              "            <tr>\n",
              "                        <th id=\"T_7c2acb20_08d7_11eb_90d3_0242ac1c0002level0_row115\" class=\"row_heading level0 row115\" >94</th>\n",
              "                        <td id=\"T_7c2acb20_08d7_11eb_90d3_0242ac1c0002row115_col0\" class=\"data row115 col0\" >t_sniper</td>\n",
              "                        <td id=\"T_7c2acb20_08d7_11eb_90d3_0242ac1c0002row115_col1\" class=\"data row115 col1\" >-0.080000</td>\n",
              "            </tr>\n",
              "            <tr>\n",
              "                        <th id=\"T_7c2acb20_08d7_11eb_90d3_0242ac1c0002level0_row116\" class=\"row_heading level0 row116\" >20</th>\n",
              "                        <td id=\"T_7c2acb20_08d7_11eb_90d3_0242ac1c0002row116_col0\" class=\"data row116 col0\" >t_weapon_awp</td>\n",
              "                        <td id=\"T_7c2acb20_08d7_11eb_90d3_0242ac1c0002row116_col1\" class=\"data row116 col1\" >-0.090000</td>\n",
              "            </tr>\n",
              "            <tr>\n",
              "                        <th id=\"T_7c2acb20_08d7_11eb_90d3_0242ac1c0002level0_row117\" class=\"row_heading level0 row117\" >82</th>\n",
              "                        <td id=\"T_7c2acb20_08d7_11eb_90d3_0242ac1c0002row117_col0\" class=\"data row117 col0\" >ct_grenade_incendiarygrenade</td>\n",
              "                        <td id=\"T_7c2acb20_08d7_11eb_90d3_0242ac1c0002row117_col1\" class=\"data row117 col1\" >-0.130000</td>\n",
              "            </tr>\n",
              "            <tr>\n",
              "                        <th id=\"T_7c2acb20_08d7_11eb_90d3_0242ac1c0002level0_row118\" class=\"row_heading level0 row118\" >110</th>\n",
              "                        <td id=\"T_7c2acb20_08d7_11eb_90d3_0242ac1c0002row118_col0\" class=\"data row118 col0\" >map_value_de_inferno</td>\n",
              "                        <td id=\"T_7c2acb20_08d7_11eb_90d3_0242ac1c0002row118_col1\" class=\"data row118 col1\" >-0.140000</td>\n",
              "            </tr>\n",
              "            <tr>\n",
              "                        <th id=\"T_7c2acb20_08d7_11eb_90d3_0242ac1c0002level0_row119\" class=\"row_heading level0 row119\" >103</th>\n",
              "                        <td id=\"T_7c2acb20_08d7_11eb_90d3_0242ac1c0002row119_col0\" class=\"data row119 col0\" >t_largemap_sniper</td>\n",
              "                        <td id=\"T_7c2acb20_08d7_11eb_90d3_0242ac1c0002row119_col1\" class=\"data row119 col1\" >-0.170000</td>\n",
              "            </tr>\n",
              "            <tr>\n",
              "                        <th id=\"T_7c2acb20_08d7_11eb_90d3_0242ac1c0002level0_row120\" class=\"row_heading level0 row120\" >109</th>\n",
              "                        <td id=\"T_7c2acb20_08d7_11eb_90d3_0242ac1c0002row120_col0\" class=\"data row120 col0\" >ct_all_alive</td>\n",
              "                        <td id=\"T_7c2acb20_08d7_11eb_90d3_0242ac1c0002row120_col1\" class=\"data row120 col1\" >-0.180000</td>\n",
              "            </tr>\n",
              "            <tr>\n",
              "                        <th id=\"T_7c2acb20_08d7_11eb_90d3_0242ac1c0002level0_row121\" class=\"row_heading level0 row121\" >57</th>\n",
              "                        <td id=\"T_7c2acb20_08d7_11eb_90d3_0242ac1c0002row121_col0\" class=\"data row121 col0\" >t_weapon_sg553</td>\n",
              "                        <td id=\"T_7c2acb20_08d7_11eb_90d3_0242ac1c0002row121_col1\" class=\"data row121 col1\" >-0.250000</td>\n",
              "            </tr>\n",
              "            <tr>\n",
              "                        <th id=\"T_7c2acb20_08d7_11eb_90d3_0242ac1c0002level0_row122\" class=\"row_heading level0 row122\" >16</th>\n",
              "                        <td id=\"T_7c2acb20_08d7_11eb_90d3_0242ac1c0002row122_col0\" class=\"data row122 col0\" >t_weapon_ak47</td>\n",
              "                        <td id=\"T_7c2acb20_08d7_11eb_90d3_0242ac1c0002row122_col1\" class=\"data row122 col1\" >-0.250000</td>\n",
              "            </tr>\n",
              "            <tr>\n",
              "                        <th id=\"T_7c2acb20_08d7_11eb_90d3_0242ac1c0002level0_row123\" class=\"row_heading level0 row123\" >9</th>\n",
              "                        <td id=\"T_7c2acb20_08d7_11eb_90d3_0242ac1c0002row123_col0\" class=\"data row123 col0\" >t_money</td>\n",
              "                        <td id=\"T_7c2acb20_08d7_11eb_90d3_0242ac1c0002row123_col1\" class=\"data row123 col1\" >-0.250000</td>\n",
              "            </tr>\n",
              "            <tr>\n",
              "                        <th id=\"T_7c2acb20_08d7_11eb_90d3_0242ac1c0002level0_row124\" class=\"row_heading level0 row124\" >11</th>\n",
              "                        <td id=\"T_7c2acb20_08d7_11eb_90d3_0242ac1c0002row124_col0\" class=\"data row124 col0\" >t_helmets</td>\n",
              "                        <td id=\"T_7c2acb20_08d7_11eb_90d3_0242ac1c0002row124_col1\" class=\"data row124 col1\" >-0.310000</td>\n",
              "            </tr>\n",
              "            <tr>\n",
              "                        <th id=\"T_7c2acb20_08d7_11eb_90d3_0242ac1c0002level0_row125\" class=\"row_heading level0 row125\" >3</th>\n",
              "                        <td id=\"T_7c2acb20_08d7_11eb_90d3_0242ac1c0002row125_col0\" class=\"data row125 col0\" >bomb_planted</td>\n",
              "                        <td id=\"T_7c2acb20_08d7_11eb_90d3_0242ac1c0002row125_col1\" class=\"data row125 col1\" >-0.350000</td>\n",
              "            </tr>\n",
              "            <tr>\n",
              "                        <th id=\"T_7c2acb20_08d7_11eb_90d3_0242ac1c0002level0_row126\" class=\"row_heading level0 row126\" >90</th>\n",
              "                        <td id=\"T_7c2acb20_08d7_11eb_90d3_0242ac1c0002row126_col0\" class=\"data row126 col0\" >t_assault</td>\n",
              "                        <td id=\"T_7c2acb20_08d7_11eb_90d3_0242ac1c0002row126_col1\" class=\"data row126 col1\" >-0.360000</td>\n",
              "            </tr>\n",
              "            <tr>\n",
              "                        <th id=\"T_7c2acb20_08d7_11eb_90d3_0242ac1c0002level0_row127\" class=\"row_heading level0 row127\" >7</th>\n",
              "                        <td id=\"T_7c2acb20_08d7_11eb_90d3_0242ac1c0002row127_col0\" class=\"data row127 col0\" >t_armor</td>\n",
              "                        <td id=\"T_7c2acb20_08d7_11eb_90d3_0242ac1c0002row127_col1\" class=\"data row127 col1\" >-0.510000</td>\n",
              "            </tr>\n",
              "            <tr>\n",
              "                        <th id=\"T_7c2acb20_08d7_11eb_90d3_0242ac1c0002level0_row128\" class=\"row_heading level0 row128\" >14</th>\n",
              "                        <td id=\"T_7c2acb20_08d7_11eb_90d3_0242ac1c0002row128_col0\" class=\"data row128 col0\" >t_players_alive</td>\n",
              "                        <td id=\"T_7c2acb20_08d7_11eb_90d3_0242ac1c0002row128_col1\" class=\"data row128 col1\" >-0.670000</td>\n",
              "            </tr>\n",
              "            <tr>\n",
              "                        <th id=\"T_7c2acb20_08d7_11eb_90d3_0242ac1c0002level0_row129\" class=\"row_heading level0 row129\" >5</th>\n",
              "                        <td id=\"T_7c2acb20_08d7_11eb_90d3_0242ac1c0002row129_col0\" class=\"data row129 col0\" >t_health</td>\n",
              "                        <td id=\"T_7c2acb20_08d7_11eb_90d3_0242ac1c0002row129_col1\" class=\"data row129 col1\" >-0.770000</td>\n",
              "            </tr>\n",
              "    </tbody></table>"
            ],
            "text/plain": [
              "<pandas.io.formats.style.Styler at 0x7fd42f449be0>"
            ]
          },
          "metadata": {
            "tags": []
          },
          "execution_count": 139
        }
      ]
    },
    {
      "cell_type": "markdown",
      "metadata": {
        "id": "Z-BrxXmJ8LeY"
      },
      "source": [
        "## 3.2 Filtering Methods"
      ]
    },
    {
      "cell_type": "markdown",
      "metadata": {
        "id": "UT_5oBSi8LeY"
      },
      "source": [
        "### 3.2.1 CHI-SQUARED"
      ]
    },
    {
      "cell_type": "markdown",
      "metadata": {
        "id": "Qwb2QdW48LeY"
      },
      "source": [
        "chi-squared to check for significant associations of feature with target variable\n",
        "\n",
        "pros: quick ranking, simple implementation\n",
        "\n",
        "cons: does NOT consider interactions between variables"
      ]
    },
    {
      "cell_type": "code",
      "metadata": {
        "id": "GdKsVUX08LeZ"
      },
      "source": [
        "if set_Chi2:\n",
        "    \n",
        "    # Check all the columns with unique values\n",
        "    lista = []\n",
        "    for col in train_X.columns:\n",
        "        lista.append(len(train_X.loc[:,col].unique()))\n",
        "\n",
        "    filter_unique= pd.Series(lista) !=1.0\n",
        "\n",
        "    #If in the beginning of the script we take out the variables, then would also work \n",
        "    train_X_chi2 = train_X.loc[:,train_X.columns[filter_unique]]\n",
        "    val_X_chi2 = val_X.loc[:,val_X.columns[filter_unique]]\n",
        "\n",
        "    from sklearn.feature_selection import SelectKBest, chi2\n",
        "    from math import log\n",
        "\n",
        "    X, y = train_X_chi2, train_y ## check for all X DFs\n",
        "\n",
        "    chi2_selector = SelectKBest(score_func=chi2,k=10).fit(X,y)\n",
        "\n",
        "    # Get the indices sorted by most important to least important\n",
        "    indices = np.argsort(chi2_selector.scores_)[::-1]\n",
        "\n",
        "    chi2_features = []\n",
        "    for i in range(len(X.columns)):\n",
        "        chi2_features.append(X.columns[indices[i]])\n",
        "\n",
        "    # Select the number n of top-n features\n",
        "    chi2_features = chi2_features[0:40] # n = 40\n",
        "\n",
        "    # Bar plot in Log-Scale\n",
        "\n",
        "    plt.figure(figsize=(10,10))\n",
        "    plt.yticks(rotation='horizontal',fontsize=16)\n",
        "    plt.barh(chi2_features, np.log(chi2_selector.scores_[indices[range(sum(X.columns.isin(chi2_features)))]]), color='r', align='center')\n",
        "    #plt.barh(chi2_features, chi2_selector.scores_[indices[range(sum(X.columns.isin(chi2_features)))]], color='r', align='center')\n",
        "    plt.gca().invert_yaxis()\n",
        "    plt.show()\n",
        "\n",
        "    train_X = train_X.loc[:,chi2_features]\n",
        "    val_X = val_X.loc[:,chi2_features]\n",
        "    \n",
        "else:\n",
        "    pass"
      ],
      "execution_count": null,
      "outputs": []
    },
    {
      "cell_type": "code",
      "metadata": {
        "id": "bZ1p4PDk8Lea"
      },
      "source": [
        "# if set_Chi2 == True:\n",
        "    \n",
        "#     # deactivate n=40\n",
        "    \n",
        "#     # We will need to include this into each of the models, to select best number of features but with all the considerations (Chi, pca, lda...)\n",
        "\n",
        "#     for i in range(1,len(chi2_features)):\n",
        "#         print(\"Features used to train the model = {}\".format(i))\n",
        "#         print(\"Accuracy = {0:.4f}\".format(accuracy_score(val_y,linear_model.LogisticRegression(max_iter=1000, penalty='none').fit(X_train[chi2_features[:i]], y_train).predict(X_test[chi2_features[:i]]))))\n",
        "#         print()\n",
        "#     chi2_initial_lm_mod = linear_model.LogisticRegression(max_iter=1000, penalty='none')\n",
        "#     chi2_initial_lm_mod.fit(X_train[chi2_features[:6]], y_train)"
      ],
      "execution_count": null,
      "outputs": []
    },
    {
      "cell_type": "code",
      "metadata": {
        "scrolled": true,
        "id": "ag9gdisd8Lec"
      },
      "source": [
        "# rerun BM logit model\n",
        "\n",
        "if set_Chi2:\n",
        "    \n",
        "    first_lm.fit(train_X, train_y) # refit on selected features\n",
        "    \n",
        "    print(\"Accuracy = {0:.4f}\".format(accuracy_score(val_y,first_lm.predict(val_X))))\n",
        "    plot_confusion_matrix(first_lm, val_X, val_y, val_y.unique(), cmap=plt.cm.Blues)\n",
        "    \n",
        "    results_df.loc[len(results_df)] = ['Logistic Model - CHI2', accuracy_score(val_y,first_lm.predict(val_X))]\n",
        "    \n",
        "else:\n",
        "    pass"
      ],
      "execution_count": null,
      "outputs": []
    },
    {
      "cell_type": "code",
      "metadata": {
        "id": "VAyHs8Qn8Lef",
        "outputId": "605dbd9f-bb87-4e45-b092-3546a0300d9a",
        "colab": {
          "base_uri": "https://localhost:8080/",
          "height": 80
        }
      },
      "source": [
        "results_df"
      ],
      "execution_count": null,
      "outputs": [
        {
          "output_type": "execute_result",
          "data": {
            "text/html": [
              "<div>\n",
              "<style scoped>\n",
              "    .dataframe tbody tr th:only-of-type {\n",
              "        vertical-align: middle;\n",
              "    }\n",
              "\n",
              "    .dataframe tbody tr th {\n",
              "        vertical-align: top;\n",
              "    }\n",
              "\n",
              "    .dataframe thead th {\n",
              "        text-align: right;\n",
              "    }\n",
              "</style>\n",
              "<table border=\"1\" class=\"dataframe\">\n",
              "  <thead>\n",
              "    <tr style=\"text-align: right;\">\n",
              "      <th></th>\n",
              "      <th>Approach</th>\n",
              "      <th>Accuracy</th>\n",
              "    </tr>\n",
              "  </thead>\n",
              "  <tbody>\n",
              "    <tr>\n",
              "      <th>0</th>\n",
              "      <td>Logistic Model - STD</td>\n",
              "      <td>0.75096</td>\n",
              "    </tr>\n",
              "  </tbody>\n",
              "</table>\n",
              "</div>"
            ],
            "text/plain": [
              "               Approach  Accuracy\n",
              "0  Logistic Model - STD   0.75096"
            ]
          },
          "metadata": {
            "tags": []
          },
          "execution_count": 143
        }
      ]
    },
    {
      "cell_type": "markdown",
      "metadata": {
        "id": "r-Xq7J2v8Leh"
      },
      "source": [
        "### 3.2.2 INFORMATION GAIN"
      ]
    },
    {
      "cell_type": "markdown",
      "metadata": {
        "id": "ouO28Swi8Leh"
      },
      "source": [
        "for all the categoricals / binned features"
      ]
    },
    {
      "cell_type": "code",
      "metadata": {
        "id": "MKSdWaaQ8Leh"
      },
      "source": [
        "if set_IG:\n",
        "\n",
        "    from sklearn.feature_selection import SelectKBest, mutual_info_classif\n",
        "\n",
        "    ig_selector = SelectKBest(score_func=mutual_info_classif).fit(train_X,train_y)\n",
        "\n",
        "    # Get the indices sorted by most important to least important\n",
        "    indices = np.argsort(ig_selector.scores_)[::-1]\n",
        "\n",
        "    ig_features = []\n",
        "    for i in range(len(train_X.columns)):\n",
        "        ig_features.append(train_X.columns[indices[i]])\n",
        "\n",
        "    # Now plot\n",
        "    plt.figure(figsize=(10,10))\n",
        "    plt.yticks(rotation='horizontal',fontsize=16)\n",
        "    plt.barh(ig_features, ig_selector.scores_[indices[range(len(train_X.columns))]], color='r', align='center')\n",
        "    plt.gca().invert_yaxis()\n",
        "    plt.show()\n",
        "\n",
        "    # Select the number n of top-n features ## could move this and apply the filter already for the plot\n",
        "    ig_features = ig_features[0:40] # n = 40\n",
        "    \n",
        "    train_X = train_X.loc[:,ig_features]\n",
        "    val_X = val_X.loc[:,ig_features]\n",
        "    \n",
        "else:\n",
        "    pass "
      ],
      "execution_count": null,
      "outputs": []
    },
    {
      "cell_type": "code",
      "metadata": {
        "scrolled": true,
        "id": "6YVMjw6p8Lej"
      },
      "source": [
        "# rerun BM logit model\n",
        "\n",
        "if set_IG:\n",
        "    \n",
        "    first_lm.fit(train_X, train_y) # refit on selected features\n",
        "    \n",
        "    print(\"Accuracy = {0:.4f}\".format(accuracy_score(val_y,first_lm.predict(val_X))))\n",
        "    plot_confusion_matrix(first_lm, val_X, val_y, val_y.unique(), cmap=plt.cm.Blues)\n",
        "    \n",
        "    if set_standardize:\n",
        "        results_df.loc[len(results_df)] = ['Logistic Model - IG - STD', accuracy_score(val_y,first_lm.predict(val_X))]\n",
        "    else:\n",
        "        results_df.loc[len(results_df)] = ['Logistic Model - IG', accuracy_score(val_y,first_lm.predict(val_X))]\n",
        "else:\n",
        "    pass"
      ],
      "execution_count": null,
      "outputs": []
    },
    {
      "cell_type": "code",
      "metadata": {
        "scrolled": false,
        "id": "1XPVkKax8Lel",
        "outputId": "cb22d15d-d89d-4d96-a672-a5bf8a56a1dc",
        "colab": {
          "base_uri": "https://localhost:8080/",
          "height": 80
        }
      },
      "source": [
        "results_df"
      ],
      "execution_count": null,
      "outputs": [
        {
          "output_type": "execute_result",
          "data": {
            "text/html": [
              "<div>\n",
              "<style scoped>\n",
              "    .dataframe tbody tr th:only-of-type {\n",
              "        vertical-align: middle;\n",
              "    }\n",
              "\n",
              "    .dataframe tbody tr th {\n",
              "        vertical-align: top;\n",
              "    }\n",
              "\n",
              "    .dataframe thead th {\n",
              "        text-align: right;\n",
              "    }\n",
              "</style>\n",
              "<table border=\"1\" class=\"dataframe\">\n",
              "  <thead>\n",
              "    <tr style=\"text-align: right;\">\n",
              "      <th></th>\n",
              "      <th>Approach</th>\n",
              "      <th>Accuracy</th>\n",
              "    </tr>\n",
              "  </thead>\n",
              "  <tbody>\n",
              "    <tr>\n",
              "      <th>0</th>\n",
              "      <td>Logistic Model - STD</td>\n",
              "      <td>0.75096</td>\n",
              "    </tr>\n",
              "  </tbody>\n",
              "</table>\n",
              "</div>"
            ],
            "text/plain": [
              "               Approach  Accuracy\n",
              "0  Logistic Model - STD   0.75096"
            ]
          },
          "metadata": {
            "tags": []
          },
          "execution_count": 146
        }
      ]
    },
    {
      "cell_type": "markdown",
      "metadata": {
        "id": "ZfihwB0L8Lem"
      },
      "source": [
        "## 3.3 Embedded Methods"
      ]
    },
    {
      "cell_type": "markdown",
      "metadata": {
        "id": "PZxW5NXq8Len"
      },
      "source": [
        "### 3.3.1 Lasso Regression"
      ]
    },
    {
      "cell_type": "code",
      "metadata": {
        "id": "LkS9mEv08Len"
      },
      "source": [
        "if set_Lasso:\n",
        "\n",
        "    from sklearn.feature_selection import SelectFromModel\n",
        "\n",
        "    alphas = 10**np.linspace(-1,-4,100)\n",
        "\n",
        "    lasso_mod_cv = linear_model.LogisticRegressionCV(max_iter=10000,penalty='l1',solver='liblinear',Cs=alphas,n_jobs=-3).fit(train_X, train_y)\n",
        "    #lasso_mod_cv = linear_model.LogisticRegressionCV(max_iter=10000,penalty='l1',solver='saga',Cs=alphas,n_jobs=-3).fit(train_X, train_y)\n",
        "\n",
        "    # rerun BM logit model\n",
        "\n",
        "    # print(\"Accuracy = {0:.4f}\".format(accuracy_score(val_y,lasso_mod_cv.predict(val_X))))\n",
        "    # plot_confusion_matrix(lasso_mod_cv, val_X, val_y, val_y.unique(), cmap=plt.cm.Blues)\n",
        "\n",
        "    # extract reduced set of features selected by Lasso\n",
        "\n",
        "    model = SelectFromModel(lasso_mod_cv, prefit=True)\n",
        "    new_X = model.transform(train_X) \n",
        "    val_new_X = model.transform(val_X)\n",
        "    print(\"Original Number of Features = {} --> Number of features selected by Lasso = {}\".format(train_X.shape[1], new_X.shape[1]))\n",
        "    columns_lasso = train_X.columns[model.get_support()]\n",
        "    print(columns_lasso)\n",
        "\n",
        "    train_X = train_X.loc[:,columns_lasso]\n",
        "    val_X = val_X.loc[:,columns_lasso]\n",
        "    \n",
        "else:\n",
        "    pass"
      ],
      "execution_count": null,
      "outputs": []
    },
    {
      "cell_type": "code",
      "metadata": {
        "scrolled": false,
        "id": "lwig7Cnh8Lep"
      },
      "source": [
        "# rerun BM logit model\n",
        "\n",
        "if set_Lasso:\n",
        "    \n",
        "    first_lm.fit(train_X, train_y) # refit on selected features\n",
        "    \n",
        "    print(\"Accuracy = {0:.4f}\".format(accuracy_score(val_y,first_lm.predict(val_X))))\n",
        "    plot_confusion_matrix(first_lm, val_X, val_y, val_y.unique(), cmap=plt.cm.Blues)\n",
        "    \n",
        "    if set_standardize:\n",
        "        results_df.loc[len(results_df)] = ['Logistic Model - Lasso - STD', accuracy_score(val_y,first_lm.predict(val_X))]\n",
        "    else:\n",
        "        results_df.loc[len(results_df)] = ['Logistic Model - Lasso', accuracy_score(val_y,first_lm.predict(val_X))]\n",
        "    \n",
        "else:\n",
        "    pass"
      ],
      "execution_count": null,
      "outputs": []
    },
    {
      "cell_type": "code",
      "metadata": {
        "scrolled": true,
        "id": "Or8uyfiQ8Ler",
        "outputId": "4562aee1-d560-489a-84ec-20966b8b952f",
        "colab": {
          "base_uri": "https://localhost:8080/",
          "height": 80
        }
      },
      "source": [
        "results_df"
      ],
      "execution_count": null,
      "outputs": [
        {
          "output_type": "execute_result",
          "data": {
            "text/html": [
              "<div>\n",
              "<style scoped>\n",
              "    .dataframe tbody tr th:only-of-type {\n",
              "        vertical-align: middle;\n",
              "    }\n",
              "\n",
              "    .dataframe tbody tr th {\n",
              "        vertical-align: top;\n",
              "    }\n",
              "\n",
              "    .dataframe thead th {\n",
              "        text-align: right;\n",
              "    }\n",
              "</style>\n",
              "<table border=\"1\" class=\"dataframe\">\n",
              "  <thead>\n",
              "    <tr style=\"text-align: right;\">\n",
              "      <th></th>\n",
              "      <th>Approach</th>\n",
              "      <th>Accuracy</th>\n",
              "    </tr>\n",
              "  </thead>\n",
              "  <tbody>\n",
              "    <tr>\n",
              "      <th>0</th>\n",
              "      <td>Logistic Model - STD</td>\n",
              "      <td>0.75096</td>\n",
              "    </tr>\n",
              "  </tbody>\n",
              "</table>\n",
              "</div>"
            ],
            "text/plain": [
              "               Approach  Accuracy\n",
              "0  Logistic Model - STD   0.75096"
            ]
          },
          "metadata": {
            "tags": []
          },
          "execution_count": 149
        }
      ]
    },
    {
      "cell_type": "markdown",
      "metadata": {
        "id": "ZQppufX18Let"
      },
      "source": [
        "### 3.3.2 Ridge Regression\n"
      ]
    },
    {
      "cell_type": "code",
      "metadata": {
        "id": "aB4lUBvX8Let"
      },
      "source": [
        "# # We perform Ridge to see what is the best score that we could obtain\n",
        "\n",
        "# from sklearn.feature_selection import SelectFromModel\n",
        "# alphas = 10**np.linspace(-1,-4,100)\n",
        "\n",
        "# # There are 2 options for CV\n",
        "# ridge_mod_cv = linear_model.RidgeClassifierCV(alphas=alphas).fit(train_X, train_y) #Performs better ## 74.94%, however running reduced # of feature only 72%\n",
        "# ridge_mod_cv2 = linear_model.LogisticRegressionCV(max_iter=10000,penalty='l2',Cs=alphas,n_jobs=-3).fit(train_X, train_y) #performs at 74.1%"
      ],
      "execution_count": null,
      "outputs": []
    },
    {
      "cell_type": "code",
      "metadata": {
        "id": "s_ZLI8SM8Lev"
      },
      "source": [
        "# # rerun BM logit model\n",
        "\n",
        "# print(\"Accuracy = {0:.4f}\".format(accuracy_score(val_y,ridge_mod_cv.predict(val_X)))) #performs at 74.94%\n",
        "# plot_confusion_matrix(ridge_mod_cv, val_X, val_y, val_y.unique(), cmap=plt.cm.Blues)\n",
        "\n",
        "# model = SelectFromModel(ridge_mod_cv, prefit=True)\n",
        "# new_X = model.transform(train_X)\n",
        "# val_new_X = model.transform(val_X)\n",
        "# print(\"Original Number of Features = {} --> Number of features selected by Ridge = {}\".format(train_X.shape[1], new_X.shape[1]))\n",
        "# columns_ridge = train_X.columns[model.get_support()]\n",
        "# print(columns_ridge)\n",
        "\n",
        "# set_ridge ==0\n",
        "# if set_ridge == 1:\n",
        "#     train_X = train_X.loc[:,columns_ridge]\n",
        "#     val_X = val_X.loc[:,columns_ridge]\n",
        "# else:\n",
        "#     pass"
      ],
      "execution_count": null,
      "outputs": []
    },
    {
      "cell_type": "code",
      "metadata": {
        "id": "eo9Pi3mc8Le1"
      },
      "source": [
        "# # rerun BM logit model with reduced # of features\n",
        "\n",
        "# ridge_mod_cv = linear_model.RidgeClassifierCV(alphas=alphas).fit(train_X.loc[:,columns_ridge], train_y) #Performs worse 72.21% \n",
        "\n",
        "# print(\"Accuracy = {0:.4f}\".format(accuracy_score(val_y,ridge_mod_cv.predict(val_X.loc[:,columns_ridge]))))\n",
        "# plot_confusion_matrix(ridge_mod_cv, val_X.loc[:,columns_ridge], val_y, val_y.unique(), cmap=plt.cm.Blues)\n",
        "# print(\"Accuracy = {0:.4f}\".format(accuracy_score(val_y,ridge_mod_cv2.predict(val_X)))) #Performs 74.10% \n",
        "# plot_confusion_matrix(ridge_mod_cv2, val_X, val_y, val_y.unique(), cmap=plt.cm.Blues)\n",
        "\n",
        "# # We need to put whether ridge_mod_cv or ridge_mod_cv2 \n",
        "# ridge_mod_cv = linear_model.RidgeClassifierCV(alphas=alphas).fit(train_X, train_y)\n",
        "# results_df.loc[len(results_df)] = ['LR Baseline_Ridge', accuracy_score(val_y,ridge_mod_cv.predict(val_X))]\n",
        "# results_df"
      ],
      "execution_count": null,
      "outputs": []
    },
    {
      "cell_type": "markdown",
      "metadata": {
        "id": "oMzC8zcCN2Ir"
      },
      "source": [
        "## 3.4 Absolute Correlation\n"
      ]
    },
    {
      "cell_type": "code",
      "metadata": {
        "id": "uyyunyQmN2Iw",
        "outputId": "e6fb5c1a-b4e6-4493-950b-74670a054323",
        "colab": {
          "base_uri": "https://localhost:8080/",
          "height": 594
        }
      },
      "source": [
        "if set_Corr:\n",
        "\n",
        "    from sklearn.feature_selection import SelectKBest, f_classif\n",
        "\n",
        "    f_selector = SelectKBest(score_func=f_classif).fit(train_X,train_y)\n",
        "\n",
        "    # Get the indices sorted by most important to least important\n",
        "    indices = np.argsort(f_selector.scores_)[::-1]\n",
        "\n",
        "    f_features = []\n",
        "    for i in range(len(train_X.columns)):\n",
        "        f_features.append(train_X.columns[indices[i]])\n",
        "\n",
        "    # Now plot\n",
        "    plt.figure(figsize=(10,10))\n",
        "    plt.yticks(rotation='horizontal',fontsize=16)\n",
        "    plt.barh(f_features, f_selector.scores_[indices[range(len(train_X.columns))]], color='r', align='center')\n",
        "    plt.gca().invert_yaxis()\n",
        "    plt.show()\n",
        "\n",
        "    # Select the number n of top-n features ## could move this and apply the filter already for the plot\n",
        "    f_features = f_features[0:40] # n = 40\n",
        "    \n",
        "    train_X = train_X.loc[:,f_features]\n",
        "    val_X = val_X.loc[:,f_features]\n",
        "    \n",
        "else:\n",
        "    pass "
      ],
      "execution_count": null,
      "outputs": [
        {
          "output_type": "display_data",
          "data": {
            "image/png": "[encoded data removed]",
            "text/plain": [
              "<Figure size 720x720 with 1 Axes>"
            ]
          },
          "metadata": {
            "tags": []
          }
        }
      ]
    },
    {
      "cell_type": "code",
      "metadata": {
        "scrolled": false,
        "id": "lOq-ybbeN2I1",
        "outputId": "e155dead-a054-4484-a371-ec479710ad0d",
        "colab": {
          "base_uri": "https://localhost:8080/",
          "height": 302
        }
      },
      "source": [
        "# rerun BM logit model\n",
        "\n",
        "if set_Corr:\n",
        "    \n",
        "    first_lm.fit(train_X, train_y) # refit on selected features\n",
        "    \n",
        "    print(\"Accuracy = {0:.4f}\".format(accuracy_score(val_y,first_lm.predict(val_X))))\n",
        "    plot_confusion_matrix(first_lm, val_X, val_y, val_y.unique(), cmap=plt.cm.Blues)\n",
        "    \n",
        "    if set_standardize:\n",
        "        results_df.loc[len(results_df)] = ['Logistic Model - F-Score - STD', accuracy_score(val_y,first_lm.predict(val_X))]\n",
        "    else:\n",
        "        results_df.loc[len(results_df)] = ['Logistic Model - F-Score', accuracy_score(val_y,first_lm.predict(val_X))]\n",
        "    \n",
        "else:\n",
        "    pass"
      ],
      "execution_count": null,
      "outputs": [
        {
          "output_type": "stream",
          "text": [
            "Accuracy = 0.7447\n"
          ],
          "name": "stdout"
        },
        {
          "output_type": "display_data",
          "data": {
            "image/png": "[encoded data removed]",
            "text/plain": [
              "<Figure size 432x288 with 2 Axes>"
            ]
          },
          "metadata": {
            "tags": []
          }
        }
      ]
    },
    {
      "cell_type": "code",
      "metadata": {
        "scrolled": true,
        "id": "w8f2LMMnN2I2",
        "outputId": "c4ab9eb3-1ef1-496d-e99f-bb6486ffa613",
        "colab": {
          "base_uri": "https://localhost:8080/",
          "height": 111
        }
      },
      "source": [
        "results_df"
      ],
      "execution_count": null,
      "outputs": [
        {
          "output_type": "execute_result",
          "data": {
            "text/html": [
              "<div>\n",
              "<style scoped>\n",
              "    .dataframe tbody tr th:only-of-type {\n",
              "        vertical-align: middle;\n",
              "    }\n",
              "\n",
              "    .dataframe tbody tr th {\n",
              "        vertical-align: top;\n",
              "    }\n",
              "\n",
              "    .dataframe thead th {\n",
              "        text-align: right;\n",
              "    }\n",
              "</style>\n",
              "<table border=\"1\" class=\"dataframe\">\n",
              "  <thead>\n",
              "    <tr style=\"text-align: right;\">\n",
              "      <th></th>\n",
              "      <th>Approach</th>\n",
              "      <th>Accuracy</th>\n",
              "    </tr>\n",
              "  </thead>\n",
              "  <tbody>\n",
              "    <tr>\n",
              "      <th>0</th>\n",
              "      <td>Logistic Model - STD</td>\n",
              "      <td>0.750960</td>\n",
              "    </tr>\n",
              "    <tr>\n",
              "      <th>1</th>\n",
              "      <td>Logistic Model - F-Score - STD</td>\n",
              "      <td>0.744681</td>\n",
              "    </tr>\n",
              "  </tbody>\n",
              "</table>\n",
              "</div>"
            ],
            "text/plain": [
              "                         Approach  Accuracy\n",
              "0            Logistic Model - STD  0.750960\n",
              "1  Logistic Model - F-Score - STD  0.744681"
            ]
          },
          "metadata": {
            "tags": []
          },
          "execution_count": 155
        }
      ]
    },
    {
      "cell_type": "markdown",
      "metadata": {
        "id": "8kEBcuBh8Le5"
      },
      "source": [
        "# 4. First Model - Linear Discriminant Analysis"
      ]
    },
    {
      "cell_type": "markdown",
      "metadata": {
        "id": "lrx-e7eH8Le6"
      },
      "source": [
        "To provide a solid first model, we estimate an LDA model. To work with a limited set up of features, we apply PCA as an additional pre-processing step.\n",
        "\n",
        "a lot of variables, high correlations > apply PCA to reduce number of dimensions, then run LDA to give best possinle linear representation between classes (will end up w one vector only, linear combi of PCAs)\n",
        "\n",
        "FIrst simple approach, no tuning required"
      ]
    },
    {
      "cell_type": "markdown",
      "metadata": {
        "id": "FWTjxdyb8Le6"
      },
      "source": [
        "## 4.1 DIMENSIONALITY REDUCTION - PCA"
      ]
    },
    {
      "cell_type": "markdown",
      "metadata": {
        "id": "w6gv6o308Le6"
      },
      "source": [
        "why PCA? maybe add another correlation plot\n",
        "may not need every predictor\n",
        "A weighted combination of predictors might be better\n",
        "We should pick this combination to capture the “most information” possible\n",
        "Benefits\n",
        "Reduced number of predictors\n",
        "Reduced noise (due to averaging)"
      ]
    },
    {
      "cell_type": "code",
      "metadata": {
        "id": "GRVAije38Le6"
      },
      "source": [
        "### standardization of data required\n",
        "\n",
        "if set_PCA:\n",
        "\n",
        "    from sklearn.decomposition import PCA \n",
        "    sklearn_pca = PCA()\n",
        "    Y_sklearn = sklearn_pca.fit_transform(train_X) # using scaled train data\n",
        "\n",
        "    VARIANCE_TO_KEEP = 0.90 # choose threshold of info to keep\n",
        "    \n",
        "    plt.bar(range(sklearn_pca.n_components_), sklearn_pca.explained_variance_ratio_, alpha=0.5, align='center',label='individual explained variance')\n",
        "    plt.step(range(sklearn_pca.n_components_), [sklearn_pca.explained_variance_ratio_[:y].sum() for y in range(1,sklearn_pca.n_components_+1)], alpha=0.5, where='mid',label='cumulative explained variance')\n",
        "    plt.axhline(y=VARIANCE_TO_KEEP, linewidth=2, color = 'r')\n",
        "    plt.ylabel('Explained variance ratio')\n",
        "    plt.xlabel('Principal components')\n",
        "    plt.xlim([0, sklearn_pca.n_components_])\n",
        "    plt.legend(loc='best')\n",
        "    plt.tight_layout()\n",
        "    \n",
        "    keep_recommend = [sklearn_pca.explained_variance_ratio_[:y].sum()>VARIANCE_TO_KEEP for y in range(1,sklearn_pca.n_components_+1)].count(False)\n",
        "    print(\"Number of components to keep to retain %s%% of the variance:\" % (100*VARIANCE_TO_KEEP), keep_recommend, \"out of the original\", sklearn_pca.n_components_)\n",
        "    \n",
        "    retained_components_number = keep_recommend # set the number of PCA variables to keep\n",
        "\n",
        "    sklearn_pca_final = PCA(n_components=retained_components_number)\n",
        "\n",
        "    Y_sklearn_final = sklearn_pca_final.fit_transform(train_X)\n",
        "    Y2_sklearn_final = sklearn_pca_final.transform(val_X)\n",
        "    \n",
        "    train_X = pd.DataFrame(Y_sklearn_final, columns=[('PCA ' + str(i+1)) for i in range(sklearn_pca_final.n_components)])\n",
        "    val_X = pd.DataFrame(Y2_sklearn_final, columns=[('PCA ' + str(i+1)) for i in range(sklearn_pca_final.n_components)])"
      ],
      "execution_count": null,
      "outputs": []
    },
    {
      "cell_type": "code",
      "metadata": {
        "id": "UqGHV0Ol8Le8"
      },
      "source": [
        "## instead use pipelines to be more efficient ## USE TO PREDICT ON FINAL TEST\n",
        "\n",
        "# from sklearn.pipeline import Pipeline\n",
        "# # fits PCA, transforms data and fits the decision tree classifier\n",
        "# # on the transformed data\n",
        "# pipe = Pipeline([('pca', PCA()),\n",
        "#                  ('tree', DecisionTreeClassifier())])\n",
        "# pipe.fit(iris.data, iris.target)\n",
        "# pipe.predict(newdata)"
      ],
      "execution_count": null,
      "outputs": []
    },
    {
      "cell_type": "markdown",
      "metadata": {
        "id": "w-G9MiYP8Le9"
      },
      "source": [
        "## 4.2 Fit LDA Model"
      ]
    },
    {
      "cell_type": "code",
      "metadata": {
        "id": "EOvtmGgs8Le-"
      },
      "source": [
        "if set_PCA:\n",
        "\n",
        "    from sklearn.discriminant_analysis import LinearDiscriminantAnalysis\n",
        "\n",
        "    clf = LinearDiscriminantAnalysis()\n",
        "    clf.fit(train_X, train_y)\n",
        "\n",
        "    # show confusion matrix of benchmark prediction\n",
        "    from sklearn.metrics import plot_confusion_matrix, accuracy_score\n",
        "\n",
        "    print(\"Accuracy = {0:.4f}\".format(accuracy_score(val_y,clf.predict(val_X))))\n",
        "    plot_confusion_matrix(clf, val_X, val_y, val_y.unique(), cmap=plt.cm.Blues)\n",
        "    \n",
        "    results_df.loc[len(results_df)] = ['LDA Model - PCA/STD', accuracy_score(val_y,clf.predict(val_X))]\n"
      ],
      "execution_count": null,
      "outputs": []
    },
    {
      "cell_type": "code",
      "metadata": {
        "id": "C3PMfo9f8Le_",
        "outputId": "fed853af-6471-4b0a-cf3d-e63f03ce3b61",
        "colab": {
          "base_uri": "https://localhost:8080/",
          "height": 80
        }
      },
      "source": [
        "results_df"
      ],
      "execution_count": null,
      "outputs": [
        {
          "output_type": "execute_result",
          "data": {
            "text/html": [
              "<div>\n",
              "<style scoped>\n",
              "    .dataframe tbody tr th:only-of-type {\n",
              "        vertical-align: middle;\n",
              "    }\n",
              "\n",
              "    .dataframe tbody tr th {\n",
              "        vertical-align: top;\n",
              "    }\n",
              "\n",
              "    .dataframe thead th {\n",
              "        text-align: right;\n",
              "    }\n",
              "</style>\n",
              "<table border=\"1\" class=\"dataframe\">\n",
              "  <thead>\n",
              "    <tr style=\"text-align: right;\">\n",
              "      <th></th>\n",
              "      <th>Approach</th>\n",
              "      <th>Accuracy</th>\n",
              "    </tr>\n",
              "  </thead>\n",
              "  <tbody>\n",
              "    <tr>\n",
              "      <th>0</th>\n",
              "      <td>Logistic Model - STD</td>\n",
              "      <td>0.75096</td>\n",
              "    </tr>\n",
              "  </tbody>\n",
              "</table>\n",
              "</div>"
            ],
            "text/plain": [
              "               Approach  Accuracy\n",
              "0  Logistic Model - STD   0.75096"
            ]
          },
          "metadata": {
            "tags": []
          },
          "execution_count": 77
        }
      ]
    },
    {
      "cell_type": "markdown",
      "metadata": {
        "id": "YHSEzB1F8LfA"
      },
      "source": [
        "# 5. Challenger Models"
      ]
    },
    {
      "cell_type": "markdown",
      "metadata": {
        "id": "wqRoj5b98LfB"
      },
      "source": [
        "## 5.1 Random Forest"
      ]
    },
    {
      "cell_type": "code",
      "metadata": {
        "id": "jufrBBmR8LfB"
      },
      "source": [
        "# from sklearn.tree import DecisionTreeClassifier\n",
        "\n",
        "# first_tree = DecisionTreeClassifier(random_state=42)\n",
        "# first_tree.fit(train_X, train_y);\n",
        "\n",
        "# from sklearn.metrics import accuracy_score\n",
        "\n",
        "# predictions = first_tree.predict(val_X)\n",
        "# print(\"Accuracy = {0:.4f}\".format(accuracy_score(val_y, predictions)))\n",
        "# # 0.79"
      ],
      "execution_count": null,
      "outputs": []
    },
    {
      "cell_type": "code",
      "metadata": {
        "id": "_28-H-sT8LfC"
      },
      "source": [
        "from sklearn.ensemble import RandomForestClassifier\n",
        "from sklearn.metrics import accuracy_score\n",
        "\n",
        "tree_bagging = RandomForestClassifier(random_state=42, max_features=len(train_X.columns))\n",
        "tree_bagging.fit(train_X, train_y)\n",
        "\n",
        "predictions = tree_bagging.predict(val_X)\n",
        "print(\"Accuracy = {0:.4f}\".format(accuracy_score(val_y, predictions)))\n",
        "#0.8547\n",
        "#0.8349 unstd."
      ],
      "execution_count": null,
      "outputs": []
    },
    {
      "cell_type": "markdown",
      "metadata": {
        "id": "g1O4OZzi8LfD"
      },
      "source": [
        "#### use randomized grid search for its shorter runtime"
      ]
    },
    {
      "cell_type": "code",
      "metadata": {
        "id": "2ITVJedt8LfE"
      },
      "source": [
        "# from sklearn.model_selection import RandomizedSearchCV\n",
        "\n",
        "# params = {\n",
        "#     \"max_depth\": [int(x) for x in np.linspace(5, 110, num = 5)]+[None],\n",
        "#     \"n_estimators\": [int(x) for x in np.linspace(start = 50, stop = 1000, num = 5)],\n",
        "#     \"max_features\": ['auto', 'log2', len(train_X.columns)],\n",
        "#     \"min_samples_split\": [2, 5, 10],\n",
        "#     \"min_samples_leaf\": [1, 2, 5]\n",
        "# }\n",
        "\n",
        "# search_TB = RandomizedSearchCV(tree_bagging, param_distributions=params, random_state=42, n_iter=50, cv=5, verbose=1, n_jobs=-1, return_train_score=True)\n",
        "# search_TB.fit(train_X, train_y)\n",
        "\n",
        "# print(\"Best parameters set found on development set:\")\n",
        "# print()\n",
        "# print(search_TB.best_params_)\n",
        "# print()\n",
        "# print(\"Grid scores on development set:\")\n",
        "# print()\n",
        "# means = search_TB.cv_results_['mean_test_score']\n",
        "# stds = search_TB.cv_results_['std_test_score']\n",
        "# for mean, std, params in zip(means, stds, search_TB.cv_results_['params']):\n",
        "#     print(\"Accuracy = %0.3f (+/%0.03f) for %r\" % (mean, std * 2, params))\n",
        "\n",
        "# predictions = search_TB.best_estimator_.predict(val_X)\n",
        "\n",
        "# print(\"Accuracy = {0:.4f}\".format(accuracy_score(val_y,predictions)))\n",
        "# #plot_confusion_matrix(search_TB.best_estimator_, val_X, val_y, val_y.unique(), cmap=plt.cm.Blues)"
      ],
      "execution_count": null,
      "outputs": []
    },
    {
      "cell_type": "code",
      "metadata": {
        "id": "lB3wv6Vb8LfF"
      },
      "source": [
        "# # from sklearn.ensemble import RandomForestClassifier\n",
        "# # from sklearn.metrics import accuracy_score\n",
        "\n",
        "# tree_rf = RandomForestClassifier(random_state=42, max_features='sqrt')\n",
        "# tree_rf.fit(train_X, train_y)\n",
        "\n",
        "# # predictions = tree_rf.predict(val_X)\n",
        "# # print(\"Accuracy = {0:.4f}\".format(accuracy_score(val_y, predictions)))\n",
        "# # # 0.8487"
      ],
      "execution_count": null,
      "outputs": []
    },
    {
      "cell_type": "code",
      "metadata": {
        "scrolled": true,
        "id": "DMxrv-Sw8LfG"
      },
      "source": [
        "# plt.figure(figsize=(20,5))\n",
        "# plt.bar(train_X.columns, tree_rf.feature_importances_)\n",
        "# plt.title('Feature Importance', fontsize=16);"
      ],
      "execution_count": null,
      "outputs": []
    },
    {
      "cell_type": "code",
      "metadata": {
        "id": "w6-Ijivh8LfI"
      },
      "source": [
        "# #OG2\n",
        "# tree_rf_small = RandomForestClassifier(random_state=42, max_features='sqrt')\n",
        "# tree_rf_small.fit(train_X.loc[:,tree_rf.feature_importances_>0.001], train_y)\n",
        "\n",
        "# predictions = tree_rf_small.predict(val_X.loc[:,tree_rf.feature_importances_>0.001])\n",
        "# print(\"Accuracy = {0:.4f}\".format(accuracy_score(val_y, predictions)))\n",
        "# # 0.8503\n",
        "\n",
        "# # show confusion matrix of RF prediction\n",
        "\n",
        "# from sklearn.metrics import plot_confusion_matrix, accuracy_score\n",
        "\n",
        "# print(\"Accuracy = {0:.4f}\".format(accuracy_score(val_y,tree_rf_small.predict(val_X.loc[:,tree_rf.feature_importances_>0.001]))))\n",
        "# plot_confusion_matrix(tree_rf_small, val_X.loc[:,tree_rf.feature_importances_>0.001], val_y, val_y.unique(), cmap=plt.cm.Blues)\n",
        "\n",
        "# results_df.loc[len(results_df)] = ['RF Base Model', accuracy_score(val_y,tree_rf_small.predict(val_X.loc[:,tree_rf.feature_importances_>0.001]))]\n",
        "# results_df"
      ],
      "execution_count": null,
      "outputs": []
    },
    {
      "cell_type": "markdown",
      "metadata": {
        "id": "GA7k-DI78LfJ"
      },
      "source": [
        "## ExtraTrees"
      ]
    },
    {
      "cell_type": "code",
      "metadata": {
        "id": "r1PPiDfc8LfJ"
      },
      "source": [
        "## OG\n",
        "\n",
        "from sklearn.ensemble import ExtraTreesClassifier\n",
        "tree_et = ExtraTreesClassifier(random_state=42)\n",
        "tree_et.fit(train_X, train_y)\n",
        "\n",
        "predictions = tree_et.predict(val_X)\n",
        "print(\"Accuracy = {0:.4f}\".format(accuracy_score(val_y, predictions)))\n",
        "# 0.8558\n",
        "#0.8317 unstd."
      ],
      "execution_count": null,
      "outputs": []
    },
    {
      "cell_type": "code",
      "metadata": {
        "id": "B7psEzP88LfL"
      },
      "source": [
        "# show confusion matrix of ET prediction\n",
        "\n",
        "from sklearn.metrics import plot_confusion_matrix, accuracy_score\n",
        "\n",
        "print(\"Accuracy = {0:.4f}\".format(accuracy_score(val_y,tree_et.predict(val_X))))\n",
        "plot_confusion_matrix(tree_et, val_X, val_y, val_y.unique(), cmap=plt.cm.Blues)\n",
        "\n",
        "results_df.loc[len(results_df)] = ['ET Base Model', accuracy_score(val_y,tree_et.predict(val_X))]\n",
        "results_df"
      ],
      "execution_count": null,
      "outputs": []
    },
    {
      "cell_type": "code",
      "metadata": {
        "id": "CVq2XvOY8LfM"
      },
      "source": [
        "from sklearn.model_selection import RandomizedSearchCV\n",
        "\n",
        "params = {\n",
        "    \"max_depth\": [int(x) for x in np.linspace(20, 100, num = 8)]+[None],\n",
        "    \"criterion\": ['gini', 'entropy'],\n",
        "    \"n_estimators\": [int(x) for x in np.linspace(start = 10, stop = 4000, num = 8)],\n",
        "    \"min_samples_split\": [2, 4, 6],\n",
        "    \"min_samples_leaf\": [1, 2, 3]\n",
        "}\n",
        "\n",
        "search_ET = RandomizedSearchCV(tree_et, param_distributions=params, random_state=42, n_iter=50, cv=5, verbose=1, n_jobs=-1, return_train_score=True)\n",
        "search_ET.fit(train_X, train_y)\n",
        "\n",
        "print(\"Best parameters set found on development set:\")\n",
        "print()\n",
        "print(search_ET.best_params_)\n",
        "print()\n",
        "print(\"Grid scores on development set:\")\n",
        "print()\n",
        "means = search_ET.cv_results_['mean_test_score']\n",
        "stds = search_ET.cv_results_['std_test_score']\n",
        "for mean, std, params in zip(means, stds, search_ET.cv_results_['params']):\n",
        "    print(\"Accuracy = %0.3f (+/%0.03f) for %r\" % (mean, std * 2, params))\n",
        "\n",
        "predictions = search_ET.best_estimator_.predict(val_X)\n",
        "\n",
        "import json\n",
        "\n",
        "json.dump(search_ET.best_params_, open('ExtraTrees_params7fTest.json', 'w'))\n",
        "#json.dump(search_ET.best_params_, open('/content/drive/Shared drives/ML2 project/ExtraTrees_params7fTest.json', 'w')) # for Collab"
      ],
      "execution_count": null,
      "outputs": []
    },
    {
      "cell_type": "code",
      "metadata": {
        "id": "lQiRZ16k8LfO"
      },
      "source": [
        "# show confusion matrix of ET Randomized prediction\n",
        "\n",
        "from sklearn.metrics import plot_confusion_matrix, accuracy_score\n",
        "\n",
        "print(\"Accuracy = {0:.4f}\".format(accuracy_score(val_y,predictions)))\n",
        "plot_confusion_matrix(search_ET.best_estimator_, val_X, val_y, val_y.unique(), cmap=plt.cm.Blues)\n",
        "\n",
        "results_df.loc[len(results_df)] = ['ET Randomized Model', accuracy_score(val_y,search_ET.predict(val_X))]\n",
        "results_df"
      ],
      "execution_count": null,
      "outputs": []
    },
    {
      "cell_type": "code",
      "metadata": {
        "id": "sKVwrX2k8LfP"
      },
      "source": [
        "# from sklearn.ensemble import AdaBoostClassifier\n",
        "# tree_ab = AdaBoostClassifier(DecisionTreeClassifier(max_depth=1),\n",
        "#                          algorithm=\"SAMME\",\n",
        "#                          n_estimators=200)\n",
        "# tree_ab.fit(train_X, train_y)\n",
        "\n",
        "# predictions = tree_ab.predict(val_X)\n",
        "# print(\"Accuracy = {0:.4f}\".format(accuracy_score(val_y, predictions)))"
      ],
      "execution_count": null,
      "outputs": []
    },
    {
      "cell_type": "code",
      "metadata": {
        "id": "bIqbOB-18LfQ"
      },
      "source": [
        "# from sklearn.ensemble import GradientBoostingClassifier\n",
        "# tree_gbc = GradientBoostingClassifier(n_estimators=100, learning_rate=1.0, max_depth=1, random_state=42)\n",
        "# tree_gbc.fit(train_X, train_y)\n",
        "\n",
        "# predictions = tree_gbc.predict(val_X)\n",
        "# print(\"Accuracy = {0:.4f}\".format(accuracy_score(val_y, predictions)))"
      ],
      "execution_count": null,
      "outputs": []
    },
    {
      "cell_type": "markdown",
      "metadata": {
        "id": "fuwoYyHa8LfR"
      },
      "source": [
        "## 5.2  XGBoost"
      ]
    },
    {
      "cell_type": "markdown",
      "metadata": {
        "id": "ygpHV49Q8LfR"
      },
      "source": [
        "idea of boosted trees"
      ]
    },
    {
      "cell_type": "code",
      "metadata": {
        "id": "E7ehT3Lp8LfR"
      },
      "source": [
        "#conda install -c conda-forge xgboost\n",
        "import xgboost\n",
        "xgb_tree = xgboost.XGBClassifier(objective=\"binary:logistic\", random_state=42)\n",
        "\n",
        "from scipy.stats import uniform, randint\n",
        "from sklearn.model_selection import RandomizedSearchCV\n",
        "\n",
        "params = {\n",
        "    \"colsample_bytree\": uniform(0.7, 0.3),\n",
        "    \"gamma\": uniform(0, 0.5),\n",
        "    \"learning_rate\": uniform(0.03, 0.3), # default 0.1 \n",
        "    \"max_depth\": randint(2, 6), # default 3\n",
        "    \"n_estimators\": randint(50, 200), # default 100\n",
        "    \"subsample\": uniform(0.6, 0.4)\n",
        "}\n",
        "\n",
        "search_XGB = RandomizedSearchCV(xgb_tree, param_distributions=params, random_state=42, n_iter=50, cv=5, verbose=1, n_jobs=-1, return_train_score=True)\n",
        "search_XGB.fit(train_X, train_y)\n",
        "\n",
        "print(\"Best parameters set found on development set:\")\n",
        "print()\n",
        "print(search_XGB.best_params_)\n",
        "print()\n",
        "print(\"Grid scores on development set:\")\n",
        "print()\n",
        "means = search_XGB.cv_results_['mean_test_score']\n",
        "stds = search_XGB.cv_results_['std_test_score']\n",
        "for mean, std, params in zip(means, stds, search_XGB.cv_results_['params']):\n",
        "    print(\"Accuracy = %0.3f (+/%0.03f) for %r\" % (mean, std * 2, params))\n",
        "    \n",
        "predictions = search_XGB.best_estimator_.predict(val_X)\n",
        "\n",
        "print(\"Accuracy = {0:.4f}\".format(accuracy_score(val_y,predictions)))\n",
        "plot_confusion_matrix(search_XGB.best_estimator_, val_X, val_y, val_y.unique(), cmap=plt.cm.Blues)\n",
        "\n",
        "import json\n",
        "\n",
        "json.dump(search_XGB.best_params_, open('XGBoost_params7fTest.json', 'w'))\n",
        "#json.dump(search_XGB.best_params_, open('/content/drive/Shared drives/ML2 project/XGBoost_params7fTest.json', 'w')) # for Collab\n",
        "\n",
        "results_df.loc[len(results_df)] = ['XGBoost Model', accuracy_score(val_y,predictions)]\n",
        "results_df"
      ],
      "execution_count": null,
      "outputs": []
    },
    {
      "cell_type": "markdown",
      "metadata": {
        "id": "piT9u_dX8LfT"
      },
      "source": [
        "## 5.3 Support Vector Machines [SVM]"
      ]
    },
    {
      "cell_type": "code",
      "metadata": {
        "id": "wyD99fY68LfT"
      },
      "source": [
        "# from sklearn import svm\n",
        "# from sklearn.model_selection import GridSearchCV\n",
        "\n",
        "# param_grid = {\n",
        "#     \"C\":[1,5,10,100], \n",
        "#     \"gamma\":[0.01,0.0001,0.00001]\n",
        "# }\n",
        "\n",
        "# estimator = GridSearchCV(svm.SVC(kernel='rbf'), param_grid, cv=5)\n",
        "# estimator.fit(X_train, y_train);\n",
        "\n",
        "# print(\"The best parameters are %s with a score of %0.2f\"\n",
        "#       % (estimator.best_params_, estimator.best_score_))\n",
        "\n",
        "\n",
        "# scores = estimator.cv_results_['mean_test_score'].reshape(len(param_grid['C']), len(param_grid['gamma']))\n",
        "\n",
        "# # Draw heatmap of the validation accuracy as a function of gamma and C\n",
        "\n",
        "# plt.figure(figsize=(10, 10))\n",
        "# plt.subplots_adjust(left=.2, right=0.95, bottom=0.15, top=0.95)\n",
        "# plt.imshow(scores, interpolation='nearest', cmap=plt.cm.Blues)\n",
        "# plt.xlabel('gamma')\n",
        "# plt.ylabel('C')\n",
        "# plt.colorbar()\n",
        "# plt.xticks(np.arange(len(param_grid['gamma'])), param_grid['gamma'], rotation=45)\n",
        "# plt.yticks(np.arange(len(param_grid['C'])), param_grid['C'])\n",
        "# plt.title('Validation accuracy')\n",
        "# plt.show()"
      ],
      "execution_count": null,
      "outputs": []
    },
    {
      "cell_type": "code",
      "metadata": {
        "id": "zzjv0Il-AxL7"
      },
      "source": [
        ""
      ],
      "execution_count": null,
      "outputs": []
    },
    {
      "cell_type": "code",
      "metadata": {
        "id": "pCxY8sxA8LfU",
        "outputId": "b9b880d2-7b26-4e33-95bc-066963c33ce2",
        "colab": {
          "base_uri": "https://localhost:8080/",
          "height": 809
        }
      },
      "source": [
        "from sklearn import svm\n",
        "from sklearn.model_selection import RandomizedSearchCV\n",
        "\n",
        "svm_basic = svm.SVC(random_state = 42)\n",
        "\n",
        "params = {\n",
        "     \"C\":[1,5,10,100], \n",
        "     \"gamma\":[0.01,0.0001,\"scale\",\"auto\"],\n",
        "     \"kernel\":[\"poly\",\"rbf\"],\n",
        "     \"degree\":[3,4],\n",
        " }\n",
        "\n",
        "search_SVM = RandomizedSearchCV(svm_basic, param_distributions=params, random_state=42, n_jobs=-1, n_iter=50, cv=5, verbose=1, return_train_score=True)\n",
        "search_SVM.fit(train_X, train_y)\n",
        "\n",
        "print(\"Best parameters set found on development set:\")\n",
        "print()\n",
        "print(search_SVM.best_params_)\n",
        "print()\n",
        "print(\"Grid scores on development set:\")\n",
        "print()\n",
        "means = search_SVM.cv_results_['mean_test_score']\n",
        "stds = search_SVM.cv_results_['std_test_score']\n",
        "for mean, std, params in zip(means, stds, search_SVM.cv_results_['params']):\n",
        "    print(\"Accuracy = %0.3f (+/%0.03f) for %r\" % (mean, std * 2, params))\n",
        "    \n",
        "predictions = search_SVM.best_estimator_.predict(val_X)\n",
        "\n",
        "print(\"Accuracy = {0:.4f}\".format(accuracy_score(val_y,predictions)))\n",
        "plot_confusion_matrix(search_SVM.best_estimator_, val_X, val_y, val_y.unique(), cmap=plt.cm.Blues)\n",
        "\n",
        "import json\n",
        "json.dump(search_SVM.best_params_, open('SVM_params7fTest.json', 'w'))\n",
        "#json.dump(search_SVM.best_params_, open('/content/drive/Shared drives/ML2 project/SVM_params7fTest.json', 'w')) # for Collab\n",
        "\n",
        "results_df.loc[len(results_df)] = ['SVM Model', accuracy_score(val_y,predictions)]\n",
        "results_df"
      ],
      "execution_count": null,
      "outputs": [
        {
          "output_type": "stream",
          "text": [
            "Fitting 5 folds for each of 4 candidates, totalling 20 fits\n"
          ],
          "name": "stdout"
        },
        {
          "output_type": "stream",
          "text": [
            "/usr/local/lib/python3.6/dist-packages/sklearn/model_selection/_search.py:281: UserWarning: The total space of parameters 4 is smaller than n_iter=50. Running 4 iterations. For exhaustive searches, use GridSearchCV.\n",
            "  % (grid_size, self.n_iter, grid_size), UserWarning)\n",
            "[Parallel(n_jobs=-1)]: Using backend LokyBackend with 2 concurrent workers.\n",
            "[Parallel(n_jobs=-1)]: Done  20 out of  20 | elapsed: 93.6min finished\n"
          ],
          "name": "stderr"
        },
        {
          "output_type": "stream",
          "text": [
            "Best parameters set found on development set:\n",
            "\n",
            "{'kernel': 'rbf'}\n",
            "\n",
            "Grid scores on development set:\n",
            "\n",
            "Accuracy = 0.750 (+/0.007) for {'kernel': 'linear'}\n",
            "Accuracy = 0.759 (+/0.005) for {'kernel': 'poly'}\n",
            "Accuracy = 0.760 (+/0.004) for {'kernel': 'rbf'}\n",
            "Accuracy = 0.670 (+/0.006) for {'kernel': 'sigmoid'}\n",
            "Accuracy = 0.7609\n"
          ],
          "name": "stdout"
        },
        {
          "output_type": "error",
          "ename": "NameError",
          "evalue": "ignored",
          "traceback": [
            "\u001b[0;31m---------------------------------------------------------------------------\u001b[0m",
            "\u001b[0;31mNameError\u001b[0m                                 Traceback (most recent call last)",
            "\u001b[0;32m<ipython-input-159-b24ab26c2328>\u001b[0m in \u001b[0;36m<module>\u001b[0;34m()\u001b[0m\n\u001b[1;32m     36\u001b[0m \u001b[0;32mimport\u001b[0m \u001b[0mjson\u001b[0m\u001b[0;34m\u001b[0m\u001b[0;34m\u001b[0m\u001b[0m\n\u001b[1;32m     37\u001b[0m \u001b[0;31m#json.dump(searchSVM.best_params_, open('SVM_params.json', 'w'))\u001b[0m\u001b[0;34m\u001b[0m\u001b[0;34m\u001b[0m\u001b[0;34m\u001b[0m\u001b[0m\n\u001b[0;32m---> 38\u001b[0;31m \u001b[0mjson\u001b[0m\u001b[0;34m.\u001b[0m\u001b[0mdump\u001b[0m\u001b[0;34m(\u001b[0m\u001b[0msearchSVM\u001b[0m\u001b[0;34m.\u001b[0m\u001b[0mbest_params_\u001b[0m\u001b[0;34m,\u001b[0m \u001b[0mopen\u001b[0m\u001b[0;34m(\u001b[0m\u001b[0;34m'/content/drive/Shared drives/ML2 project/SVM_params.json'\u001b[0m\u001b[0;34m,\u001b[0m \u001b[0;34m'w'\u001b[0m\u001b[0;34m)\u001b[0m\u001b[0;34m)\u001b[0m \u001b[0;31m# for Collab\u001b[0m\u001b[0;34m\u001b[0m\u001b[0;34m\u001b[0m\u001b[0m\n\u001b[0m\u001b[1;32m     39\u001b[0m \u001b[0;34m\u001b[0m\u001b[0m\n\u001b[1;32m     40\u001b[0m \u001b[0mresults_df\u001b[0m\u001b[0;34m.\u001b[0m\u001b[0mloc\u001b[0m\u001b[0;34m[\u001b[0m\u001b[0mlen\u001b[0m\u001b[0;34m(\u001b[0m\u001b[0mresults_df\u001b[0m\u001b[0;34m)\u001b[0m\u001b[0;34m]\u001b[0m \u001b[0;34m=\u001b[0m \u001b[0;34m[\u001b[0m\u001b[0;34m'SVM Model'\u001b[0m\u001b[0;34m,\u001b[0m \u001b[0maccuracy_score\u001b[0m\u001b[0;34m(\u001b[0m\u001b[0mval_y\u001b[0m\u001b[0;34m,\u001b[0m\u001b[0mpredictions\u001b[0m\u001b[0;34m)\u001b[0m\u001b[0;34m]\u001b[0m\u001b[0;34m\u001b[0m\u001b[0;34m\u001b[0m\u001b[0m\n",
            "\u001b[0;31mNameError\u001b[0m: name 'searchSVM' is not defined"
          ]
        },
        {
          "output_type": "display_data",
          "data": {
            "image/png": "[encoded data removed]",
            "text/plain": [
              "<Figure size 432x288 with 2 Axes>"
            ]
          },
          "metadata": {
            "tags": []
          }
        }
      ]
    },
    {
      "cell_type": "code",
      "metadata": {
        "id": "U7aFLfsh8LfV"
      },
      "source": [
        "# from sklearn import svm, pipeline\n",
        "# from sklearn.kernel_approximation import Nystroem\n",
        "# from sklearn.model_selection import GridSearchCV\n",
        "\n",
        "# feature_map_nystroem = Nystroem(gamma=.1,\n",
        "#                                 random_state=42)\n",
        "\n",
        "# nystroem_SVM = pipeline.Pipeline([('kernel_map', feature_map_nystroem),\n",
        "#                                   ('SVM', svm.LinearSVC())])\n",
        "\n",
        "# param_grid = {\n",
        "#     'kernel_map__n_components': [int(x) for x in np.linspace(50, 350, num = 4)],\n",
        "#     'SVM__C': [1,5,10,100],\n",
        "#     #'SVM__gamma': [0.01,0.0001,0.00001]\n",
        "# }\n",
        "\n",
        "# searchSVM = GridSearchCV(nystroem_SVM, param_grid)\n",
        "# searchSVM.fit(train_X,train_y)\n",
        "\n",
        "# print(\"Best parameters set found on development set:\")\n",
        "# print()\n",
        "# print(searchSVM.best_params_)\n",
        "# print()\n",
        "# print(\"Grid scores on development set:\")\n",
        "# print()\n",
        "# means = searchSVM.cv_results_['mean_test_score']\n",
        "# stds = searchSVM.cv_results_['std_test_score']\n",
        "# for mean, std, params in zip(means, stds, searchSVM.cv_results_['params']):\n",
        "#     print(\"Accuracy = %0.3f (+/%0.03f) for %r\" % (mean, std * 2, params))\n",
        "\n",
        "# predictions = searchSVM.best_estimator_.predict(val_X)\n",
        "\n",
        "# print(\"Accuracy = {0:.4f}\".format(accuracy_score(val_y,predictions)))\n",
        "# plot_confusion_matrix(searchSVM.best_estimator_, val_X, val_y, val_y.unique(), cmap=plt.cm.Blues)"
      ],
      "execution_count": null,
      "outputs": []
    },
    {
      "cell_type": "markdown",
      "metadata": {
        "id": "WXHxzklD8LfW"
      },
      "source": [
        "## 5.4 K-nearest Neighbours"
      ]
    },
    {
      "cell_type": "code",
      "metadata": {
        "id": "maE1sp1W8LfX"
      },
      "source": [
        ""
      ],
      "execution_count": null,
      "outputs": []
    },
    {
      "cell_type": "markdown",
      "metadata": {
        "id": "d1xUCJgW8LfY"
      },
      "source": [
        "# 6. Ensemble Method"
      ]
    },
    {
      "cell_type": "markdown",
      "metadata": {
        "id": "voCO7W5r8LfY"
      },
      "source": [
        "Trend in many machine learning challenges and applications nowadays to work with a combination of ML approaches, weighing their predictions. For instance, majority vote or simple assignment of weights are frequently applied."
      ]
    },
    {
      "cell_type": "markdown",
      "metadata": {
        "id": "zrux9DQt8LfY"
      },
      "source": [
        "## 6.1 Voting Classifier"
      ]
    },
    {
      "cell_type": "markdown",
      "metadata": {
        "id": "6Hp9BE8J8LfY"
      },
      "source": [
        "#### TREND OF ENSEMBLE METHODS\n",
        "\n",
        "combination of previously estimated models"
      ]
    },
    {
      "cell_type": "code",
      "metadata": {
        "scrolled": true,
        "id": "UnPHymlm8Lfa"
      },
      "source": [
        "from sklearn.ensemble import VotingClassifier\n",
        "#from sklearn.naive_bayes import GaussianNB\n",
        "#from sklearn.linear_model import LogisticRegression\n",
        "\n",
        "clf1 = search_ET.best_estimator_\n",
        "clf2 = search_XGB.best_estimator_\n",
        "clf3 = search_SVM.best_estimator_\n",
        "#clf4 = #anyothermodel\n",
        "\n",
        "vote_hard = VotingClassifier(estimators=[\n",
        "        ('extraTrees', clf1), ('xgBoost', clf2), ('SVM', clf3)], voting='hard')\n",
        "vote_hard = vote_hard.fit(train_X, train_y)\n",
        "print(vote_hard.predict(val_X))\n",
        "\n",
        "#np.array_equal(vote_hard.named_estimators_.lr.predict(val_X),\n",
        "#               vote_hard.named_estimators_['lr'].predict(val_X))\n",
        "\n",
        "vote_soft = VotingClassifier(estimators=[\n",
        "        ('extraTrees', clf1), ('xgBoost', clf2), ('SVM', clf3)],\n",
        "        voting='soft')\n",
        "vote_soft = vote_soft.fit(train_X, train_y)\n",
        "#print(vote_soft.predict(val_X))\n",
        "\n",
        "##\n",
        "# FOR WEIGHTS, APPLY GRID-SEARCH\n",
        "##\n",
        "vote_weighted = VotingClassifier(estimators=[\n",
        "       ('extraTrees', clf1), ('xgBoost', clf2), ('SVM', clf3)],\n",
        "       voting='soft', weights=[2,1,2],\n",
        "       flatten_transform=True)\n",
        "vote_weighted = vote_weighted.fit(train_X, train_y)\n",
        "#print(vote_weighted.predict(val_X))\n",
        "\n",
        "#print(vote_weighted.transform(train_X).shape)"
      ],
      "execution_count": null,
      "outputs": []
    },
    {
      "cell_type": "code",
      "metadata": {
        "id": "Vqk_slbh8Lfc"
      },
      "source": [
        "## hard voting 86% and weighted 84% work well"
      ],
      "execution_count": null,
      "outputs": []
    },
    {
      "cell_type": "code",
      "metadata": {
        "id": "rgbob5E18Lfd"
      },
      "source": [
        "# show confusion matrix of vote 1 (hard)\n",
        "\n",
        "from sklearn.metrics import plot_confusion_matrix, accuracy_score\n",
        "\n",
        "print(\"Accuracy = {0:.4f}\".format(accuracy_score(val_y,vote_hard.predict(val_X))))\n",
        "plot_confusion_matrix(vote_hard, val_X, val_y, val_y.unique(), cmap=plt.cm.Blues)\n",
        "\n",
        "# 0.8606"
      ],
      "execution_count": null,
      "outputs": []
    },
    {
      "cell_type": "code",
      "metadata": {
        "id": "inRhVp298Lfi"
      },
      "source": [
        "results_df.loc[len(results_df)] = ['Voting E-Model 1', accuracy_score(val_y,vote_hard.predict(val_X))]\n",
        "results_df"
      ],
      "execution_count": null,
      "outputs": []
    },
    {
      "cell_type": "code",
      "metadata": {
        "id": "H8lh9AUH8Lfj"
      },
      "source": [
        "# show confusion matrix of vote 2 (soft)\n",
        "\n",
        "from sklearn.metrics import plot_confusion_matrix, accuracy_score\n",
        "\n",
        "print(\"Accuracy = {0:.4f}\".format(accuracy_score(val_y,vote_soft.predict(val_X))))\n",
        "plot_confusion_matrix(vote_soft, val_X, val_y, val_y.unique(), cmap=plt.cm.Blues)"
      ],
      "execution_count": null,
      "outputs": []
    },
    {
      "cell_type": "code",
      "metadata": {
        "id": "NXE8stph8Lfk"
      },
      "source": [
        "results_df.loc[len(results_df)] = ['Voting E-Model 2', accuracy_score(val_y,vote_soft.predict(val_X))]\n",
        "results_df"
      ],
      "execution_count": null,
      "outputs": []
    },
    {
      "cell_type": "code",
      "metadata": {
        "id": "33Fx3Dz-8Lfl"
      },
      "source": [
        "# show confusion matrix of vote 3 (weighted)\n",
        "\n",
        "from sklearn.metrics import plot_confusion_matrix, accuracy_score\n",
        "\n",
        "print(\"Accuracy = {0:.4f}\".format(accuracy_score(val_y,vote_weighted.predict(val_X))))\n",
        "plot_confusion_matrix(vote_weighted, val_X, val_y, val_y.unique(), cmap=plt.cm.Blues)"
      ],
      "execution_count": null,
      "outputs": []
    },
    {
      "cell_type": "code",
      "metadata": {
        "scrolled": false,
        "id": "cSmBwehz8Lfm"
      },
      "source": [
        "results_df.loc[len(results_df)] = ['Voting E-Model 3', accuracy_score(val_y,vote_weighted.predict(val_X))]\n",
        "results_df"
      ],
      "execution_count": null,
      "outputs": []
    },
    {
      "cell_type": "markdown",
      "metadata": {
        "id": "DevxYBC18Lfn"
      },
      "source": [
        "## 6.2 Stacking Classifier"
      ]
    },
    {
      "cell_type": "code",
      "metadata": {
        "id": "Svxpdf-e8Lfn"
      },
      "source": [
        "# conda install -c conda-forge xgboost -y"
      ],
      "execution_count": null,
      "outputs": []
    },
    {
      "cell_type": "code",
      "metadata": {
        "id": "0enkCgPL8Lfo"
      },
      "source": [
        "from sklearn.ensemble import RandomForestClassifier\n",
        "from sklearn.svm import LinearSVC\n",
        "from sklearn.linear_model import LogisticRegression\n",
        "from sklearn.ensemble import StackingClassifier\n",
        "import xgboost\n",
        "\n",
        "estimators = [\n",
        "    ('rf', RandomForestClassifier(n_estimators=10, random_state=42)),\n",
        "    ('svr',LinearSVC(random_state=42)),\n",
        "    ('xgb',xgboost.XGBClassifier(objective=\"binary:logistic\", random_state=42))\n",
        "]\n",
        "\n",
        "stack1 = StackingClassifier(\n",
        "    estimators=estimators, final_estimator=LogisticRegression()\n",
        ")\n",
        "\n",
        "stack1.fit(train_X, train_y).score(val_X, val_y)"
      ],
      "execution_count": null,
      "outputs": []
    },
    {
      "cell_type": "code",
      "metadata": {
        "id": "KfH5M_k78Lfp"
      },
      "source": [
        "# show confusion matrix of benchmark prediction\n",
        "\n",
        "from sklearn.metrics import plot_confusion_matrix, accuracy_score\n",
        "\n",
        "print(\"Accuracy = {0:.4f}\".format(accuracy_score(val_y,stack1.predict(val_X))))\n",
        "plot_confusion_matrix(stack1, val_X, val_y, val_y.unique(), cmap=plt.cm.Blues)\n",
        "\n",
        "# 0.8204"
      ],
      "execution_count": null,
      "outputs": []
    },
    {
      "cell_type": "code",
      "metadata": {
        "scrolled": false,
        "id": "glBcbh3D8Lfq"
      },
      "source": [
        "results_df.loc[len(results_df)] = ['Stacking E-Model', accuracy_score(val_y,stack1.predict(val_X))]\n",
        "results_df"
      ],
      "execution_count": null,
      "outputs": []
    },
    {
      "cell_type": "code",
      "metadata": {
        "id": "gJTvbbHv8Lfq"
      },
      "source": [
        "# Export results_df ### make sure to adjust \n",
        "\n",
        "results_df.to_csv('results7fTest.csv', index=False)\n",
        "#results_df.to_csv(open('/content/drive/Shared drives/ML2 project/results7fTest.csv', 'w'), index=False)"
      ],
      "execution_count": null,
      "outputs": []
    },
    {
      "cell_type": "code",
      "metadata": {
        "id": "hF4w_YQ68Lfr"
      },
      "source": [
        "# Display results_df\n",
        "\n",
        "models = pd.DataFrame(results_df.iloc[:,0])\n",
        "accuracy = pd.DataFrame(round(results_df.iloc[:,1],5))\n",
        "\n",
        "df = pd.concat([models,accuracy],axis=1)\n",
        "\n",
        "import pandas as pd\n",
        "import numpy as np\n",
        "import matplotlib.pyplot as plt\n",
        "import six\n",
        "\n",
        "def render_mpl_table(data, col_width=10.0, row_height=0.625, font_size=14,\n",
        "                     header_color='#40466e', row_colors=['#f1f1f2', 'w'], edge_color='w',\n",
        "                     bbox=[0, 0, 1, 1], header_columns=0,\n",
        "                     ax=None, **kwargs):\n",
        "    if ax is None:\n",
        "        size = (np.array(data.shape[::-1]) + np.array([0, 1])) * np.array([col_width, row_height])\n",
        "        fig, ax = plt.subplots(figsize=size)\n",
        "        ax.axis('off')\n",
        "\n",
        "    mpl_table = ax.table(cellText=data.values, cellLoc='center', bbox=bbox, colLabels=data.columns, **kwargs)\n",
        "\n",
        "    mpl_table.auto_set_font_size(False)\n",
        "    mpl_table.set_fontsize(font_size)\n",
        "\n",
        "    for k, cell in six.iteritems(mpl_table._cells):\n",
        "        cell.set_edgecolor(edge_color)\n",
        "        if k[0] == 0 or k[1] < header_columns:\n",
        "            cell.set_text_props(weight='bold', color='w')\n",
        "            cell.set_facecolor(header_color)\n",
        "        else:\n",
        "            cell.set_facecolor(row_colors[k[0]%len(row_colors) ])\n",
        "    return ax\n",
        "\n",
        "render_mpl_table(df, header_columns=0, col_width=5.0)\n",
        "\n",
        "plt.savefig('results_df7fTest.png') # not for Google Collab"
      ],
      "execution_count": null,
      "outputs": []
    },
    {
      "cell_type": "code",
      "metadata": {
        "id": "Rnl7HjAf8Lfs"
      },
      "source": [
        ""
      ],
      "execution_count": null,
      "outputs": []
    }
  ]
}